{
 "cells": [
  {
   "cell_type": "code",
   "execution_count": 20,
   "metadata": {
    "collapsed": true
   },
   "outputs": [],
   "source": [
    "import torch\n",
    "from torch import nn, optim"
   ]
  },
  {
   "cell_type": "code",
   "execution_count": 5,
   "outputs": [],
   "source": [
    "class LR(nn.Module):\n",
    "    def __init__(self, input_size, output_size):\n",
    "        super(LR, self).__init__()\n",
    "        self.linear = nn.Linear(input_size, output_size)\n",
    "    def forward(self, x):\n",
    "        return self.linear(x)"
   ],
   "metadata": {
    "collapsed": false,
    "pycharm": {
     "name": "#%%\n"
    }
   }
  },
  {
   "cell_type": "code",
   "execution_count": 6,
   "outputs": [],
   "source": [
    "torch.manual_seed(1)\n",
    "model = LR(2, 2)"
   ],
   "metadata": {
    "collapsed": false,
    "pycharm": {
     "name": "#%%\n"
    }
   }
  },
  {
   "cell_type": "code",
   "execution_count": 7,
   "outputs": [
    {
     "data": {
      "text/plain": "OrderedDict([('linear.weight',\n              tensor([[ 0.3643, -0.3121],\n                      [-0.1371,  0.3319]])),\n             ('linear.bias', tensor([-0.6657,  0.4241]))])"
     },
     "execution_count": 7,
     "metadata": {},
     "output_type": "execute_result"
    }
   ],
   "source": [
    "model.state_dict()"
   ],
   "metadata": {
    "collapsed": false,
    "pycharm": {
     "name": "#%%\n"
    }
   }
  },
  {
   "cell_type": "code",
   "execution_count": 10,
   "outputs": [
    {
     "data": {
      "text/plain": "tensor([[-0.9256,  0.9508],\n        [-0.8211,  1.3404]], grad_fn=<AddmmBackward0>)"
     },
     "execution_count": 10,
     "metadata": {},
     "output_type": "execute_result"
    }
   ],
   "source": [
    "X = torch.tensor([[1., 2.], [3., 4.]])\n",
    "Y_hat = model(X)\n",
    "Y_hat"
   ],
   "metadata": {
    "collapsed": false,
    "pycharm": {
     "name": "#%%\n"
    }
   }
  },
  {
   "cell_type": "code",
   "execution_count": 11,
   "outputs": [],
   "source": [
    "from torch.utils.data import DataLoader, Dataset"
   ],
   "metadata": {
    "collapsed": false,
    "pycharm": {
     "name": "#%%\n"
    }
   }
  },
  {
   "cell_type": "code",
   "execution_count": 18,
   "outputs": [],
   "source": [
    "class Data2D(Dataset):\n",
    "    def __init__(self):\n",
    "        self.X = torch.zeros(20, 2)\n",
    "        self.X[:, 0] = torch.arange(-1, 1, 0.1)\n",
    "        self.X[:, 1] = torch.arange(-1, 1, 0.1)\n",
    "        self.W = torch.tensor([[1., -1.], [1., -1.]])\n",
    "        self.b = torch.tensor([[1., -1.]])\n",
    "        self.f = torch.mm(self.X, self.W) + self.b\n",
    "        self.Y = self.f + 0.1 * torch.randn(self.X.shape[0], 1)\n",
    "        self.len = self.X.shape[0]\n",
    "\n",
    "    def __getitem__(self, index):\n",
    "        return self.X[index], self.Y[index]\n",
    "\n",
    "    def __len__(self):\n",
    "        return self.len"
   ],
   "metadata": {
    "collapsed": false,
    "pycharm": {
     "name": "#%%\n"
    }
   }
  },
  {
   "cell_type": "code",
   "execution_count": 21,
   "outputs": [],
   "source": [
    "dataset = Data2D()\n",
    "criterion = nn.MSELoss()\n",
    "train_loader = DataLoader(dataset, batch_size=2)\n",
    "model = LR(2, 2)\n",
    "optimizer = optim.SGD(model.parameters(), lr=0.01)"
   ],
   "metadata": {
    "collapsed": false,
    "pycharm": {
     "name": "#%%\n"
    }
   }
  },
  {
   "cell_type": "code",
   "execution_count": 23,
   "outputs": [
    {
     "name": "stdout",
     "output_type": "stream",
     "text": [
      "0.4999174177646637\n",
      "0.2455206662416458\n",
      "0.0427880734205246\n",
      "0.011138588190078735\n",
      "0.11771691590547562\n",
      "0.2767329514026642\n",
      "0.5278823971748352\n",
      "0.8770573735237122\n",
      "1.3152861595153809\n",
      "1.8173129558563232\n",
      "0.4517742991447449\n",
      "0.22386020421981812\n",
      "0.040041230618953705\n",
      "0.00846117828041315\n",
      "0.098882295191288\n",
      "0.23446592688560486\n",
      "0.45234084129333496\n",
      "0.7552576661109924\n",
      "1.1376384496688843\n",
      "1.577116847038269\n",
      "0.40780729055404663\n",
      "0.2039402723312378\n",
      "0.03758663311600685\n",
      "0.00668607372790575\n",
      "0.08337852358818054\n",
      "0.19890975952148438\n",
      "0.38807404041290283\n",
      "0.6507617831230164\n",
      "0.9844090938568115\n",
      "1.3691763877868652\n",
      "0.36771878600120544\n",
      "0.18563878536224365\n",
      "0.03535854443907738\n",
      "0.005580506753176451\n",
      "0.07060354202985764\n",
      "0.16897466778755188\n",
      "0.33336520195007324\n",
      "0.561063289642334\n",
      "0.85218346118927\n",
      "1.1890952587127686\n",
      "0.3312242031097412\n",
      "0.16884349286556244\n",
      "0.033311255276203156\n",
      "0.004965678788721561\n",
      "0.06006542220711708\n",
      "0.14375115931034088\n",
      "0.28676387667655945\n",
      "0.4840259552001953\n",
      "0.7380326986312866\n",
      "1.0330859422683716\n",
      "0.2980530858039856\n",
      "0.15345022082328796\n",
      "0.03141341358423233\n",
      "0.004704997409135103\n",
      "0.05136209726333618\n",
      "0.12248000502586365\n",
      "0.24704474210739136\n",
      "0.41782844066619873\n",
      "0.6394441723823547\n",
      "0.8978846073150635\n",
      "0.26794782280921936\n",
      "0.13936112821102142\n",
      "0.02964373119175434\n",
      "0.004694731906056404\n",
      "0.044164855033159256\n",
      "0.10452671349048615\n",
      "0.2131708860397339\n",
      "0.3609163165092468\n",
      "0.5542608499526978\n",
      "0.7806771993637085\n",
      "0.24066486954689026\n",
      "0.1264837682247162\n",
      "0.027987739071249962\n",
      "0.004856660030782223\n",
      "0.038204874843358994\n",
      "0.08936081826686859\n",
      "0.18426483869552612\n",
      "0.31196266412734985\n",
      "0.48063021898269653\n",
      "0.6790354251861572\n",
      "0.21597424149513245\n",
      "0.11473076790571213\n",
      "0.026435773819684982\n",
      "0.005132305435836315\n",
      "0.033262111246585846\n",
      "0.0765385776758194\n",
      "0.15958374738693237\n",
      "0.26983386278152466\n",
      "0.41696035861968994\n",
      "0.5908644795417786\n",
      "0.1936599314212799\n",
      "0.10401929169893265\n",
      "0.024981170892715454\n",
      "0.005478392355144024\n",
      "0.029156459495425224\n",
      "0.06568832695484161\n",
      "0.13849776983261108\n",
      "0.23356124758720398\n",
      "0.3618823289871216\n",
      "0.5143558979034424\n"
     ]
    }
   ],
   "source": [
    "for epoch in range(10):\n",
    "    for x, y in train_loader:\n",
    "        y_hat = model(x)\n",
    "        loss = criterion(y_hat, y)\n",
    "        print(loss.item())\n",
    "        optimizer.zero_grad()\n",
    "        loss.backward()\n",
    "        optimizer.step()"
   ],
   "metadata": {
    "collapsed": false,
    "pycharm": {
     "name": "#%%\n"
    }
   }
  },
  {
   "cell_type": "code",
   "execution_count": null,
   "outputs": [],
   "source": [],
   "metadata": {
    "collapsed": false,
    "pycharm": {
     "name": "#%%\n"
    }
   }
  }
 ],
 "metadata": {
  "kernelspec": {
   "display_name": "Python 3",
   "language": "python",
   "name": "python3"
  },
  "language_info": {
   "codemirror_mode": {
    "name": "ipython",
    "version": 2
   },
   "file_extension": ".py",
   "mimetype": "text/x-python",
   "name": "python",
   "nbconvert_exporter": "python",
   "pygments_lexer": "ipython2",
   "version": "2.7.6"
  }
 },
 "nbformat": 4,
 "nbformat_minor": 0
}