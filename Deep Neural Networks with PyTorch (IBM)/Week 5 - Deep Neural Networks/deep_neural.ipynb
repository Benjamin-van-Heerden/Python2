{
 "cells": [
  {
   "cell_type": "code",
   "execution_count": 2,
   "metadata": {
    "collapsed": true
   },
   "outputs": [],
   "source": [
    "import torch\n",
    "from torch import nn\n",
    "import torchvision.datasets as torch_data\n",
    "from torchvision import transforms\n",
    "from torch.utils.data import DataLoader\n",
    "import matplotlib.pyplot as plt"
   ]
  },
  {
   "cell_type": "code",
   "execution_count": 3,
   "outputs": [],
   "source": [
    "class Net(nn.Module):\n",
    "    def __init__(self, D_in, H1, H2, D_out):\n",
    "        super(Net, self).__init__()\n",
    "        self.l1_hidden = nn.Linear(D_in, H1)\n",
    "        self.l2_hidden = nn.Linear(H1, H2)\n",
    "        self.l3_out = nn.Linear(H2, D_out)\n",
    "\n",
    "    def forward(self, x, activation=None):\n",
    "        if activation is None:\n",
    "            a_func = nn.SiLU()\n",
    "            a1 = a_func(self.l1_hidden(x))\n",
    "            a2 = a_func(self.l2_hidden(a1))\n",
    "            y_hat = self.l3_out(a2)\n",
    "        elif activation == \"sigmoid\":\n",
    "            a1 = torch.sigmoid(self.l1_hidden(x))\n",
    "            a2 = torch.sigmoid(self.l2_hidden(a1))\n",
    "            y_hat = self.l3_out(a2)\n",
    "        elif activation == \"tanh\":\n",
    "            a1 = torch.tanh(self.l1_hidden(x))\n",
    "            a2 = torch.tanh(self.l2_hidden(a1))\n",
    "            y_hat = self.l3_out(a2)\n",
    "        elif activation == \"relu\":\n",
    "            a1 = torch.relu(self.l1_hidden(x))\n",
    "            a2 = torch.relu(self.l2_hidden(a1))\n",
    "            y_hat = self.l3_out(a2)\n",
    "        return y_hat"
   ],
   "metadata": {
    "collapsed": false,
    "pycharm": {
     "name": "#%%\n"
    }
   }
  },
  {
   "cell_type": "code",
   "execution_count": 4,
   "outputs": [],
   "source": [
    "# can also use the Sequential API\n",
    "\n",
    "# D_in = 5\n",
    "# H1 = 4\n",
    "# H2 = 4\n",
    "# D_out = 2\n",
    "#\n",
    "# model = nn.Sequential(\n",
    "#     nn.Linear(D_in, H1),\n",
    "#     nn.SiLU(),\n",
    "#     nn.Linear(H1, H2),\n",
    "#     nn.SiLU(),\n",
    "#     nn.Linear(H2, D_out)\n",
    "# )"
   ],
   "metadata": {
    "collapsed": false,
    "pycharm": {
     "name": "#%%\n"
    }
   }
  },
  {
   "cell_type": "code",
   "execution_count": 5,
   "outputs": [],
   "source": [
    "train_data = torch_data.MNIST(root=\"./data\", train=True, download=True, transform=transforms.ToTensor())\n",
    "validation_data = torch_data.MNIST(root=\"./data\", train=False, download=True, transform=transforms.ToTensor())"
   ],
   "metadata": {
    "collapsed": false,
    "pycharm": {
     "name": "#%%\n"
    }
   }
  },
  {
   "cell_type": "code",
   "execution_count": 6,
   "outputs": [],
   "source": [
    "train_loader = DataLoader(train_data, batch_size=128)\n",
    "validation_loader = DataLoader(validation_data, batch_size=5000)"
   ],
   "metadata": {
    "collapsed": false,
    "pycharm": {
     "name": "#%%\n"
    }
   }
  },
  {
   "cell_type": "code",
   "execution_count": 7,
   "outputs": [],
   "source": [
    "criterion = nn.CrossEntropyLoss()"
   ],
   "metadata": {
    "collapsed": false,
    "pycharm": {
     "name": "#%%\n"
    }
   }
  },
  {
   "cell_type": "code",
   "execution_count": 8,
   "outputs": [],
   "source": [
    "def train(model, criterion, train_loader, validation_loader, optimizer, epochs=5):\n",
    "    metrics = {\n",
    "        \"training_loss\": [],\n",
    "        \"validation_accuracy\": []\n",
    "    }\n",
    "    for epoch in range(epochs):\n",
    "        print(f\"########## Starting epoch {epoch + 1} ##########\")\n",
    "        for i, (x, y) in enumerate(train_loader):\n",
    "            optimizer.zero_grad()\n",
    "            y_hat = model(x.view(-1, 28 * 28))\n",
    "            loss = criterion(y_hat, y)\n",
    "            loss.backward()\n",
    "            optimizer.step()\n",
    "\n",
    "        metrics[\"training_loss\"].append(loss.item())\n",
    "        print(f\"Train epoch {epoch + 1} finished.\")\n",
    "        print(f\"\\tTrain Loss: {loss.item()}\")\n",
    "\n",
    "        correct = 0\n",
    "        for x, y in validation_loader:\n",
    "            y_hat = model(x.view(-1, 28 * 28))\n",
    "            _, label = torch.max(y_hat, 1)\n",
    "            correct += (label == y).sum().item()\n",
    "        acc = 100 * (correct / len(validation_data))\n",
    "\n",
    "        metrics[\"validation_accuracy\"].append(acc)\n",
    "        print(f\"\\tValidation Acc: {acc}\")\n",
    "\n",
    "    return metrics"
   ],
   "metadata": {
    "collapsed": false,
    "pycharm": {
     "name": "#%%\n"
    }
   }
  },
  {
   "cell_type": "code",
   "execution_count": 9,
   "outputs": [
    {
     "name": "stdout",
     "output_type": "stream",
     "text": [
      "########## Starting epoch 1 ##########\n",
      "Train epoch 1 finished.\n",
      "\tTrain Loss: 0.27795395255088806\n",
      "\tValidation Acc: 95.42\n",
      "########## Starting epoch 2 ##########\n",
      "Train epoch 2 finished.\n",
      "\tTrain Loss: 0.18669460713863373\n",
      "\tValidation Acc: 95.45\n",
      "########## Starting epoch 3 ##########\n",
      "Train epoch 3 finished.\n",
      "\tTrain Loss: 0.2650325894355774\n",
      "\tValidation Acc: 94.28\n",
      "########## Starting epoch 4 ##########\n",
      "Train epoch 4 finished.\n",
      "\tTrain Loss: 0.18133170902729034\n",
      "\tValidation Acc: 96.12\n",
      "########## Starting epoch 5 ##########\n",
      "Train epoch 5 finished.\n",
      "\tTrain Loss: 0.15105676651000977\n",
      "\tValidation Acc: 96.22\n",
      "########## Starting epoch 6 ##########\n",
      "Train epoch 6 finished.\n",
      "\tTrain Loss: 0.10691729933023453\n",
      "\tValidation Acc: 96.95\n",
      "########## Starting epoch 7 ##########\n",
      "Train epoch 7 finished.\n",
      "\tTrain Loss: 0.05282703414559364\n",
      "\tValidation Acc: 96.23\n",
      "########## Starting epoch 8 ##########\n",
      "Train epoch 8 finished.\n",
      "\tTrain Loss: 0.08510714024305344\n",
      "\tValidation Acc: 96.54\n",
      "########## Starting epoch 9 ##########\n",
      "Train epoch 9 finished.\n",
      "\tTrain Loss: 0.04822622239589691\n",
      "\tValidation Acc: 96.82\n",
      "########## Starting epoch 10 ##########\n",
      "Train epoch 10 finished.\n",
      "\tTrain Loss: 0.0864974856376648\n",
      "\tValidation Acc: 96.99\n",
      "########## Starting epoch 11 ##########\n",
      "Train epoch 11 finished.\n",
      "\tTrain Loss: 0.06170011684298515\n",
      "\tValidation Acc: 96.75\n",
      "########## Starting epoch 12 ##########\n",
      "Train epoch 12 finished.\n",
      "\tTrain Loss: 0.46159061789512634\n",
      "\tValidation Acc: 97.11999999999999\n",
      "########## Starting epoch 13 ##########\n",
      "Train epoch 13 finished.\n",
      "\tTrain Loss: 0.024068482220172882\n",
      "\tValidation Acc: 96.96000000000001\n",
      "########## Starting epoch 14 ##########\n",
      "Train epoch 14 finished.\n",
      "\tTrain Loss: 0.06346645206212997\n",
      "\tValidation Acc: 97.18\n",
      "########## Starting epoch 15 ##########\n",
      "Train epoch 15 finished.\n",
      "\tTrain Loss: 0.05698658525943756\n",
      "\tValidation Acc: 97.00999999999999\n",
      "########## Starting epoch 16 ##########\n",
      "Train epoch 16 finished.\n",
      "\tTrain Loss: 0.030997231602668762\n",
      "\tValidation Acc: 96.72\n",
      "########## Starting epoch 17 ##########\n",
      "Train epoch 17 finished.\n",
      "\tTrain Loss: 0.026144148781895638\n",
      "\tValidation Acc: 97.07000000000001\n",
      "########## Starting epoch 18 ##########\n",
      "Train epoch 18 finished.\n",
      "\tTrain Loss: 0.0437663197517395\n",
      "\tValidation Acc: 97.11\n",
      "########## Starting epoch 19 ##########\n",
      "Train epoch 19 finished.\n",
      "\tTrain Loss: 0.14351031184196472\n",
      "\tValidation Acc: 97.18\n",
      "########## Starting epoch 20 ##########\n",
      "Train epoch 20 finished.\n",
      "\tTrain Loss: 0.019298532977700233\n",
      "\tValidation Acc: 97.00999999999999\n"
     ]
    }
   ],
   "source": [
    "model = Net(784, 128, 128, 10)\n",
    "optimizer = torch.optim.Adam(model.parameters(), lr=0.01)\n",
    "train_metrics = train(model, criterion, train_loader, validation_loader, optimizer, epochs=20)"
   ],
   "metadata": {
    "collapsed": false,
    "pycharm": {
     "name": "#%%\n"
    }
   }
  },
  {
   "cell_type": "code",
   "execution_count": 10,
   "outputs": [
    {
     "data": {
      "text/plain": "<Figure size 432x288 with 1 Axes>",
      "image/png": "[encoded data removed]"
     },
     "metadata": {
      "needs_background": "light"
     },
     "output_type": "display_data"
    },
    {
     "data": {
      "text/plain": "<Figure size 432x288 with 1 Axes>",
      "image/png": "[encoded data removed]"
     },
     "metadata": {
      "needs_background": "light"
     },
     "output_type": "display_data"
    }
   ],
   "source": [
    "# plot the data\n",
    "plt.plot(train_metrics[\"validation_accuracy\"], label=\"Accuracy\")\n",
    "plt.show()\n",
    "plt.plot(train_metrics[\"training_loss\"], label=\"Loss\")\n",
    "plt.show()"
   ],
   "metadata": {
    "collapsed": false,
    "pycharm": {
     "name": "#%%\n"
    }
   }
  },
  {
   "cell_type": "code",
   "execution_count": 10,
   "outputs": [],
   "source": [],
   "metadata": {
    "collapsed": false,
    "pycharm": {
     "name": "#%%\n"
    }
   }
  },
  {
   "cell_type": "code",
   "execution_count": null,
   "outputs": [],
   "source": [],
   "metadata": {
    "collapsed": false,
    "pycharm": {
     "name": "#%%\n"
    }
   }
  }
 ],
 "metadata": {
  "kernelspec": {
   "display_name": "Python 3",
   "language": "python",
   "name": "python3"
  },
  "language_info": {
   "codemirror_mode": {
    "name": "ipython",
    "version": 2
   },
   "file_extension": ".py",
   "mimetype": "text/x-python",
   "name": "python",
   "nbconvert_exporter": "python",
   "pygments_lexer": "ipython2",
   "version": "2.7.6"
  }
 },
 "nbformat": 4,
 "nbformat_minor": 0
}