{
 "cells": [
  {
   "cell_type": "code",
   "execution_count": 2,
   "metadata": {
    "collapsed": true
   },
   "outputs": [],
   "source": [
    "# adding more and more layers is time consuming and ineffective\n",
    "import torch\n",
    "from torch import nn\n",
    "import torchvision.datasets as torch_data\n",
    "from torchvision import transforms\n",
    "from torch.utils.data import DataLoader\n",
    "import matplotlib.pyplot as plt"
   ]
  },
  {
   "cell_type": "code",
   "execution_count": 3,
   "outputs": [],
   "source": [
    "class Net(nn.Module):\n",
    "    def __init__(self, layers):\n",
    "        super(Net, self).__init__()\n",
    "        self.hidden = nn.ModuleList()\n",
    "        for input_size, output_size in zip(layers[:-1], layers[1:]):\n",
    "            self.hidden.append(nn.Linear(input_size, output_size))\n",
    "\n",
    "    def forward(self, activation):\n",
    "        l = len(self.hidden)\n",
    "        activation_function = nn.SiLU()\n",
    "        for (i, layer) in enumerate(self.hidden):\n",
    "            if i < l - 1:\n",
    "                activation = activation_function(layer(activation))\n",
    "            else:\n",
    "                activation = layer(activation)\n",
    "        return activation"
   ],
   "metadata": {
    "collapsed": false,
    "pycharm": {
     "name": "#%%\n"
    }
   }
  },
  {
   "cell_type": "code",
   "execution_count": 4,
   "outputs": [],
   "source": [
    "train_data = torch_data.MNIST(root=\"./data\", train=True, download=True, transform=transforms.ToTensor())\n",
    "validation_data = torch_data.MNIST(root=\"./data\", train=False, download=True, transform=transforms.ToTensor())"
   ],
   "metadata": {
    "collapsed": false,
    "pycharm": {
     "name": "#%%\n"
    }
   }
  },
  {
   "cell_type": "code",
   "execution_count": 5,
   "outputs": [],
   "source": [
    "train_loader = DataLoader(train_data, batch_size=128)\n",
    "validation_loader = DataLoader(validation_data, batch_size=5000)"
   ],
   "metadata": {
    "collapsed": false,
    "pycharm": {
     "name": "#%%\n"
    }
   }
  },
  {
   "cell_type": "code",
   "execution_count": 6,
   "outputs": [],
   "source": [
    "criterion = nn.CrossEntropyLoss()"
   ],
   "metadata": {
    "collapsed": false,
    "pycharm": {
     "name": "#%%\n"
    }
   }
  },
  {
   "cell_type": "code",
   "execution_count": 7,
   "outputs": [],
   "source": [
    "def train(model, criterion, train_loader, validation_loader, optimizer, epochs=5):\n",
    "    metrics = {\n",
    "        \"training_loss\": [],\n",
    "        \"validation_accuracy\": []\n",
    "    }\n",
    "    for epoch in range(epochs):\n",
    "        print(f\"########## Starting epoch {epoch + 1} ##########\")\n",
    "        for i, (x, y) in enumerate(train_loader):\n",
    "            optimizer.zero_grad()\n",
    "            y_hat = model(x.view(-1, 28 * 28))\n",
    "            loss = criterion(y_hat, y)\n",
    "            loss.backward()\n",
    "            optimizer.step()\n",
    "\n",
    "        metrics[\"training_loss\"].append(loss.item())\n",
    "        print(f\"Train epoch {epoch + 1} finished.\")\n",
    "        print(f\"\\tTrain Loss: {loss.item()}\")\n",
    "\n",
    "        correct = 0\n",
    "        for x, y in validation_loader:\n",
    "            y_hat = model(x.view(-1, 28 * 28))\n",
    "            _, label = torch.max(y_hat, 1)\n",
    "            correct += (label == y).sum().item()\n",
    "        acc = 100 * (correct / len(validation_data))\n",
    "\n",
    "        metrics[\"validation_accuracy\"].append(acc)\n",
    "        print(f\"\\tValidation Acc: {acc}\")\n",
    "\n",
    "    return metrics"
   ],
   "metadata": {
    "collapsed": false,
    "pycharm": {
     "name": "#%%\n"
    }
   }
  },
  {
   "cell_type": "code",
   "execution_count": 8,
   "outputs": [
    {
     "name": "stdout",
     "output_type": "stream",
     "text": [
      "########## Starting epoch 1 ##########\n",
      "Train epoch 1 finished.\n",
      "\tTrain Loss: 0.2942415773868561\n",
      "\tValidation Acc: 91.97\n",
      "########## Starting epoch 2 ##########\n",
      "Train epoch 2 finished.\n",
      "\tTrain Loss: 0.24723078310489655\n",
      "\tValidation Acc: 93.64\n",
      "########## Starting epoch 3 ##########\n",
      "Train epoch 3 finished.\n",
      "\tTrain Loss: 0.22591398656368256\n",
      "\tValidation Acc: 94.78\n",
      "########## Starting epoch 4 ##########\n",
      "Train epoch 4 finished.\n",
      "\tTrain Loss: 0.206899955868721\n",
      "\tValidation Acc: 95.28\n",
      "########## Starting epoch 5 ##########\n",
      "Train epoch 5 finished.\n",
      "\tTrain Loss: 0.18519772589206696\n",
      "\tValidation Acc: 95.78\n",
      "########## Starting epoch 6 ##########\n",
      "Train epoch 6 finished.\n",
      "\tTrain Loss: 0.1735905557870865\n",
      "\tValidation Acc: 96.41999999999999\n",
      "########## Starting epoch 7 ##########\n",
      "Train epoch 7 finished.\n",
      "\tTrain Loss: 0.17251108586788177\n",
      "\tValidation Acc: 96.84\n",
      "########## Starting epoch 8 ##########\n",
      "Train epoch 8 finished.\n",
      "\tTrain Loss: 0.17376869916915894\n",
      "\tValidation Acc: 96.97\n",
      "########## Starting epoch 9 ##########\n",
      "Train epoch 9 finished.\n",
      "\tTrain Loss: 0.16479027271270752\n",
      "\tValidation Acc: 96.99\n",
      "########## Starting epoch 10 ##########\n",
      "Train epoch 10 finished.\n",
      "\tTrain Loss: 0.15158767998218536\n",
      "\tValidation Acc: 97.03\n",
      "########## Starting epoch 11 ##########\n",
      "Train epoch 11 finished.\n",
      "\tTrain Loss: 0.13301953673362732\n",
      "\tValidation Acc: 96.86\n",
      "########## Starting epoch 12 ##########\n",
      "Train epoch 12 finished.\n",
      "\tTrain Loss: 0.11829312890768051\n",
      "\tValidation Acc: 96.78\n",
      "########## Starting epoch 13 ##########\n",
      "Train epoch 13 finished.\n",
      "\tTrain Loss: 0.11047586053609848\n",
      "\tValidation Acc: 96.37\n",
      "########## Starting epoch 14 ##########\n",
      "Train epoch 14 finished.\n",
      "\tTrain Loss: 0.07970359176397324\n",
      "\tValidation Acc: 96.50999999999999\n",
      "########## Starting epoch 15 ##########\n",
      "Train epoch 15 finished.\n",
      "\tTrain Loss: 0.06719956547021866\n",
      "\tValidation Acc: 96.86\n",
      "########## Starting epoch 16 ##########\n",
      "Train epoch 16 finished.\n",
      "\tTrain Loss: 0.03428789600729942\n",
      "\tValidation Acc: 97.38\n",
      "########## Starting epoch 17 ##########\n",
      "Train epoch 17 finished.\n",
      "\tTrain Loss: 0.049157071858644485\n",
      "\tValidation Acc: 97.23\n",
      "########## Starting epoch 18 ##########\n",
      "Train epoch 18 finished.\n",
      "\tTrain Loss: 0.037234313786029816\n",
      "\tValidation Acc: 97.00999999999999\n",
      "########## Starting epoch 19 ##########\n",
      "Train epoch 19 finished.\n",
      "\tTrain Loss: 0.02274876832962036\n",
      "\tValidation Acc: 97.38\n",
      "########## Starting epoch 20 ##########\n",
      "Train epoch 20 finished.\n",
      "\tTrain Loss: 0.00509516941383481\n",
      "\tValidation Acc: 97.00999999999999\n"
     ]
    }
   ],
   "source": [
    "layers = [784, 64, 64, 64, 10]\n",
    "model = Net(layers)\n",
    "optimizer = torch.optim.Adam(model.parameters(), lr=0.001)\n",
    "train_metrics = train(model, criterion, train_loader, validation_loader, optimizer, epochs=20)"
   ],
   "metadata": {
    "collapsed": false,
    "pycharm": {
     "name": "#%%\n"
    }
   }
  },
  {
   "cell_type": "code",
   "execution_count": 9,
   "outputs": [
    {
     "data": {
      "text/plain": "<Figure size 432x288 with 1 Axes>",
      "image/png": "[encoded data removed]"
     },
     "metadata": {
      "needs_background": "light"
     },
     "output_type": "display_data"
    },
    {
     "data": {
      "text/plain": "<Figure size 432x288 with 1 Axes>",
      "image/png": "[encoded data removed]"
     },
     "metadata": {
      "needs_background": "light"
     },
     "output_type": "display_data"
    }
   ],
   "source": [
    "# plot the data\n",
    "plt.plot(train_metrics[\"validation_accuracy\"], label=\"Accuracy\")\n",
    "plt.show()\n",
    "plt.plot(train_metrics[\"training_loss\"], label=\"Loss\")\n",
    "plt.show()"
   ],
   "metadata": {
    "collapsed": false,
    "pycharm": {
     "name": "#%%\n"
    }
   }
  },
  {
   "cell_type": "code",
   "execution_count": null,
   "outputs": [],
   "source": [],
   "metadata": {
    "collapsed": false,
    "pycharm": {
     "name": "#%%\n"
    }
   }
  }
 ],
 "metadata": {
  "kernelspec": {
   "display_name": "Python 3",
   "language": "python",
   "name": "python3"
  },
  "language_info": {
   "codemirror_mode": {
    "name": "ipython",
    "version": 2
   },
   "file_extension": ".py",
   "mimetype": "text/x-python",
   "name": "python",
   "nbconvert_exporter": "python",
   "pygments_lexer": "ipython2",
   "version": "2.7.6"
  }
 },
 "nbformat": 4,
 "nbformat_minor": 0
}