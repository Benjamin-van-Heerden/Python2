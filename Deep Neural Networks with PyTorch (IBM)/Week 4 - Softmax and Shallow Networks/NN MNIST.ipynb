{
 "cells": [
  {
   "cell_type": "code",
   "execution_count": 1,
   "metadata": {
    "collapsed": true
   },
   "outputs": [],
   "source": [
    "import torch\n",
    "from torch import nn, optim, sigmoid\n",
    "from torch.utils.data import DataLoader\n",
    "from torchvision import transforms\n",
    "import torchvision.datasets as torch_data"
   ]
  },
  {
   "cell_type": "code",
   "execution_count": 2,
   "outputs": [],
   "source": [
    "train_data = torch_data.MNIST(root=\"./data\", train=True, download=True, transform=transforms.ToTensor())\n",
    "validation_data = torch_data.MNIST(root=\"./data\", train=False, download=True, transform=transforms.ToTensor())"
   ],
   "metadata": {
    "collapsed": false,
    "pycharm": {
     "name": "#%%\n"
    }
   }
  },
  {
   "cell_type": "code",
   "execution_count": 3,
   "outputs": [],
   "source": [
    "import matplotlib.pyplot as plt\n",
    "import numpy as np"
   ],
   "metadata": {
    "collapsed": false,
    "pycharm": {
     "name": "#%%\n"
    }
   }
  },
  {
   "cell_type": "code",
   "execution_count": 4,
   "outputs": [
    {
     "data": {
      "text/plain": "<Figure size 432x288 with 1 Axes>",
      "image/png": "[encoded data removed]"
     },
     "metadata": {
      "needs_background": "light"
     },
     "output_type": "display_data"
    },
    {
     "name": "stdout",
     "output_type": "stream",
     "text": [
      "This is a 3\n"
     ]
    }
   ],
   "source": [
    "r_ix = np.random.randint(0, len(train_data) - 1)\n",
    "\n",
    "plt.imshow(train_data[r_ix][0][0], cmap=\"gray\")\n",
    "plt.show()\n",
    "print(f\"This is a {train_data[r_ix][1]}\")"
   ],
   "metadata": {
    "collapsed": false,
    "pycharm": {
     "name": "#%%\n"
    }
   }
  },
  {
   "cell_type": "code",
   "execution_count": 5,
   "outputs": [],
   "source": [
    "class MultiClassNeuralNet(nn.Module):\n",
    "    def __init__(self, IN, H, OUT):\n",
    "        super(MultiClassNeuralNet, self).__init__()\n",
    "        self.hidden = nn.Linear(IN, H)\n",
    "        self.output = nn.Linear(H, OUT)\n",
    "\n",
    "    def forward(self, x):\n",
    "        z1 = self.hidden(x)\n",
    "        a1 = sigmoid(z1)\n",
    "        y_hat = self.output(a1)\n",
    "        return y_hat"
   ],
   "metadata": {
    "collapsed": false,
    "pycharm": {
     "name": "#%%\n"
    }
   }
  },
  {
   "cell_type": "code",
   "execution_count": 6,
   "outputs": [],
   "source": [
    "input_dim = 28 * 28\n",
    "hidden_units = 64\n",
    "output_dim = 10\n",
    "\n",
    "model = MultiClassNeuralNet(input_dim, hidden_units, output_dim)"
   ],
   "metadata": {
    "collapsed": false,
    "pycharm": {
     "name": "#%%\n"
    }
   }
  },
  {
   "cell_type": "code",
   "execution_count": 7,
   "outputs": [
    {
     "name": "stdout",
     "output_type": "stream",
     "text": [
      "Input size = 784\n",
      "W_h: torch.Size([64, 784])\n",
      "b_h: torch.Size([64])\n",
      "W_out: torch.Size([10, 64])\n",
      "b_out: torch.Size([10])\n",
      "Output size = 10\n"
     ]
    }
   ],
   "source": [
    "print(f\"Input size = {input_dim}\")\n",
    "print(\"W_h:\", list(model.parameters())[0].size())\n",
    "print(\"b_h:\", list(model.parameters())[1].size())\n",
    "print(\"W_out:\", list(model.parameters())[2].size())\n",
    "print(\"b_out:\", list(model.parameters())[3].size())\n",
    "print(f\"Output size = {output_dim}\")"
   ],
   "metadata": {
    "collapsed": false,
    "pycharm": {
     "name": "#%%\n"
    }
   }
  },
  {
   "cell_type": "code",
   "execution_count": 8,
   "outputs": [
    {
     "name": "stdout",
     "output_type": "stream",
     "text": [
      "MultiClassNeuralNet(\n",
      "  (hidden): Linear(in_features=784, out_features=64, bias=True)\n",
      "  (output): Linear(in_features=64, out_features=10, bias=True)\n",
      ")\n"
     ]
    }
   ],
   "source": [
    "print(model)"
   ],
   "metadata": {
    "collapsed": false,
    "pycharm": {
     "name": "#%%\n"
    }
   }
  },
  {
   "cell_type": "code",
   "execution_count": 9,
   "outputs": [
    {
     "name": "stderr",
     "output_type": "stream",
     "text": [
      "C:\\Development\\Anaconda3\\lib\\site-packages\\torch\\_tensor.py:493: UserWarning: non-inplace resize is deprecated\n",
      "  warnings.warn(\"non-inplace resize is deprecated\")\n"
     ]
    },
    {
     "data": {
      "text/plain": "<Figure size 432x288 with 1 Axes>",
      "image/png": "[encoded data removed]"
     },
     "metadata": {
      "needs_background": "light"
     },
     "output_type": "display_data"
    }
   ],
   "source": [
    "W1 = list(model.parameters())[0][0].resize(28, 28)\n",
    "plt.imshow(W1.detach().numpy(), cmap=\"jet\")\n",
    "plt.show()"
   ],
   "metadata": {
    "collapsed": false,
    "pycharm": {
     "name": "#%%\n"
    }
   }
  },
  {
   "cell_type": "code",
   "execution_count": 10,
   "outputs": [],
   "source": [
    "criterion = nn.CrossEntropyLoss()\n",
    "optimizer = optim.Adam(model.parameters(), lr=0.01)"
   ],
   "metadata": {
    "collapsed": false,
    "pycharm": {
     "name": "#%%\n"
    }
   }
  },
  {
   "cell_type": "code",
   "execution_count": 11,
   "outputs": [],
   "source": [
    "train_loader = DataLoader(dataset=train_data, batch_size=128)\n",
    "validation_loader = DataLoader(dataset=validation_data, batch_size=5000)"
   ],
   "metadata": {
    "collapsed": false,
    "pycharm": {
     "name": "#%%\n"
    }
   }
  },
  {
   "cell_type": "code",
   "execution_count": 12,
   "outputs": [
    {
     "name": "stdout",
     "output_type": "stream",
     "text": [
      "Train epoch 0 done:\n",
      "\tloss = 0.2401672750711441\n",
      "Evaluation done:\n",
      "\tval_accuracy = 0.9446\n",
      "#####################\n",
      "Train epoch 1 done:\n",
      "\tloss = 0.1918775588274002\n",
      "Evaluation done:\n",
      "\tval_accuracy = 0.9538\n",
      "#####################\n",
      "Train epoch 2 done:\n",
      "\tloss = 0.14790166914463043\n",
      "Evaluation done:\n",
      "\tval_accuracy = 0.9582\n",
      "#####################\n",
      "Train epoch 3 done:\n",
      "\tloss = 0.10996458679437637\n",
      "Evaluation done:\n",
      "\tval_accuracy = 0.9613\n",
      "#####################\n",
      "Train epoch 4 done:\n",
      "\tloss = 0.11310487240552902\n",
      "Evaluation done:\n",
      "\tval_accuracy = 0.9601\n",
      "#####################\n",
      "Train epoch 5 done:\n",
      "\tloss = 0.1115766167640686\n",
      "Evaluation done:\n",
      "\tval_accuracy = 0.9608\n",
      "#####################\n",
      "Train epoch 6 done:\n",
      "\tloss = 0.09778156131505966\n",
      "Evaluation done:\n",
      "\tval_accuracy = 0.9606\n",
      "#####################\n",
      "Train epoch 7 done:\n",
      "\tloss = 0.08802446722984314\n",
      "Evaluation done:\n",
      "\tval_accuracy = 0.9641\n",
      "#####################\n",
      "Train epoch 8 done:\n",
      "\tloss = 0.09193768352270126\n",
      "Evaluation done:\n",
      "\tval_accuracy = 0.9643\n",
      "#####################\n",
      "Train epoch 9 done:\n",
      "\tloss = 0.08195304125547409\n",
      "Evaluation done:\n",
      "\tval_accuracy = 0.9625\n",
      "#####################\n"
     ]
    }
   ],
   "source": [
    "# train the model\n",
    "n_epochs = 10\n",
    "accuracy_list = []\n",
    "loss_list = []\n",
    "\n",
    "for epoch in range(n_epochs):\n",
    "    # train on training set\n",
    "    for x, y in train_loader:\n",
    "        optimizer.zero_grad()\n",
    "        z = model(x.view(-1, 28 * 28))\n",
    "        loss = criterion(z, y)\n",
    "        loss.backward()\n",
    "        optimizer.step()\n",
    "    loss_list.append(loss.item())\n",
    "    print(f\"Train epoch {epoch} done:\\n\\tloss = {loss.item()}\")\n",
    "\n",
    "    # evaluate\n",
    "    correct = 0\n",
    "    for x_test, y_test in validation_loader:\n",
    "        z = model(x_test.view(-1, 28 * 28))\n",
    "        _, y_hat = torch.max(z.data, 1)\n",
    "        correct = correct + (y_hat == y_test).sum().item()\n",
    "    accuracy = correct / len(validation_data)\n",
    "    print(f\"Evaluation done:\\n\\tval_accuracy = {accuracy}\\n#####################\")\n",
    "    accuracy_list.append(accuracy)"
   ],
   "metadata": {
    "collapsed": false,
    "pycharm": {
     "name": "#%%\n"
    }
   }
  },
  {
   "cell_type": "code",
   "execution_count": 13,
   "outputs": [
    {
     "data": {
      "text/plain": "<Figure size 432x288 with 1 Axes>",
      "image/png": "[encoded data removed]"
     },
     "metadata": {
      "needs_background": "light"
     },
     "output_type": "display_data"
    }
   ],
   "source": [
    "# lets see what the weights look like now\n",
    "W1 = list(model.parameters())[0][0].resize(28, 28)\n",
    "plt.imshow(W1.detach().numpy(), cmap=\"jet\")\n",
    "plt.show()"
   ],
   "metadata": {
    "collapsed": false,
    "pycharm": {
     "name": "#%%\n"
    }
   }
  },
  {
   "cell_type": "code",
   "execution_count": null,
   "outputs": [],
   "source": [],
   "metadata": {
    "collapsed": false,
    "pycharm": {
     "name": "#%%\n"
    }
   }
  }
 ],
 "metadata": {
  "kernelspec": {
   "display_name": "Python 3",
   "language": "python",
   "name": "python3"
  },
  "language_info": {
   "codemirror_mode": {
    "name": "ipython",
    "version": 2
   },
   "file_extension": ".py",
   "mimetype": "text/x-python",
   "name": "python",
   "nbconvert_exporter": "python",
   "pygments_lexer": "ipython2",
   "version": "2.7.6"
  }
 },
 "nbformat": 4,
 "nbformat_minor": 0
}