{
 "cells": [
  {
   "cell_type": "code",
   "execution_count": 8,
   "metadata": {
    "collapsed": true
   },
   "outputs": [],
   "source": [
    "import torch\n",
    "from torch import nn, sigmoid, optim\n",
    "from torch.utils.data import DataLoader, Dataset"
   ]
  },
  {
   "cell_type": "code",
   "execution_count": 6,
   "outputs": [],
   "source": [
    "class Data(Dataset):\n",
    "    def __init__(self):\n",
    "        self.x = torch.linspace(-20, 20, 100).view(-1, 1)\n",
    "        self.y = torch.zeros(self.x.shape[0])\n",
    "        self.y[(self.x[:, 0] > -10) & (self.x[:, 0] > -5)] = 1\n",
    "        self.y[(self.x[:, 0] > 5) & (self.x[:, 0] > 10)] = 1\n",
    "        self.y = self.y.view(-1, 1)\n",
    "        self.len = self.x.shape[0]\n",
    "\n",
    "    def __getitem__(self, index):\n",
    "        return self.x[index], self.y[index]\n",
    "\n",
    "    def __len__(self):\n",
    "        return self.len"
   ],
   "metadata": {
    "collapsed": false,
    "pycharm": {
     "name": "#%%\n"
    }
   }
  },
  {
   "cell_type": "code",
   "execution_count": 7,
   "outputs": [],
   "source": [
    "class Net(nn.Module):\n",
    "    def __init__(self, D_in, H, D_out):\n",
    "        super(Net, self).__init__()\n",
    "        self.hidden_layer = nn.Linear(D_in, H)\n",
    "        self.output_layer = nn.Linear(H, D_out)\n",
    "\n",
    "    def forward(self, x):\n",
    "        z1 = self.hidden_layer(x)\n",
    "        a1 = sigmoid(z1)\n",
    "        z2 = self.output_layer(a1)\n",
    "        y_hat = sigmoid(z2)\n",
    "        return y_hat"
   ],
   "metadata": {
    "collapsed": false,
    "pycharm": {
     "name": "#%%\n"
    }
   }
  },
  {
   "cell_type": "code",
   "execution_count": 15,
   "outputs": [
    {
     "data": {
      "text/plain": "[15.631676971912384,\n 12.289240092039108,\n 10.317973375320435,\n 8.966667547821999,\n 7.98360612988472,\n 7.200218632817268,\n 6.5429403856396675,\n 5.978027552366257,\n 5.484595883637667,\n 5.049163788557053,\n 4.663277681916952,\n 4.320924568921328,\n 4.016513656824827,\n 3.7447024136781693,\n 3.501057857647538,\n 3.2820205613970757,\n 3.0845762193202972,\n 2.9061027467250824,\n 2.7443204820156097,\n 2.597257310524583]"
     },
     "execution_count": 15,
     "metadata": {},
     "output_type": "execute_result"
    }
   ],
   "source": [
    "def train(model, criterion, train_loader, optimizer, epochs=5):\n",
    "    cost = []\n",
    "    for epoch in range(epochs):\n",
    "        total = 0\n",
    "        for x, y in train_loader:\n",
    "            y_hat = model(x)\n",
    "            loss = criterion(y_hat, y)\n",
    "            optimizer.zero_grad()\n",
    "            loss.backward()\n",
    "            optimizer.step()\n",
    "            total += loss.item()\n",
    "        cost.append(total)\n",
    "    return cost\n",
    "\n",
    "model = Net(1, 5, 1)\n",
    "criterion = nn.BCELoss()\n",
    "train_loader = DataLoader(dataset=Data(), batch_size=5)\n",
    "optimizer = optim.Adam(model.parameters(), lr=0.01)\n",
    "\n",
    "train(model, criterion, train_loader, optimizer, epochs=20)"
   ],
   "metadata": {
    "collapsed": false,
    "pycharm": {
     "name": "#%%\n"
    }
   }
  },
  {
   "cell_type": "code",
   "execution_count": 16,
   "outputs": [],
   "source": [
    "# seq_model = nn.Sequential(nn.Linear(1, 6), nn.Sigmoid(), nn.Linear(6, 1), nn.Sigmoid())"
   ],
   "metadata": {
    "collapsed": false,
    "pycharm": {
     "name": "#%%\n"
    }
   }
  },
  {
   "cell_type": "code",
   "execution_count": null,
   "outputs": [],
   "source": [],
   "metadata": {
    "collapsed": false,
    "pycharm": {
     "name": "#%%\n"
    }
   }
  }
 ],
 "metadata": {
  "kernelspec": {
   "display_name": "Python 3",
   "language": "python",
   "name": "python3"
  },
  "language_info": {
   "codemirror_mode": {
    "name": "ipython",
    "version": 2
   },
   "file_extension": ".py",
   "mimetype": "text/x-python",
   "name": "python",
   "nbconvert_exporter": "python",
   "pygments_lexer": "ipython2",
   "version": "2.7.6"
  }
 },
 "nbformat": 4,
 "nbformat_minor": 0
}