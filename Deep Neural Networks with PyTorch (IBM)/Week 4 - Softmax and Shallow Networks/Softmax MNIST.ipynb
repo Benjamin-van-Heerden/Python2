{
 "cells": [
  {
   "cell_type": "code",
   "execution_count": 1,
   "metadata": {
    "collapsed": true
   },
   "outputs": [],
   "source": [
    "import torch\n",
    "from torch import nn, optim\n",
    "from torch.utils.data import DataLoader\n",
    "from torchvision import transforms\n",
    "import torchvision.datasets as torch_data"
   ]
  },
  {
   "cell_type": "code",
   "execution_count": 2,
   "outputs": [],
   "source": [
    "train_data = torch_data.MNIST(root=\"./data\", train=True, download=True, transform=transforms.ToTensor())\n",
    "validation_data = torch_data.MNIST(root=\"./data\", train=False, download=True, transform=transforms.ToTensor())"
   ],
   "metadata": {
    "collapsed": false,
    "pycharm": {
     "name": "#%%\n"
    }
   }
  },
  {
   "cell_type": "code",
   "execution_count": 3,
   "outputs": [],
   "source": [
    "import matplotlib.pyplot as plt\n",
    "import numpy as np"
   ],
   "metadata": {
    "collapsed": false,
    "pycharm": {
     "name": "#%%\n"
    }
   }
  },
  {
   "cell_type": "code",
   "execution_count": 4,
   "outputs": [
    {
     "data": {
      "text/plain": "<Figure size 432x288 with 1 Axes>",
      "image/png": "[encoded data removed]"
     },
     "metadata": {
      "needs_background": "light"
     },
     "output_type": "display_data"
    },
    {
     "name": "stdout",
     "output_type": "stream",
     "text": [
      "This is a 2\n"
     ]
    }
   ],
   "source": [
    "r_ix = np.random.randint(0, len(train_data) - 1)\n",
    "\n",
    "plt.imshow(train_data[r_ix][0][0], cmap=\"gray\")\n",
    "plt.show()\n",
    "print(f\"This is a {train_data[r_ix][1]}\")"
   ],
   "metadata": {
    "collapsed": false,
    "pycharm": {
     "name": "#%%\n"
    }
   }
  },
  {
   "cell_type": "code",
   "execution_count": 5,
   "outputs": [],
   "source": [
    "# define model properties\n",
    "class SoftMax(nn.Module):\n",
    "    def __init__(self, in_size, out_size):\n",
    "        super(SoftMax, self).__init__()\n",
    "        self.linear = nn.Linear(in_size, out_size)\n",
    "\n",
    "    def forward(self, x):\n",
    "        return self.linear(x)"
   ],
   "metadata": {
    "collapsed": false,
    "pycharm": {
     "name": "#%%\n"
    }
   }
  },
  {
   "cell_type": "code",
   "execution_count": 6,
   "outputs": [],
   "source": [
    "input_dim = 28 * 28\n",
    "output_dim = 10\n",
    "\n",
    "model = SoftMax(input_dim, output_dim)"
   ],
   "metadata": {
    "collapsed": false,
    "pycharm": {
     "name": "#%%\n"
    }
   }
  },
  {
   "cell_type": "code",
   "execution_count": 7,
   "outputs": [
    {
     "name": "stdout",
     "output_type": "stream",
     "text": [
      "W: torch.Size([10, 784])\n",
      "b: torch.Size([10])\n"
     ]
    }
   ],
   "source": [
    "print(\"W:\", list(model.parameters())[0].size())\n",
    "print(\"b:\", list(model.parameters())[1].size())"
   ],
   "metadata": {
    "collapsed": false,
    "pycharm": {
     "name": "#%%\n"
    }
   }
  },
  {
   "cell_type": "code",
   "execution_count": 8,
   "outputs": [],
   "source": [
    "# initially all of these weight matrices look like noise"
   ],
   "metadata": {
    "collapsed": false,
    "pycharm": {
     "name": "#%%\n"
    }
   }
  },
  {
   "cell_type": "code",
   "execution_count": 9,
   "outputs": [
    {
     "name": "stderr",
     "output_type": "stream",
     "text": [
      "C:\\Development\\Anaconda3\\lib\\site-packages\\torch\\_tensor.py:493: UserWarning: non-inplace resize is deprecated\n",
      "  warnings.warn(\"non-inplace resize is deprecated\")\n"
     ]
    },
    {
     "data": {
      "text/plain": "<Figure size 432x288 with 1 Axes>",
      "image/png": "[encoded data removed]"
     },
     "metadata": {
      "needs_background": "light"
     },
     "output_type": "display_data"
    }
   ],
   "source": [
    "W1 = list(model.parameters())[0][0].resize(28, 28)\n",
    "plt.imshow(W1.detach().numpy(), cmap=\"jet\")\n",
    "plt.show()"
   ],
   "metadata": {
    "collapsed": false,
    "pycharm": {
     "name": "#%%\n"
    }
   }
  },
  {
   "cell_type": "code",
   "execution_count": 10,
   "outputs": [],
   "source": [
    "criterion = nn.CrossEntropyLoss()\n",
    "optimizer = optim.Adam(model.parameters(), lr=0.01)"
   ],
   "metadata": {
    "collapsed": false,
    "pycharm": {
     "name": "#%%\n"
    }
   }
  },
  {
   "cell_type": "code",
   "execution_count": 11,
   "outputs": [
    {
     "name": "stdout",
     "output_type": "stream",
     "text": [
      "60000\n",
      "10000\n"
     ]
    }
   ],
   "source": [
    "print(len(train_data))\n",
    "print(len(validation_data))"
   ],
   "metadata": {
    "collapsed": false,
    "pycharm": {
     "name": "#%%\n"
    }
   }
  },
  {
   "cell_type": "code",
   "execution_count": 12,
   "outputs": [],
   "source": [
    "train_loader = DataLoader(dataset=train_data, batch_size=128)\n",
    "validation_loader = DataLoader(dataset=validation_data, batch_size=5000)"
   ],
   "metadata": {
    "collapsed": false,
    "pycharm": {
     "name": "#%%\n"
    }
   }
  },
  {
   "cell_type": "code",
   "execution_count": 13,
   "outputs": [
    {
     "name": "stdout",
     "output_type": "stream",
     "text": [
      "Train epoch done:\n",
      "\tloss = 0.3654876947402954\n",
      "Evaluation done:\n",
      "\tval_accuracy = 0.9076\n",
      "#####################\n",
      "Train epoch done:\n",
      "\tloss = 0.32772961258888245\n",
      "Evaluation done:\n",
      "\tval_accuracy = 0.9101\n",
      "#####################\n",
      "Train epoch done:\n",
      "\tloss = 0.30630946159362793\n",
      "Evaluation done:\n",
      "\tval_accuracy = 0.9105\n",
      "#####################\n",
      "Train epoch done:\n",
      "\tloss = 0.2914695143699646\n",
      "Evaluation done:\n",
      "\tval_accuracy = 0.9106\n",
      "#####################\n",
      "Train epoch done:\n",
      "\tloss = 0.2801346182823181\n",
      "Evaluation done:\n",
      "\tval_accuracy = 0.9099\n",
      "#####################\n",
      "Train epoch done:\n",
      "\tloss = 0.27097269892692566\n",
      "Evaluation done:\n",
      "\tval_accuracy = 0.9093\n",
      "#####################\n",
      "Train epoch done:\n",
      "\tloss = 0.26331260800361633\n",
      "Evaluation done:\n",
      "\tval_accuracy = 0.9089\n",
      "#####################\n",
      "Train epoch done:\n",
      "\tloss = 0.256755530834198\n",
      "Evaluation done:\n",
      "\tval_accuracy = 0.9085\n",
      "#####################\n",
      "Train epoch done:\n",
      "\tloss = 0.25102728605270386\n",
      "Evaluation done:\n",
      "\tval_accuracy = 0.9077\n",
      "#####################\n",
      "Train epoch done:\n",
      "\tloss = 0.24593251943588257\n",
      "Evaluation done:\n",
      "\tval_accuracy = 0.9071\n",
      "#####################\n"
     ]
    }
   ],
   "source": [
    "# train the model\n",
    "n_epochs = 10\n",
    "accuracy_list = []\n",
    "loss_list = []\n",
    "\n",
    "for epoch in range(n_epochs):\n",
    "    # train on training set\n",
    "    for x, y in train_loader:\n",
    "        optimizer.zero_grad()\n",
    "        z = model(x.view(-1, 28 * 28))\n",
    "        loss = criterion(z, y)\n",
    "        loss.backward()\n",
    "        optimizer.step()\n",
    "    loss_list.append(loss.item())\n",
    "    print(f\"Train epoch {epoch} done:\\n\\tloss = {loss.item()}\")\n",
    "\n",
    "    # evaluate\n",
    "    correct = 0\n",
    "    for x_test, y_test in validation_loader:\n",
    "        z = model(x_test.view(-1, 28 * 28))\n",
    "        _, y_hat = torch.max(z.data, 1)\n",
    "        correct = correct + (y_hat == y_test).sum().item()\n",
    "    accuracy = correct / len(validation_data)\n",
    "    print(f\"Evaluation done:\\n\\tval_accuracy = {accuracy}\\n#####################\")\n",
    "    accuracy_list.append(accuracy)\n",
    "\n"
   ],
   "metadata": {
    "collapsed": false,
    "pycharm": {
     "name": "#%%\n"
    }
   }
  },
  {
   "cell_type": "code",
   "execution_count": 19,
   "outputs": [
    {
     "data": {
      "text/plain": "<Figure size 432x288 with 1 Axes>",
      "image/png": "[encoded data removed]"
     },
     "metadata": {
      "needs_background": "light"
     },
     "output_type": "display_data"
    }
   ],
   "source": [
    "# lets see what the weights look like now\n",
    "W1 = list(model.parameters())[0][0].resize(28, 28)\n",
    "plt.imshow(W1.detach().numpy(), cmap=\"jet\")\n",
    "plt.show()"
   ],
   "metadata": {
    "collapsed": false,
    "pycharm": {
     "name": "#%%\n"
    }
   }
  },
  {
   "cell_type": "code",
   "execution_count": null,
   "outputs": [],
   "source": [],
   "metadata": {
    "collapsed": false,
    "pycharm": {
     "name": "#%%\n"
    }
   }
  }
 ],
 "metadata": {
  "kernelspec": {
   "display_name": "Python 3",
   "language": "python",
   "name": "python3"
  },
  "language_info": {
   "codemirror_mode": {
    "name": "ipython",
    "version": 2
   },
   "file_extension": ".py",
   "mimetype": "text/x-python",
   "name": "python",
   "nbconvert_exporter": "python",
   "pygments_lexer": "ipython2",
   "version": "2.7.6"
  }
 },
 "nbformat": 4,
 "nbformat_minor": 0
}