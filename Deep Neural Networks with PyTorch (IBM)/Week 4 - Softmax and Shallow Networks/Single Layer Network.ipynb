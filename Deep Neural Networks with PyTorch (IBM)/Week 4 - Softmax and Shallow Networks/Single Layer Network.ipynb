{
 "cells": [
  {
   "cell_type": "code",
   "execution_count": 1,
   "metadata": {
    "collapsed": true
   },
   "outputs": [],
   "source": [
    "import torch\n",
    "from torch import nn, optim\n",
    "from torch import sigmoid"
   ]
  },
  {
   "cell_type": "code",
   "execution_count": 38,
   "outputs": [],
   "source": [
    "class OneHiddenLayerNN(nn.Module):\n",
    "    def __init__(self, D_in, H, D_out):\n",
    "        super(OneHiddenLayerNN, self).__init__()\n",
    "        self.hidden_layer_1 = nn.Linear(D_in, H)\n",
    "        self.out_layer = nn.Linear(H, D_out)\n",
    "\n",
    "    def forward(self, x):\n",
    "        z1 = self.hidden_layer_1(x)\n",
    "        a1 = sigmoid(z1)\n",
    "        z2 = self.out_layer(a1)\n",
    "        y_hat = sigmoid(z2)\n",
    "        return y_hat"
   ],
   "metadata": {
    "collapsed": false,
    "pycharm": {
     "name": "#%%\n"
    }
   }
  },
  {
   "cell_type": "code",
   "execution_count": 16,
   "outputs": [
    {
     "name": "stdout",
     "output_type": "stream",
     "text": [
      "tensor([[0.4639],\n",
      "        [0.4644],\n",
      "        [0.5057]], grad_fn=<SigmoidBackward0>)\n"
     ]
    },
    {
     "data": {
      "text/plain": "tensor([[0.],\n        [0.],\n        [1.]], grad_fn=<RoundBackward0>)"
     },
     "execution_count": 16,
     "metadata": {},
     "output_type": "execute_result"
    }
   ],
   "source": [
    "model = OneHiddenLayerNN(1, 2, 1)\n",
    "x = torch.tensor([[1.], [2.], [-42.]])\n",
    "y_hat = model(x)\n",
    "print(y_hat)\n",
    "prediction = torch.round(y_hat)\n",
    "prediction"
   ],
   "metadata": {
    "collapsed": false,
    "pycharm": {
     "name": "#%%\n"
    }
   }
  },
  {
   "cell_type": "code",
   "execution_count": 17,
   "outputs": [
    {
     "data": {
      "text/plain": "OrderedDict([('hidden_layer_1.weight',\n              tensor([[ 0.9124],\n                      [-0.5188]])),\n             ('hidden_layer_1.bias', tensor([0.7584, 0.2816])),\n             ('out_layer.weight', tensor([[-0.4079, -0.3141]])),\n             ('out_layer.bias', tensor([0.3370]))])"
     },
     "execution_count": 17,
     "metadata": {},
     "output_type": "execute_result"
    }
   ],
   "source": [
    "model.state_dict()"
   ],
   "metadata": {
    "collapsed": false,
    "pycharm": {
     "name": "#%%\n"
    }
   }
  },
  {
   "cell_type": "code",
   "execution_count": 20,
   "outputs": [],
   "source": [
    "# sequential equivalent\n",
    "\n",
    "from torch.nn import Sequential, Sigmoid, Linear"
   ],
   "metadata": {
    "collapsed": false,
    "pycharm": {
     "name": "#%%\n"
    }
   }
  },
  {
   "cell_type": "code",
   "execution_count": 21,
   "outputs": [
    {
     "name": "stdout",
     "output_type": "stream",
     "text": [
      "tensor([[0.4232],\n",
      "        [0.4166],\n",
      "        [0.4659]], grad_fn=<SigmoidBackward0>)\n"
     ]
    },
    {
     "data": {
      "text/plain": "tensor([[0.],\n        [0.],\n        [0.]], grad_fn=<RoundBackward0>)"
     },
     "execution_count": 21,
     "metadata": {},
     "output_type": "execute_result"
    }
   ],
   "source": [
    "model = Sequential(Linear(1, 2), Sigmoid(), Linear(2, 1), Sigmoid())\n",
    "x = torch.tensor([[1.], [2.], [-42.]])\n",
    "y_hat = model(x)\n",
    "print(y_hat)\n",
    "prediction = torch.round(y_hat)\n",
    "prediction"
   ],
   "metadata": {
    "collapsed": false,
    "pycharm": {
     "name": "#%%\n"
    }
   }
  },
  {
   "cell_type": "code",
   "execution_count": 46,
   "outputs": [
    {
     "data": {
      "text/plain": "[28.714123785495758,\n 23.30173361301422,\n 20.725814253091812,\n 19.555396407842636,\n 18.97559230029583,\n 18.625965625047684,\n 18.38483899831772,\n 18.196112513542175,\n 18.033079877495766,\n 17.882728695869446,\n 17.738402381539345,\n 17.596497133374214,\n 17.45480877161026,\n 17.311679862439632,\n 17.16550439596176,\n 17.014423683285713,\n 16.85613625496626,\n 16.687863275408745,\n 16.506558448076248,\n 16.30950716882944,\n 16.095161236822605,\n 15.863784432411194,\n 15.617353864014149,\n 15.358788169920444,\n 15.091101951897144,\n 14.816878758370876,\n 14.538095273077488,\n 14.256174005568027,\n 13.972132503986359,\n 13.68675822392106,\n 13.400751657783985,\n 13.11481099948287,\n 12.829664587974548,\n 12.546053815633059,\n 12.264693062752485,\n 11.986232001334429,\n 11.711232278496027,\n 11.440159659832716,\n 11.173386208713055,\n 10.911199789494276,\n 10.653821274638176,\n 10.40141298621893,\n 10.154088854789734,\n 9.911929875612259,\n 9.67498267814517,\n 9.443269532173872,\n 9.2167923245579,\n 8.995538359507918,\n 8.779479240998626,\n 8.568582568317652,\n 8.362799480557442,\n 8.16207581013441,\n 7.966352343559265,\n 7.775565296411514,\n 7.589641977101564,\n 7.408507918938994,\n 7.232084898278117,\n 7.060292173177004,\n 6.893043426796794,\n 6.730251897126436,\n 6.571826238185167,\n 6.417677728459239,\n 6.267713099718094,\n 6.12183658964932,\n 5.979953953996301,\n 5.841971369460225,\n 5.707792993634939,\n 5.577321724966168,\n 5.450463814660907,\n 5.3271243423223495,\n 5.207207605242729,\n 5.090621493756771,\n 4.977273643016815,\n 4.867072687484324,\n 4.759929806925356,\n 4.655755799263716,\n 4.55446569994092,\n 4.4559724275022745,\n 4.36019619461149,\n 4.267052595503628,\n 4.176463006064296,\n 4.088350458070636,\n 4.0026412177830935,\n 3.9192567951977253,\n 3.838130454532802,\n 3.7591903964057565,\n 3.6823676973581314,\n 3.6075976379215717,\n 3.5348165780305862,\n 3.46396217122674,\n 3.3949742298573256,\n 3.3277954580262303,\n 3.262368645519018,\n 3.1986379120498896,\n 3.1365513894706964,\n 3.0760594429448247,\n 3.0171107770875096,\n 2.959658191539347,\n 2.90365428943187,\n 2.8490553246811032]"
     },
     "execution_count": 46,
     "metadata": {},
     "output_type": "execute_result"
    }
   ],
   "source": [
    "# training the model\n",
    "\n",
    "X = torch.arange(-20, 20, 1).view(-1, 1).type(torch.FloatTensor)\n",
    "Y = torch.zeros(X.shape[0]).view(-1, 1)\n",
    "Y[(X[:, 0] > -4) & (X[:, 0] < 4)] = 1.0\n",
    "\n",
    "def train(X, Y, model, optimizer, criterion, epochs=100):\n",
    "    cost = []\n",
    "    for epoch in range(epochs):\n",
    "        total = 0\n",
    "        for x, y in zip(X, Y):\n",
    "            y_hat = model(x)\n",
    "            loss = criterion(y_hat, y)\n",
    "            loss.backward()\n",
    "            optimizer.step()\n",
    "            optimizer.zero_grad()\n",
    "            total += loss.item()\n",
    "        cost.append(total)\n",
    "    return cost\n",
    "\n",
    "model = OneHiddenLayerNN(1, 2, 1)\n",
    "optimizer = optim.Adam(model.parameters(), lr=0.01)\n",
    "criterion = nn.BCELoss()\n",
    "\n",
    "train(X, Y, model, optimizer, criterion)"
   ],
   "metadata": {
    "collapsed": false,
    "pycharm": {
     "name": "#%%\n"
    }
   }
  },
  {
   "cell_type": "code",
   "execution_count": 69,
   "outputs": [],
   "source": [
    "import numpy as np"
   ],
   "metadata": {
    "collapsed": false,
    "pycharm": {
     "name": "#%%\n"
    }
   }
  },
  {
   "cell_type": "code",
   "execution_count": 70,
   "outputs": [],
   "source": [
    "vals = model(X).detach().numpy()\n",
    "v1 = np.array([0 if u < 0.5 else 1 for u in vals])\n",
    "v2 = Y.numpy()"
   ],
   "metadata": {
    "collapsed": false,
    "pycharm": {
     "name": "#%%\n"
    }
   }
  },
  {
   "cell_type": "code",
   "execution_count": 71,
   "outputs": [
    {
     "data": {
      "text/plain": "array([0, 0, 0, 0, 0, 0, 0, 0, 0, 0, 0, 0, 0, 0, 0, 0, 0, 1, 1, 1, 1, 1,\n       1, 1, 0, 0, 0, 0, 0, 0, 0, 0, 0, 0, 0, 0, 0, 0, 0, 0])"
     },
     "execution_count": 71,
     "metadata": {},
     "output_type": "execute_result"
    }
   ],
   "source": [
    "v1"
   ],
   "metadata": {
    "collapsed": false,
    "pycharm": {
     "name": "#%%\n"
    }
   }
  },
  {
   "cell_type": "code",
   "execution_count": 68,
   "outputs": [
    {
     "data": {
      "text/plain": "array([[0.],\n       [0.],\n       [0.],\n       [0.],\n       [0.],\n       [0.],\n       [0.],\n       [0.],\n       [0.],\n       [0.],\n       [0.],\n       [0.],\n       [0.],\n       [0.],\n       [0.],\n       [0.],\n       [0.],\n       [1.],\n       [1.],\n       [1.],\n       [1.],\n       [1.],\n       [1.],\n       [1.],\n       [0.],\n       [0.],\n       [0.],\n       [0.],\n       [0.],\n       [0.],\n       [0.],\n       [0.],\n       [0.],\n       [0.],\n       [0.],\n       [0.],\n       [0.],\n       [0.],\n       [0.],\n       [0.]], dtype=float32)"
     },
     "execution_count": 68,
     "metadata": {},
     "output_type": "execute_result"
    }
   ],
   "source": [
    "v2"
   ],
   "metadata": {
    "collapsed": false,
    "pycharm": {
     "name": "#%%\n"
    }
   }
  },
  {
   "cell_type": "code",
   "execution_count": 57,
   "outputs": [
    {
     "data": {
      "text/plain": "array([[0.],\n       [0.],\n       [0.],\n       [0.],\n       [0.],\n       [0.],\n       [0.],\n       [0.],\n       [0.],\n       [0.],\n       [0.],\n       [0.],\n       [0.],\n       [0.],\n       [0.],\n       [0.],\n       [0.],\n       [1.],\n       [1.],\n       [1.],\n       [1.],\n       [1.],\n       [1.],\n       [1.],\n       [0.],\n       [0.],\n       [0.],\n       [0.],\n       [0.],\n       [0.],\n       [0.],\n       [0.],\n       [0.],\n       [0.],\n       [0.],\n       [0.],\n       [0.],\n       [0.],\n       [0.],\n       [0.]], dtype=float32)"
     },
     "execution_count": 57,
     "metadata": {},
     "output_type": "execute_result"
    }
   ],
   "source": [
    "Y.numpy()"
   ],
   "metadata": {
    "collapsed": false,
    "pycharm": {
     "name": "#%%\n"
    }
   }
  },
  {
   "cell_type": "code",
   "execution_count": null,
   "outputs": [],
   "source": [],
   "metadata": {
    "collapsed": false,
    "pycharm": {
     "name": "#%%\n"
    }
   }
  }
 ],
 "metadata": {
  "kernelspec": {
   "display_name": "Python 3",
   "language": "python",
   "name": "python3"
  },
  "language_info": {
   "codemirror_mode": {
    "name": "ipython",
    "version": 2
   },
   "file_extension": ".py",
   "mimetype": "text/x-python",
   "name": "python",
   "nbconvert_exporter": "python",
   "pygments_lexer": "ipython2",
   "version": "2.7.6"
  }
 },
 "nbformat": 4,
 "nbformat_minor": 0
}