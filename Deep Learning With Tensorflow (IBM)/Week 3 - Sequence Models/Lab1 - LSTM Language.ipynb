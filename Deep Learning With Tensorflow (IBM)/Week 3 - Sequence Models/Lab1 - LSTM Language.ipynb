{
 "cells": [
  {
   "cell_type": "markdown",
   "metadata": {},
   "source": [
    "<a href=\"https://www.skills.network/?utm_medium=Exinfluencer&utm_source=Exinfluencer&utm_content=000026UJ&utm_term=10006555&utm_id=NA-SkillsNetwork-Channel-SkillsNetworkCoursesIBMDeveloperSkillsNetworkDL0120ENSkillsNetwork20629446-2021-01-01\"><img src=\"https://cf-courses-data.s3.us.cloud-object-storage.appdomain.cloud/IBM-DL0120ENedX/labs/Template%20for%20Instructional%20Hands-on%20Labs/images/IDSNlogo.png\" width=\"400px\" align=\"center\"></a>\n",
    "\n",
    "<h1 align=\"center\"><font size=\"5\">RECURRENT NETWORKS and LSTM IN DEEP LEARNING</font></h1>\n"
   ]
  },
  {
   "cell_type": "markdown",
   "metadata": {},
   "source": [
    "Estimated time needed: **30** minutes\n"
   ]
  },
  {
   "cell_type": "markdown",
   "metadata": {},
   "source": [
    "<h2>Applying Recurrent Neural Networks/LSTM for Language Modeling</h2>\n",
    "Hello and welcome to this part. In this notebook, we will go over the topic of Language Modelling, and create a Recurrent Neural Network model based on the Long Short-Term Memory unit to train and benchmark on the Penn Treebank dataset. By the end of this notebook, you should be able to understand how TensorFlow builds and executes a RNN model for Language Modelling.\n"
   ]
  },
  {
   "cell_type": "markdown",
   "metadata": {},
   "source": [
    "<h2>The Objective</h2>\n",
    "By now, you should have an understanding of how Recurrent Networks work -- a specialized model to process sequential data by keeping track of the \"state\" or context. In this notebook, we go over a TensorFlow code snippet for creating a model focused on <b>Language Modelling</b> -- a very relevant task that is the cornerstone of many different linguistic problems such as <b>Speech Recognition, Machine Translation and Image Captioning</b>. For this, we will be using the Penn Treebank dataset, which is an often-used dataset for benchmarking Language Modelling models.\n"
   ]
  },
  {
   "cell_type": "markdown",
   "metadata": {},
   "source": [
    "<h2>Table of Contents</h2>\n",
    "<ol>\n",
    "    <li><a href=\"https://#language_modelling\">What exactly is Language Modelling?</a></li>\n",
    "    <li><a href=\"https://#treebank_dataset\">The Penn Treebank dataset</a></li>\n",
    "    <li><a href=\"https://#word_embedding\">Word Embedding</a></li>\n",
    "    <li><a href=\"https://#building_lstm_model\">Building the LSTM model for Language Modeling</a></li>\n",
    "    <li><a href=\"https://#ltsm\">LTSM</a></li>\n",
    "</ol>\n",
    "<p></p>\n",
    "</div>\n",
    "<br>\n"
   ]
  },
  {
   "cell_type": "markdown",
   "metadata": {
    "button": false,
    "deletable": true,
    "new_sheet": false,
    "run_control": {
     "read_only": false
    }
   },
   "source": [
    "***\n"
   ]
  },
  {
   "cell_type": "markdown",
   "metadata": {},
   "source": [
    "<a id=\"language_modelling\"></a>\n",
    "\n",
    "<h2>What exactly is Language Modelling?</h2>\n",
    "Language Modelling, to put it simply, <b>is the task of assigning probabilities to sequences of words</b>. This means that, given a context of one or a sequence of words in the language the model was trained on, the model should provide the next most probable words or sequence of words that follows from the given sequence of words the sentence. Language Modelling is one of the most important tasks in Natural Language Processing.\n",
    "\n",
    "<img src=\"https://ibm.box.com/shared/static/1d1i5gub6wljby2vani2vzxp0xsph702.png\" width=\"1080\">\n",
    "<center><i>Example of a sentence being predicted</i></center>\n",
    "<br><br>\n",
    "In this example, one can see the predictions for the next word of a sentence, given the context \"This is an\". As you can see, this boils down to a sequential data analysis task -- you are given a word or a sequence of words (the input data), and, given the context (the state), you need to find out what is the next word (the prediction). This kind of analysis is very important for language-related tasks such as <b>Speech Recognition, Machine Translation, Image Captioning, Text Correction</b> and many other very relevant problems. \n",
    "\n",
    "<img src=\"https://ibm.box.com/shared/static/az39idf9ipfdpc5ugifpgxnydelhyf3i.png\" width=\"1080\">\n",
    "<center><i>The above example is a schema of an RNN in execution</i></center>\n",
    "<br><br>\n",
    "As the above image shows, Recurrent Network models fit this problem like a glove. Alongside LSTM and its capacity to maintain the model's state for over one thousand time steps, we have all the tools we need to undertake this problem. The goal for this notebook is to create a model that can reach <b>low levels of perplexity</b> on our desired dataset.\n",
    "\n",
    "For Language Modelling problems, <b>perplexity</b> is the way to gauge efficiency. Perplexity is simply a measure of how well a probabilistic model is able to predict its sample. A higher-level way to explain this would be saying that <b>low perplexity means a higher degree of trust in the predictions the model makes</b>. Therefore, the lower perplexity is, the better.\n"
   ]
  },
  {
   "cell_type": "markdown",
   "metadata": {},
   "source": [
    "<a id=\"treebank_dataset\"></a>\n",
    "\n",
    "<h2>The Penn Treebank dataset</h2>\n",
    "Historically, datasets big enough for Natural Language Processing are hard to come by. This is in part due to the necessity of the sentences to be broken down and tagged with a certain degree of correctness -- or else the models trained on it won't be able to be correct at all. This means that we need a <b>large amount of data, annotated by or at least corrected by humans</b>. This is, of course, not an easy task at all.\n",
    "\n",
    "The Penn Treebank, or PTB for short, is a dataset maintained by the University of Pennsylvania. It is <i>huge</i> -- there are over <b>four million and eight hundred thousand</b> annotated words in it, all corrected by humans. It is composed of many different sources, from abstracts of Department of Energy papers to texts from the Library of America. Since it is verifiably correct and of such a huge size, the Penn Treebank is commonly used as a benchmark dataset for Language Modelling.\n",
    "\n",
    "The dataset is divided in different kinds of annotations, such as Piece-of-Speech, Syntactic and Semantic skeletons. For this example, we will simply use a sample of clean, non-annotated words (with the exception of one tag --<code>\\<unk></code>\n",
    ", which is used for rare words such as uncommon proper nouns) for our model. This means that we just want to predict what the next words would be, not what they mean in context or their classes on a given sentence.\n",
    "\n",
    "<center>Example of text from the dataset we are going to use, <b>ptb.train</b></center>\n",
    "<br><br>\n",
    "\n",
    "<div class=\"alert alert-block alert-info\" style=\"margin-top: 20px\">\n",
    "    <center>the percentage of lung cancer deaths among the workers at the west <code>&lt;unk&gt;</code> mass. paper factory appears to be the highest for any asbestos workers studied in western industrialized countries he said \n",
    " the plant which is owned by <code>&lt;unk&gt;</code> & <code>&lt;unk&gt;</code> co. was under contract with <code>&lt;unk&gt;</code> to make the cigarette filters \n",
    " the finding probably will support those who argue that the U.S. should regulate the class of asbestos including <code>&lt;unk&gt;</code> more <code>&lt;unk&gt;</code> than the common kind of asbestos <code>&lt;unk&gt;</code> found in most schools and other buildings dr. <code>&lt;unk&gt;</code> said</center>\n",
    "</div>\n"
   ]
  },
  {
   "cell_type": "markdown",
   "metadata": {
    "button": false,
    "deletable": true,
    "new_sheet": false,
    "run_control": {
     "read_only": false
    }
   },
   "source": [
    "<a id=\"word_embedding\"></a>\n",
    "\n",
    "<h2>Word Embeddings</h2><br/>\n",
    "\n",
    "For better processing, in this example, we will make use of <a href=\"https://www.tensorflow.org/tutorials/word2vec/?utm_medium=Exinfluencer&utm_source=Exinfluencer&utm_content=000026UJ&utm_term=10006555&utm_id=NA-SkillsNetwork-Channel-SkillsNetworkCoursesIBMDeveloperSkillsNetworkDL0120ENSkillsNetwork20629446-2021-01-01\"><b>word embeddings</b></a>, which is <b>a way of representing sentence structures or words as n-dimensional vectors (where n is a reasonably high number, such as 200 or 500) of real numbers</b>. Basically, we will assign each word a randomly-initialized vector, and input those into the network to be processed. After a number of iterations, these vectors are expected to assume values that help the network to correctly predict what it needs to -- in our case, the probable next word in the sentence. This is shown to be a very effective task in Natural Language Processing, and is a commonplace practice. <br><br> <font size=\"4\"><strong>\n",
    "$$Vec(\"Example\") = [0.02, 0.00, 0.00, 0.92, 0.30, \\dots]$$ </strong></font> <br>\n",
    "Word Embedding tends to group up similarly used words <i>reasonably</i> close together in the vectorial space. For example, if we use T-SNE (a dimensional reduction visualization algorithm) to flatten the dimensions of our vectors into a 2-dimensional space and plot these words in a 2-dimensional space, we might see something like this:\n",
    "\n",
    "<img src=\"https://ibm.box.com/shared/static/bqhc5dg879gcoabzhxra1w8rkg3od1cu.png\" width=\"800\">\n",
    "<center><i>T-SNE Mockup with clusters marked for easier visualization</i></center>\n",
    "<br><br>\n",
    "As you can see, words that are frequently used together, in place of each other, or in the same places as them tend to be grouped together -- being closer together the higher they are correlated. For example, \"None\" is pretty semantically close to \"Zero\", while a phrase that uses \"Italy\", you could probably also fit \"Germany\" in it, with little damage to the sentence structure. The vectorial \"closeness\" for similar words like this is a great indicator of a well-built model.\n",
    "\n",
    "<hr>\n"
   ]
  },
  {
   "cell_type": "markdown",
   "metadata": {
    "button": false,
    "deletable": true,
    "new_sheet": false,
    "run_control": {
     "read_only": false
    }
   },
   "source": [
    "We need to import the necessary modules for our code. We need <b><code>numpy</code></b> and <b><code>tensorflow</code></b>, obviously. Additionally, we can import directly the <b><code>tensorflow\\.models.rnn</code></b> model, which includes the function for building RNNs, and <b><code>tensorflow\\.models.rnn.ptb.reader</code></b> which is the helper module for getting the input data from the dataset we just downloaded.\n",
    "\n",
    "If you want to learn more take a look at <https://github.com/tensorflow/models/blob/master/tutorials/rnn/ptb/reader.py>\n"
   ]
  },
  {
   "cell_type": "code",
   "execution_count": 1,
   "metadata": {
    "tags": []
   },
   "outputs": [],
   "source": [
    "# !pip install tensorflow==2.2.0rc0\n",
    "# !pip install numpy==1.21.4\n"
   ]
  },
  {
   "cell_type": "code",
   "execution_count": 1,
   "metadata": {},
   "outputs": [],
   "source": [
    "import time\n",
    "import numpy as np\n",
    "import tensorflow as tf\n",
    "if not tf.__version__ >= '2.2.0-rc0':\n",
    "    print(tf.__version__)\n",
    "    raise ValueError('please upgrade to TensorFlow 2.2.0-rc0, or restart your Kernel (Kernel->Restart & Clear Output)')"
   ]
  },
  {
   "cell_type": "markdown",
   "metadata": {},
   "source": [
    "IMPORTANT! => Please restart the kernel by clicking on \"Kernel\"->\"Restart and Clear Outout\" and wait until all output disapears. Then your changes are beeing picked up\n"
   ]
  },
  {
   "cell_type": "code",
   "execution_count": 2,
   "metadata": {
    "button": false,
    "deletable": true,
    "new_sheet": false,
    "run_control": {
     "read_only": false
    },
    "tags": []
   },
   "outputs": [],
   "source": [
    "# !mkdir data\n",
    "# !mkdir data/ptb\n",
    "# !wget -q -O data/ptb/reader.py https://cf-courses-data.s3.us.cloud-object-storage.appdomain.cloud/IBMDeveloperSkillsNetwork-DL0120EN-SkillsNetwork/labs/Week3/data/ptb/reader.py\n",
    "\n"
   ]
  },
  {
   "cell_type": "code",
   "execution_count": 3,
   "metadata": {
    "tags": []
   },
   "outputs": [],
   "source": [
    "import reader"
   ]
  },
  {
   "cell_type": "markdown",
   "metadata": {
    "button": false,
    "deletable": true,
    "new_sheet": false,
    "run_control": {
     "read_only": false
    }
   },
   "source": [
    "<a id=\"building_lstm_model\"></a>\n",
    "\n",
    "<h2>Building the LSTM model for Language Modeling</h2>\n",
    "Now that we know exactly what we are doing, we can start building our model using TensorFlow. The very first thing we need to do is download and extract the <code>simple-examples</code> dataset, which can be done by executing the code cell below.\n"
   ]
  },
  {
   "cell_type": "code",
   "execution_count": 4,
   "metadata": {
    "button": false,
    "deletable": true,
    "new_sheet": false,
    "run_control": {
     "read_only": false
    },
    "tags": []
   },
   "outputs": [],
   "source": [
    "# !wget http://www.fit.vutbr.cz/~imikolov/rnnlm/simple-examples.tgz\n",
    "# !tar xzf simple-examples.tgz -C data/"
   ]
  },
  {
   "cell_type": "markdown",
   "metadata": {
    "button": false,
    "deletable": true,
    "new_sheet": false,
    "run_control": {
     "read_only": false
    }
   },
   "source": [
    "Additionally, for the sake of making it easy to play around with the model's hyperparameters, we can declare them beforehand. Feel free to change these -- you will see a difference in performance each time you change those!\n"
   ]
  },
  {
   "cell_type": "code",
   "execution_count": 5,
   "metadata": {
    "button": false,
    "deletable": true,
    "new_sheet": false,
    "run_control": {
     "read_only": false
    }
   },
   "outputs": [],
   "source": [
    "#Initial weight scale\n",
    "init_scale = 0.1\n",
    "#Initial learning rate\n",
    "learning_rate = 1.0\n",
    "#Maximum permissible norm for the gradient (For gradient clipping -- another measure against Exploding Gradients)\n",
    "max_grad_norm = 5\n",
    "#The number of layers in our model\n",
    "num_layers = 2\n",
    "#The total number of recurrence steps, also known as the number of layers when our RNN is \"unfolded\"\n",
    "num_steps = 20\n",
    "#The number of processing units (neurons) in the hidden layers\n",
    "hidden_size_l1 = 256\n",
    "hidden_size_l2 = 128\n",
    "#The maximum number of epochs trained with the initial learning rate\n",
    "max_epoch_decay_lr = 4\n",
    "#The total number of epochs in training\n",
    "max_epoch = 15\n",
    "#The probability for keeping data in the Dropout Layer (This is an optimization, but is outside our scope for this notebook!)\n",
    "#At 1, we ignore the Dropout Layer wrapping.\n",
    "keep_prob = 1\n",
    "#The decay for the learning rate\n",
    "decay = 0.5\n",
    "#The size for each batch of data\n",
    "batch_size = 30\n",
    "#The size of our vocabulary\n",
    "vocab_size = 10000\n",
    "embeding_vector_size= 200\n",
    "#Training flag to separate training from testing\n",
    "is_training = 1\n",
    "#Data directory for our dataset\n",
    "data_dir = \"data/simple-examples/data/\""
   ]
  },
  {
   "cell_type": "markdown",
   "metadata": {
    "button": false,
    "new_sheet": false,
    "run_control": {
     "read_only": false
    }
   },
   "source": [
    "Some clarifications for LSTM architecture based on the arguments:\n",
    "\n",
    "Network structure:\n",
    "\n",
    "<ul>\n",
    "    <li>In this network, the number of LSTM cells are 2. To give the model more expressive power, we can add multiple layers of LSTMs to process the data. The output of the first layer will become the input of the second and so on.\n",
    "    </li>\n",
    "    <li>The recurrence steps is 20, that is, when our RNN is \"Unfolded\", the recurrence step is 20.</li>   \n",
    "    <li>the structure is like:\n",
    "        <ul>\n",
    "            <li>200 input units -> [200x200] Weight -> 200 Hidden units (first layer) -> [200x200] Weight matrix  -> 200 Hidden units (second layer) ->  [200] weight Matrix -> 200 unit output</li>\n",
    "        </ul>\n",
    "    </li>\n",
    "</ul>\n",
    "<br>\n",
    "\n",
    "Input layer:\n",
    "\n",
    "<ul>\n",
    "    <li>The network has 200 input units.</li>\n",
    "    <li>Suppose each word is represented by an embedding vector of dimensionality e=200. The input layer of each cell will have 200 linear units. These e=200 linear units are connected to each of the h=200 LSTM units in the hidden layer (assuming there is only one hidden layer, though our case has 2 layers).\n",
    "    </li>\n",
    "    <li>The input shape is [batch_size, num_steps], that is [30x20]. It will turn into [30x20x200] after embedding, and then 20x[30x200]\n",
    "    </li>\n",
    "</ul>\n",
    "<br>\n",
    "\n",
    "Hidden layer:\n",
    "\n",
    "<ul>\n",
    "    <li>Each LSTM has 200 hidden units which is equivalent to the dimensionality of the embedding words and output.</li>\n",
    "</ul>\n",
    "<br>\n"
   ]
  },
  {
   "cell_type": "markdown",
   "metadata": {
    "button": false,
    "deletable": true,
    "new_sheet": false,
    "run_control": {
     "read_only": false
    }
   },
   "source": [
    "There is a lot to be done and a ton of information to process at the same time, so go over this code slowly. It may seem complex at first, but if you try to apply what you just learned about language modelling to the code you see, you should be able to understand it.\n",
    "\n",
    "This code is adapted from the <a href=\"https://github.com/tensorflow/models?utm_medium=Exinfluencer&utm_source=Exinfluencer&utm_content=000026UJ&utm_term=10006555&utm_id=NA-SkillsNetwork-Channel-SkillsNetworkCoursesIBMDeveloperSkillsNetworkDL0120ENSkillsNetwork20629446-2021-01-01\">PTBModel</a> example bundled with the TensorFlow source code.\n",
    "\n",
    "<h3>Training data</h3>\n",
    "The story starts from data:\n",
    "<ul>\n",
    "    <li>Train data is a list of words, of size 929589, represented by numbers, e.g. [9971, 9972, 9974, 9975,...]</li>\n",
    "    <li>We read data as mini-batch of size b=30. Assume the size of each sentence is 20 words (num_steps = 20). Then it will take $$floor(\\frac{N}{b \\times h})+1=1548$$ iterations for the learner to go through all sentences once. Where N is the size of the list of words, b is batch size, and h is size of each sentence. So, the number of iterators is 1548\n",
    "    </li>\n",
    "    <li>Each batch data is read from train dataset of size 600, and shape of [30x20]</li>\n",
    "</ul>\n"
   ]
  },
  {
   "cell_type": "code",
   "execution_count": 6,
   "metadata": {
    "button": false,
    "deletable": true,
    "new_sheet": false,
    "run_control": {
     "read_only": false
    }
   },
   "outputs": [],
   "source": [
    "# Reads the data and separates it into training data, validation data and testing data\n",
    "raw_data = reader.ptb_raw_data(data_dir)\n",
    "train_data, valid_data, test_data, vocab, word_to_id = raw_data"
   ]
  },
  {
   "cell_type": "code",
   "execution_count": 5,
   "metadata": {},
   "outputs": [
    {
     "data": {
      "text/plain": [
       "929589"
      ]
     },
     "execution_count": 5,
     "metadata": {},
     "output_type": "execute_result"
    }
   ],
   "source": [
    "len(train_data)"
   ]
  },
  {
   "cell_type": "code",
   "execution_count": 8,
   "metadata": {
    "tags": []
   },
   "outputs": [
    {
     "name": "stdout",
     "output_type": "stream",
     "text": [
      "['aer', 'banknote', 'berlitz', 'calloway', 'centrust', 'cluett', 'fromstein', 'gitano', 'guterman', 'hydro-quebec', 'ipo', 'kia', 'memotec', 'mlx', 'nahb', 'punts', 'rake', 'regatta', 'rubens', 'sim', 'snack-food', 'ssangyong', 'swapo', 'wachter', '<eos>', 'pierre', '<unk>', 'N', 'years', 'old', 'will', 'join', 'the', 'board', 'as', 'a', 'nonexecutive', 'director', 'nov.', 'N', '<eos>', 'mr.', '<unk>', 'is', 'chairman', 'of', '<unk>', 'n.v.', 'the', 'dutch', 'publishing', 'group', '<eos>', 'rudolph', '<unk>', 'N', 'years', 'old', 'and', 'former', 'chairman', 'of', 'consolidated', 'gold', 'fields', 'plc', 'was', 'named', 'a', 'nonexecutive', 'director', 'of', 'this', 'british', 'industrial', 'conglomerate', '<eos>', 'a', 'form', 'of', 'asbestos', 'once', 'used', 'to', 'make', 'kent', 'cigarette', 'filters', 'has', 'caused', 'a', 'high', 'percentage', 'of', 'cancer', 'deaths', 'among', 'a', 'group', 'of']\n"
     ]
    }
   ],
   "source": [
    "def id_to_word(id_list):\n",
    "    line = []\n",
    "    for w in id_list:\n",
    "        for word, wid in word_to_id.items():\n",
    "            if wid == w:\n",
    "                line.append(word)\n",
    "    return line            \n",
    "                \n",
    "\n",
    "print(id_to_word(train_data[0:100]))"
   ]
  },
  {
   "cell_type": "markdown",
   "metadata": {
    "button": false,
    "deletable": true,
    "new_sheet": false,
    "run_control": {
     "read_only": false
    }
   },
   "source": [
    "Lets just read one mini-batch now and feed our network:\n"
   ]
  },
  {
   "cell_type": "code",
   "execution_count": 9,
   "metadata": {
    "button": false,
    "deletable": true,
    "new_sheet": false,
    "run_control": {
     "read_only": false
    }
   },
   "outputs": [],
   "source": [
    "itera = reader.ptb_iterator(train_data, batch_size, num_steps)\n",
    "first_touple = itera.__next__()\n",
    "_input_data = first_touple[0]\n",
    "_targets = first_touple[1]"
   ]
  },
  {
   "cell_type": "code",
   "execution_count": 10,
   "metadata": {
    "button": false,
    "deletable": true,
    "new_sheet": false,
    "run_control": {
     "read_only": false
    }
   },
   "outputs": [
    {
     "data": {
      "text/plain": "(30, 20)"
     },
     "execution_count": 10,
     "metadata": {},
     "output_type": "execute_result"
    }
   ],
   "source": [
    "_input_data.shape"
   ]
  },
  {
   "cell_type": "code",
   "execution_count": 11,
   "metadata": {},
   "outputs": [
    {
     "data": {
      "text/plain": "(30, 20)"
     },
     "execution_count": 11,
     "metadata": {},
     "output_type": "execute_result"
    }
   ],
   "source": [
    "_targets.shape"
   ]
  },
  {
   "cell_type": "markdown",
   "metadata": {
    "button": false,
    "deletable": true,
    "new_sheet": false,
    "run_control": {
     "read_only": false
    }
   },
   "source": [
    "Lets look at 3 sentences of our input x:\n"
   ]
  },
  {
   "cell_type": "code",
   "execution_count": 12,
   "metadata": {
    "button": false,
    "deletable": true,
    "new_sheet": false,
    "run_control": {
     "read_only": false
    }
   },
   "outputs": [
    {
     "data": {
      "text/plain": "array([[9970, 9971, 9972, 9974, 9975, 9976, 9980, 9981, 9982, 9983, 9984,\n        9986, 9987, 9988, 9989, 9991, 9992, 9993, 9994, 9995],\n       [2654,    6,  334, 2886,    4,    1,  233,  711,  834,   11,  130,\n         123,    7,  514,    2,   63,   10,  514,    8,  605],\n       [   0, 1071,    4,    0,  185,   24,  368,   20,   31, 3109,  954,\n          12,    3,   21,    2, 2915,    2,   12,    3,   21]])"
     },
     "execution_count": 12,
     "metadata": {},
     "output_type": "execute_result"
    }
   ],
   "source": [
    "_input_data[0:3]"
   ]
  },
  {
   "cell_type": "code",
   "execution_count": 13,
   "metadata": {},
   "outputs": [
    {
     "name": "stdout",
     "output_type": "stream",
     "text": [
      "['aer', 'banknote', 'berlitz', 'calloway', 'centrust', 'cluett', 'fromstein', 'gitano', 'guterman', 'hydro-quebec', 'ipo', 'kia', 'memotec', 'mlx', 'nahb', 'punts', 'rake', 'regatta', 'rubens', 'sim']\n"
     ]
    }
   ],
   "source": [
    "print(id_to_word(_input_data[0,:]))"
   ]
  },
  {
   "cell_type": "markdown",
   "metadata": {
    "button": false,
    "deletable": true,
    "new_sheet": false,
    "run_control": {
     "read_only": false
    }
   },
   "source": [
    "<h3>Embeddings</h3>\n",
    "We have to convert the words in our dataset to vectors of numbers. The traditional approach is to use one-hot encoding method that is usually used for converting categorical values to numerical values. However, One-hot encoded vectors are high-dimensional, sparse and in a big dataset, computationally inefficient. So, we use word2vec approach. It is, in fact, a layer in our LSTM network, where the word IDs will be represented as a dense representation before feeding to the LSTM. \n",
    "\n",
    "The embedded vectors also get updated during the training process of the deep neural network.\n",
    "We create the embeddings for our input data. <b>embedding_vocab</b> is matrix of \\[10000x200] for all 10000 unique words.\n"
   ]
  },
  {
   "cell_type": "markdown",
   "metadata": {
    "button": false,
    "deletable": true,
    "new_sheet": false,
    "run_control": {
     "read_only": false
    }
   },
   "source": [
    "<b>embedding_lookup()</b> finds the embedded values for our batch of 30x20 words. It  goes to each row of <code>input_data</code>, and for each word in the row/sentence, finds the correspond vector in <code>embedding_dic<code>. <br>\n",
    "It creates a \\[30x20x200] tensor, so, the first element of <b>inputs</b> (the first sentence), is a matrix of 20x200, which each row of it, is vector representing a word in the sentence.\n"
   ]
  },
  {
   "cell_type": "code",
   "execution_count": 14,
   "metadata": {},
   "outputs": [],
   "source": [
    "embedding_layer = tf.keras.layers.Embedding(vocab_size, embeding_vector_size,batch_input_shape=(batch_size, num_steps),trainable=True,name=\"embedding_vocab\")  "
   ]
  },
  {
   "cell_type": "code",
   "execution_count": 15,
   "metadata": {},
   "outputs": [
    {
     "data": {
      "text/plain": "<tf.Tensor: shape=(30, 20, 200), dtype=float32, numpy=\narray([[[-0.03808226,  0.04523978,  0.04908201, ..., -0.04782233,\n          0.00343753, -0.01869403],\n        [ 0.00037769,  0.04019961,  0.03254965, ...,  0.02298054,\n          0.02128873, -0.03195884],\n        [ 0.03340142,  0.0124706 , -0.00996231, ..., -0.04114207,\n         -0.04813902,  0.00428057],\n        ...,\n        [ 0.00552963, -0.02274936,  0.00917697, ...,  0.00907344,\n         -0.00761599, -0.02172928],\n        [ 0.0046527 ,  0.04284901, -0.02853978, ...,  0.02642509,\n         -0.00693346,  0.00835709],\n        [-0.04908234,  0.0355393 ,  0.04117027, ..., -0.0014229 ,\n          0.01256533,  0.04761622]],\n\n       [[-0.03665111, -0.01083422, -0.00094533, ...,  0.02979818,\n         -0.03818365,  0.02017491],\n        [ 0.00757707, -0.00276798, -0.03314002, ..., -0.00760426,\n          0.01950761,  0.03286563],\n        [-0.01018314,  0.00406197, -0.00776289, ...,  0.03060627,\n          0.03942769, -0.00825097],\n        ...,\n        [ 0.00298829, -0.03809474, -0.02417467, ..., -0.01553841,\n          0.04477346, -0.01665084],\n        [ 0.02496991,  0.00384326, -0.00118494, ..., -0.04814147,\n         -0.01721063, -0.00340278],\n        [-0.04989824, -0.04970644, -0.03580656, ..., -0.0063313 ,\n          0.0183883 ,  0.00205497]],\n\n       [[ 0.00354786, -0.01492902, -0.03552395, ..., -0.03276862,\n          0.0074815 ,  0.00723366],\n        [ 0.02291217,  0.0126991 , -0.04071373, ..., -0.02878214,\n          0.02314586,  0.02207826],\n        [-0.01402135,  0.04886837,  0.04023608, ..., -0.01133269,\n         -0.01227916, -0.03827475],\n        ...,\n        [ 0.0079645 ,  0.01273846,  0.02285742, ...,  0.02193836,\n          0.02947516,  0.0354033 ],\n        [-0.04650351,  0.01684351, -0.04416117, ..., -0.02427466,\n         -0.04808202,  0.01274803],\n        [ 0.02211863, -0.03322079, -0.0251889 , ..., -0.03911475,\n          0.04994904, -0.0096926 ]],\n\n       ...,\n\n       [[-0.04989685,  0.0118309 ,  0.01612569, ...,  0.0167836 ,\n         -0.02363318, -0.0080735 ],\n        [ 0.04011376,  0.00411858, -0.03597938, ..., -0.02166802,\n         -0.03144468,  0.04249665],\n        [-0.02283895,  0.01918845, -0.01491095, ...,  0.02818394,\n         -0.02119403, -0.00582591],\n        ...,\n        [-0.04699561, -0.04751681,  0.04230156, ..., -0.01473103,\n          0.02026515, -0.04680388],\n        [-0.03381033, -0.00192593, -0.03812135, ..., -0.04740017,\n          0.03999073,  0.00618226],\n        [-0.04502603,  0.01350728, -0.04728309, ...,  0.04277339,\n          0.03875927, -0.03157715]],\n\n       [[ 0.04262037,  0.02752398,  0.01203715, ..., -0.02780372,\n          0.02641127, -0.04251975],\n        [-0.01274868, -0.024729  ,  0.02324933, ..., -0.01062894,\n          0.03135451,  0.01664351],\n        [-0.01402135,  0.04886837,  0.04023608, ..., -0.01133269,\n         -0.01227916, -0.03827475],\n        ...,\n        [ 0.00246332,  0.04640039, -0.00122273, ...,  0.02081981,\n         -0.00416598, -0.03229694],\n        [ 0.00757707, -0.00276798, -0.03314002, ..., -0.00760426,\n          0.01950761,  0.03286563],\n        [-0.0269435 ,  0.00224266,  0.01483301, ...,  0.01502254,\n          0.04540476, -0.00785611]],\n\n       [[ 0.03186128,  0.01758725, -0.01954668, ...,  0.02843391,\n         -0.03839834,  0.01814625],\n        [ 0.01740629,  0.01924837, -0.04648555, ..., -0.04103941,\n          0.01562944,  0.03229972],\n        [ 0.01328801, -0.03065591, -0.02597609, ...,  0.03941587,\n         -0.01028429,  0.04659967],\n        ...,\n        [ 0.00784305,  0.0150359 ,  0.03103573, ..., -0.02157031,\n          0.02703078, -0.0040965 ],\n        [ 0.04056442, -0.04118284,  0.00909457, ...,  0.02496609,\n         -0.03888373, -0.03941333],\n        [-0.04662261, -0.04458419,  0.0413553 , ...,  0.00486984,\n         -0.04175435,  0.01504661]]], dtype=float32)>"
     },
     "execution_count": 15,
     "metadata": {},
     "output_type": "execute_result"
    }
   ],
   "source": [
    "# Define where to get the data for our embeddings from\n",
    "inputs = embedding_layer(_input_data)\n",
    "inputs"
   ]
  },
  {
   "cell_type": "markdown",
   "metadata": {},
   "source": [
    "<h3>Constructing Recurrent Neural Networks</h3>\n"
   ]
  },
  {
   "cell_type": "markdown",
   "metadata": {
    "button": false,
    "deletable": true,
    "new_sheet": false,
    "run_control": {
     "read_only": false
    }
   },
   "source": [
    "In this step, we create the stacked LSTM using <b>tf.keras.layers.StackedRNNCells</b>, which is a 2 layer LSTM network:\n"
   ]
  },
  {
   "cell_type": "code",
   "execution_count": 16,
   "metadata": {},
   "outputs": [],
   "source": [
    "lstm_cell_l1 = tf.keras.layers.LSTMCell(hidden_size_l1)\n",
    "lstm_cell_l2 = tf.keras.layers.LSTMCell(hidden_size_l2)"
   ]
  },
  {
   "cell_type": "code",
   "execution_count": 17,
   "metadata": {
    "button": false,
    "deletable": true,
    "new_sheet": false,
    "run_control": {
     "read_only": false
    }
   },
   "outputs": [],
   "source": [
    "stacked_lstm = tf.keras.layers.StackedRNNCells([lstm_cell_l1, lstm_cell_l2])"
   ]
  },
  {
   "cell_type": "markdown",
   "metadata": {},
   "source": [
    "<b>tf.keras.layers.RNN</b> creates a recurrent neural network using <b>stacked_lstm</b>.\n",
    "\n",
    "The input should be a Tensor of shape: \\[batch_size, max_time, embedding_vector_size], in our case it would be (30, 20, 200)\n"
   ]
  },
  {
   "cell_type": "code",
   "execution_count": 18,
   "metadata": {},
   "outputs": [],
   "source": [
    "layer  =  tf.keras.layers.RNN(stacked_lstm,[batch_size, num_steps],return_state=False,stateful=True,trainable=True)"
   ]
  },
  {
   "cell_type": "markdown",
   "metadata": {
    "button": false,
    "deletable": true,
    "new_sheet": false,
    "run_control": {
     "read_only": false
    }
   },
   "source": [
    "Also, we initialize the states of the nework:\n",
    "\n",
    "<h4>_initial_state</h4>\n",
    "\n",
    "For each LSTM, there are 2 state matrices, c_state and m_state.  c_state and m_state represent \"Memory State\" and \"Cell State\". Each hidden layer, has a vector of size 30, which keeps the states. so, for 200 hidden units in each LSTM, we have a matrix of size \\[30x200]\n"
   ]
  },
  {
   "cell_type": "code",
   "execution_count": 19,
   "metadata": {},
   "outputs": [],
   "source": [
    "init_state = tf.Variable(tf.zeros([batch_size,embeding_vector_size]),trainable=False)"
   ]
  },
  {
   "cell_type": "code",
   "execution_count": 20,
   "metadata": {},
   "outputs": [],
   "source": [
    "layer.inital_state = init_state"
   ]
  },
  {
   "cell_type": "code",
   "execution_count": 21,
   "metadata": {},
   "outputs": [
    {
     "data": {
      "text/plain": "<tf.Variable 'Variable:0' shape=(30, 200) dtype=float32, numpy=\narray([[0., 0., 0., ..., 0., 0., 0.],\n       [0., 0., 0., ..., 0., 0., 0.],\n       [0., 0., 0., ..., 0., 0., 0.],\n       ...,\n       [0., 0., 0., ..., 0., 0., 0.],\n       [0., 0., 0., ..., 0., 0., 0.],\n       [0., 0., 0., ..., 0., 0., 0.]], dtype=float32)>"
     },
     "execution_count": 21,
     "metadata": {},
     "output_type": "execute_result"
    }
   ],
   "source": [
    "layer.inital_state"
   ]
  },
  {
   "cell_type": "markdown",
   "metadata": {},
   "source": [
    "so, lets look at the outputs. The output of the stackedLSTM comes from 128 hidden_layer, and in each time step(=20), one of them get activated. we use the linear activation to map the 128 hidden layer to a \\[30X20 matrix]\n"
   ]
  },
  {
   "cell_type": "code",
   "execution_count": 22,
   "metadata": {},
   "outputs": [],
   "source": [
    "outputs = layer(inputs)"
   ]
  },
  {
   "cell_type": "code",
   "execution_count": 23,
   "metadata": {},
   "outputs": [
    {
     "data": {
      "text/plain": "<tf.Tensor: shape=(30, 20, 128), dtype=float32, numpy=\narray([[[-1.63454073e-03,  2.15767208e-03, -7.96449021e-04, ...,\n         -3.11323558e-04, -6.96192204e-04, -1.38104093e-04],\n        [-2.33852933e-03,  5.01509523e-03, -2.01896648e-03, ...,\n          2.71896657e-04, -3.01391818e-03, -6.21677260e-04],\n        [-1.80632982e-03,  6.84279855e-03, -1.61895587e-03, ...,\n          2.34963336e-05, -3.68171628e-03, -3.46036511e-03],\n        ...,\n        [-6.04612147e-03, -4.06746025e-04, -3.53861391e-03, ...,\n          1.17139518e-03, -4.70347935e-04,  8.36820225e-04],\n        [-7.55870249e-03,  6.40016951e-05, -3.65832914e-03, ...,\n          1.64613104e-03, -2.42018868e-04,  1.42526499e-03],\n        [-8.26684758e-03,  2.07026475e-04, -3.01421480e-03, ...,\n          2.59001186e-04, -7.21474062e-04,  8.32942082e-04]],\n\n       [[-1.28286937e-03,  2.93954858e-04, -3.79583973e-04, ...,\n         -7.81827373e-04, -6.38377736e-04,  1.72836496e-03],\n        [-3.61549342e-03, -2.55545089e-03, -3.24960391e-04, ...,\n         -1.89017272e-03, -6.38249563e-04,  3.48471734e-03],\n        [-4.72722342e-03, -3.71829374e-03, -7.58519105e-04, ...,\n         -3.35175358e-03, -6.71139627e-04,  3.73284635e-03],\n        ...,\n        [-4.63034306e-03,  1.74528605e-03, -6.42879866e-04, ...,\n         -3.26975738e-03,  6.34301128e-03, -7.01470813e-03],\n        [-4.19268478e-03,  1.29885475e-05, -1.42119091e-03, ...,\n         -2.93881167e-03,  5.79574984e-03, -8.64703581e-03],\n        [-4.64237807e-03, -2.09412700e-03, -3.65334540e-03, ...,\n         -3.20616434e-03,  5.73057029e-03, -8.24549422e-03]],\n\n       [[-6.18898484e-04, -2.21366601e-04,  1.11064303e-03, ...,\n         -9.53292765e-04,  1.78345421e-03, -4.24132013e-04],\n        [ 2.95000238e-04, -3.64880863e-04,  1.43917825e-03, ...,\n         -9.98742878e-04,  3.37680057e-03,  1.14980130e-03],\n        [-1.91085186e-04,  8.34831852e-04,  9.26551758e-04, ...,\n         -8.65002919e-04,  3.19574028e-03,  2.44227587e-03],\n        ...,\n        [-4.77552647e-03,  7.62995519e-03,  5.81487373e-04, ...,\n          2.35000672e-03,  1.48666231e-03, -3.10257659e-03],\n        [-4.93162405e-03,  6.80114841e-03,  2.82338675e-04, ...,\n          2.87466892e-03,  2.55300454e-03, -2.95617431e-03],\n        [-5.34915645e-03,  7.41261942e-03,  5.59151755e-04, ...,\n          4.49247425e-03,  4.02008696e-03, -3.38466279e-03]],\n\n       ...,\n\n       [[ 8.04566196e-04,  1.08717231e-03, -1.78982748e-03, ...,\n         -2.56220839e-04, -2.15963068e-04, -1.36017520e-03],\n        [ 1.37239846e-03,  1.88950053e-03, -2.55059241e-03, ...,\n          6.39480306e-04, -4.13401605e-04, -1.42692903e-03],\n        [ 1.33196672e-03,  1.61937787e-03, -3.12318583e-03, ...,\n          1.30927772e-03, -2.52876809e-04, -8.95523001e-04],\n        ...,\n        [-4.06830665e-03,  2.95948394e-06, -4.35991766e-04, ...,\n          6.46358635e-03,  5.55866817e-03,  6.56426710e-04],\n        [-4.08340944e-03,  7.57726899e-04,  3.18113482e-04, ...,\n          6.16152072e-03,  3.90579854e-03,  1.25970191e-03],\n        [-3.14708031e-03,  2.00162671e-04, -1.45496137e-03, ...,\n          5.83731290e-03,  3.86537728e-03, -5.97263162e-04]],\n\n       [[-7.75057182e-04,  5.69017546e-04, -1.54607638e-04, ...,\n         -1.18813291e-03, -3.41071485e-04,  1.47221886e-04],\n        [-7.08423962e-04,  1.00645889e-03,  4.69548366e-04, ...,\n         -2.48119398e-03,  1.46330113e-03,  2.44643277e-04],\n        [-1.54122838e-03,  2.44787615e-03,  2.74127407e-04, ...,\n         -2.89690355e-03,  2.02588341e-03,  1.10772427e-03],\n        ...,\n        [ 1.33214053e-03, -1.91258965e-03,  4.21682419e-03, ...,\n         -1.18225138e-03,  6.52837974e-04,  1.31287065e-03],\n        [ 7.14624824e-04, -4.05339664e-03,  4.96677402e-03, ...,\n         -2.52927933e-03,  1.02764159e-03,  2.29614996e-03],\n        [ 2.53287540e-03, -4.61367751e-03,  4.20333212e-03, ...,\n         -3.13683390e-03,  1.44608493e-03,  2.19596643e-03]],\n\n       [[ 3.62114457e-04,  1.01317465e-03,  1.79749564e-03, ...,\n          5.73661528e-04,  7.19782838e-04, -6.38858008e-04],\n        [ 6.53828843e-04,  8.62304412e-04,  2.48609949e-03, ...,\n          1.75177038e-03,  1.99927250e-03, -1.65565478e-04],\n        [ 1.09666435e-03,  5.63273425e-05,  2.56939093e-03, ...,\n          3.17115616e-03,  3.03079374e-03, -4.32576308e-05],\n        ...,\n        [-6.24742033e-03, -3.12061165e-03,  7.26701133e-03, ...,\n          2.20896374e-03,  2.01428193e-03, -8.30365112e-04],\n        [-8.48710909e-03, -1.49011135e-03,  6.37797778e-03, ...,\n          3.09540937e-03,  3.06979381e-03, -6.92493108e-04],\n        [-7.93424528e-03,  2.47897609e-04,  4.40962752e-03, ...,\n          3.52163916e-03,  3.33222374e-03, -5.34196733e-04]]],\n      dtype=float32)>"
     },
     "execution_count": 23,
     "metadata": {},
     "output_type": "execute_result"
    }
   ],
   "source": [
    "outputs"
   ]
  },
  {
   "cell_type": "markdown",
   "metadata": {
    "button": false,
    "deletable": true,
    "new_sheet": false,
    "run_control": {
     "read_only": false
    }
   },
   "source": [
    "<h2>Dense layer</h2>\n",
    "We now create densely-connected neural network layer that would reshape the outputs tensor from  [30 x 20 x 128] to [30 x 20 x 10000].\n"
   ]
  },
  {
   "cell_type": "code",
   "execution_count": 24,
   "metadata": {},
   "outputs": [],
   "source": [
    "dense = tf.keras.layers.Dense(vocab_size)"
   ]
  },
  {
   "cell_type": "code",
   "execution_count": 25,
   "metadata": {},
   "outputs": [],
   "source": [
    "logits_outputs  = dense(outputs)"
   ]
  },
  {
   "cell_type": "code",
   "execution_count": 26,
   "metadata": {},
   "outputs": [
    {
     "name": "stdout",
     "output_type": "stream",
     "text": [
      "shape of the output from dense layer:  (30, 20, 10000)\n"
     ]
    }
   ],
   "source": [
    "print(\"shape of the output from dense layer: \", logits_outputs.shape) #(batch_size, sequence_length, vocab_size)"
   ]
  },
  {
   "cell_type": "markdown",
   "metadata": {},
   "source": [
    "<h2>Activation layer</h2>\n",
    "\n",
    "A softmax activation layers is also then applied to derive the probability of the output being in any of the multiclass(10000 in this case) possibilities.\n"
   ]
  },
  {
   "cell_type": "code",
   "execution_count": 27,
   "metadata": {},
   "outputs": [],
   "source": [
    "activation = tf.keras.layers.Activation('softmax')"
   ]
  },
  {
   "cell_type": "code",
   "execution_count": 28,
   "metadata": {},
   "outputs": [],
   "source": [
    "output_words_prob = activation(logits_outputs)"
   ]
  },
  {
   "cell_type": "code",
   "execution_count": 29,
   "metadata": {},
   "outputs": [
    {
     "name": "stdout",
     "output_type": "stream",
     "text": [
      "shape of the output from the activation layer:  (30, 20, 10000)\n"
     ]
    }
   ],
   "source": [
    "print(\"shape of the output from the activation layer: \", output_words_prob.shape) #(batch_size, sequence_length, vocab_size)"
   ]
  },
  {
   "cell_type": "markdown",
   "metadata": {},
   "source": [
    "Lets look at the probability of observing words for t=0 to t=20:\n"
   ]
  },
  {
   "cell_type": "code",
   "execution_count": 30,
   "metadata": {},
   "outputs": [
    {
     "name": "stdout",
     "output_type": "stream",
     "text": [
      "The probability of observing words in t=0 to t=20 tf.Tensor(\n",
      "[[9.99871481e-05 9.99972908e-05 1.00035104e-04 ... 9.99957192e-05\n",
      "  1.00021054e-04 1.00024969e-04]\n",
      " [9.99597978e-05 9.99772674e-05 1.00056641e-04 ... 1.00012483e-04\n",
      "  1.00013778e-04 1.00042438e-04]\n",
      " [9.99636468e-05 9.99433832e-05 1.00093763e-04 ... 1.00011508e-04\n",
      "  1.00034318e-04 1.00062236e-04]\n",
      " ...\n",
      " [9.99660406e-05 9.99762487e-05 1.00000492e-04 ... 1.00050616e-04\n",
      "  9.99765107e-05 9.99887197e-05]\n",
      " [9.99639306e-05 9.99706172e-05 1.00000980e-04 ... 1.00027457e-04\n",
      "  9.99312542e-05 9.99686381e-05]\n",
      " [9.99475888e-05 9.99752083e-05 1.00017300e-04 ... 9.99917102e-05\n",
      "  9.99258991e-05 9.99844269e-05]], shape=(20, 10000), dtype=float32)\n"
     ]
    }
   ],
   "source": [
    "print(\"The probability of observing words in t=0 to t=20\", output_words_prob[0,0:num_steps])"
   ]
  },
  {
   "cell_type": "markdown",
   "metadata": {
    "button": false,
    "deletable": true,
    "new_sheet": false,
    "run_control": {
     "read_only": false
    }
   },
   "source": [
    "<h3>Prediction</h3>\n",
    "What is the word correspond to the probability output? Lets use the maximum probability:\n"
   ]
  },
  {
   "cell_type": "code",
   "execution_count": 31,
   "metadata": {},
   "outputs": [
    {
     "data": {
      "text/plain": "array([4951, 2601, 1683,  911, 6708, 6708, 7791, 7791, 9954, 1818, 1818,\n       8774, 5098, 5098, 4813, 6087, 6087, 8361, 2440, 2440], dtype=int64)"
     },
     "execution_count": 31,
     "metadata": {},
     "output_type": "execute_result"
    }
   ],
   "source": [
    "np.argmax(output_words_prob[0,0:num_steps], axis=1)"
   ]
  },
  {
   "cell_type": "markdown",
   "metadata": {
    "button": false,
    "deletable": true,
    "new_sheet": false,
    "run_control": {
     "read_only": false
    }
   },
   "source": [
    "So, what is the ground truth for the first word of first sentence? You can get it from target tensor, if you want to find the embedding vector:\n"
   ]
  },
  {
   "cell_type": "code",
   "execution_count": 32,
   "metadata": {
    "button": false,
    "deletable": true,
    "new_sheet": false,
    "run_control": {
     "read_only": false
    }
   },
   "outputs": [
    {
     "data": {
      "text/plain": "array([9971, 9972, 9974, 9975, 9976, 9980, 9981, 9982, 9983, 9984, 9986,\n       9987, 9988, 9989, 9991, 9992, 9993, 9994, 9995, 9996])"
     },
     "execution_count": 32,
     "metadata": {},
     "output_type": "execute_result"
    }
   ],
   "source": [
    "_targets[0]"
   ]
  },
  {
   "cell_type": "markdown",
   "metadata": {
    "button": false,
    "new_sheet": false,
    "run_control": {
     "read_only": false
    }
   },
   "source": [
    "<h4>Objective function</h4>\n",
    "\n",
    "How similar the predicted words are to the target words?\n",
    "\n",
    "Now we have to define our objective function, to calculate the similarity of predicted values to ground truth, and then, penalize the model with the error. Our objective is to minimize loss function, that is, to minimize the average negative log probability of the target words:\n",
    "\n",
    "$$\\text{loss} = -\\frac{1}{N}\\sum_{i=1}^{N} \\ln p_{\\text{target}_i}$$\n",
    "\n",
    "This function is already implemented and available in TensorFlow through *tf.keras.losses.sparse_categorical_crossentropy*. It calculates the categorical cross-entropy loss for <b>logits</b> and the <b>target</b> sequence.\n",
    "\n",
    "The arguments of this function are:\n",
    "\n",
    "<ul>\n",
    "    <li>logits: List of 2D Tensors of shape [batch_size x num_decoder_symbols].</li>  \n",
    "    <li>targets: List of 1D batch-sized int32 Tensors of the same length as logits.</li>   \n",
    "</ul>\n"
   ]
  },
  {
   "cell_type": "code",
   "execution_count": 33,
   "metadata": {},
   "outputs": [],
   "source": [
    "def crossentropy(y_true, y_pred):\n",
    "    return tf.keras.losses.sparse_categorical_crossentropy(y_true, y_pred)"
   ]
  },
  {
   "cell_type": "code",
   "execution_count": 34,
   "metadata": {},
   "outputs": [],
   "source": [
    "loss  = crossentropy(_targets, output_words_prob)"
   ]
  },
  {
   "cell_type": "markdown",
   "metadata": {
    "button": false,
    "new_sheet": false,
    "run_control": {
     "read_only": false
    }
   },
   "source": [
    "Lets look at the first 10 values of loss:\n"
   ]
  },
  {
   "cell_type": "code",
   "execution_count": 35,
   "metadata": {},
   "outputs": [
    {
     "data": {
      "text/plain": "<tf.Tensor: shape=(10,), dtype=float32, numpy=\narray([9.210586, 9.210364, 9.21073 , 9.210666, 9.210509, 9.209802,\n       9.210241, 9.21038 , 9.21059 , 9.210622], dtype=float32)>"
     },
     "execution_count": 35,
     "metadata": {},
     "output_type": "execute_result"
    }
   ],
   "source": [
    "loss[0,:10]"
   ]
  },
  {
   "cell_type": "markdown",
   "metadata": {},
   "source": [
    "Now, we define cost as average of the losses:\n"
   ]
  },
  {
   "cell_type": "code",
   "execution_count": 36,
   "metadata": {},
   "outputs": [
    {
     "data": {
      "text/plain": "<tf.Tensor: shape=(), dtype=float32, numpy=184.20692>"
     },
     "execution_count": 36,
     "metadata": {},
     "output_type": "execute_result"
    }
   ],
   "source": [
    "cost = tf.reduce_sum(loss / batch_size)\n",
    "cost"
   ]
  },
  {
   "cell_type": "markdown",
   "metadata": {
    "button": false,
    "deletable": true,
    "new_sheet": false,
    "run_control": {
     "read_only": false
    }
   },
   "source": [
    "<h3>Training</h3>\n",
    "\n",
    "To do training for our network, we have to take the following steps:\n",
    "\n",
    "<ol>\n",
    "    <li>Define the optimizer.</li>\n",
    "    <li>Assemble layers to build model.</li>\n",
    "    <li>Calculate the gradients based on the loss function.</li>\n",
    "    <li>Apply the optimizer to the variables/gradients tuple.</li>\n",
    "</ol>\n"
   ]
  },
  {
   "cell_type": "markdown",
   "metadata": {
    "button": false,
    "deletable": true,
    "new_sheet": false,
    "run_control": {
     "read_only": false
    }
   },
   "source": [
    "<h4>1. Define Optimizer</h4>\n"
   ]
  },
  {
   "cell_type": "code",
   "execution_count": 37,
   "metadata": {},
   "outputs": [
    {
     "name": "stderr",
     "output_type": "stream",
     "text": [
      "C:\\Development\\Anaconda3\\lib\\site-packages\\keras\\optimizer_v2\\gradient_descent.py:102: UserWarning: The `lr` argument is deprecated, use `learning_rate` instead.\n",
      "  super(SGD, self).__init__(name, **kwargs)\n"
     ]
    }
   ],
   "source": [
    "# Create a variable for the learning rate\n",
    "lr = tf.Variable(0.0, trainable=False)\n",
    "optimizer = tf.keras.optimizers.SGD(lr=lr, clipnorm=max_grad_norm)"
   ]
  },
  {
   "cell_type": "markdown",
   "metadata": {},
   "source": [
    "<h4>2. Assemble layers to build model.</h4>\n"
   ]
  },
  {
   "cell_type": "code",
   "execution_count": 39,
   "metadata": {},
   "outputs": [
    {
     "name": "stdout",
     "output_type": "stream",
     "text": [
      "Model: \"sequential\"\n",
      "_________________________________________________________________\n",
      " Layer (type)                Output Shape              Param #   \n",
      "=================================================================\n",
      " embedding_vocab (Embedding)  (30, 20, 200)            2000000   \n",
      "                                                                 \n",
      " rnn (RNN)                   (30, 20, 128)             671088    \n",
      "                                                                 \n",
      " dense (Dense)               (30, 20, 10000)           1290000   \n",
      "                                                                 \n",
      " activation (Activation)     (30, 20, 10000)           0         \n",
      "                                                                 \n",
      "=================================================================\n",
      "Total params: 3,961,088\n",
      "Trainable params: 3,955,088\n",
      "Non-trainable params: 6,000\n",
      "_________________________________________________________________\n"
     ]
    }
   ],
   "source": [
    "model = tf.keras.Sequential()\n",
    "model.add(embedding_layer)\n",
    "model.add(layer)\n",
    "model.add(dense)\n",
    "model.add(activation)\n",
    "model.compile(loss=crossentropy, optimizer=optimizer)\n",
    "model.summary()"
   ]
  },
  {
   "cell_type": "markdown",
   "metadata": {
    "button": false,
    "new_sheet": false,
    "run_control": {
     "read_only": false
    }
   },
   "source": [
    "<h4>2. Trainable Variables</h4>\n"
   ]
  },
  {
   "cell_type": "markdown",
   "metadata": {
    "button": false,
    "new_sheet": false,
    "run_control": {
     "read_only": false
    }
   },
   "source": [
    "Defining a variable, if you passed <i>trainable=True</i>, the variable constructor automatically adds new variables to the graph collection <b>GraphKeys.TRAINABLE_VARIABLES</b>. Now, using <i>tf.trainable_variables()</i> you can get all variables created with <b>trainable=True</b>.\n"
   ]
  },
  {
   "cell_type": "code",
   "execution_count": 40,
   "metadata": {
    "button": false,
    "new_sheet": false,
    "run_control": {
     "read_only": false
    }
   },
   "outputs": [],
   "source": [
    "# Get all TensorFlow variables marked as \"trainable\" (i.e. all of them except _lr, which we just created)\n",
    "tvars = model.trainable_variables"
   ]
  },
  {
   "cell_type": "markdown",
   "metadata": {
    "button": false,
    "new_sheet": false,
    "run_control": {
     "read_only": false
    }
   },
   "source": [
    "Note: we can find the name and scope of all variables:\n"
   ]
  },
  {
   "cell_type": "code",
   "execution_count": 41,
   "metadata": {
    "button": false,
    "new_sheet": false,
    "run_control": {
     "read_only": false
    }
   },
   "outputs": [
    {
     "data": {
      "text/plain": "['embedding_vocab/embeddings:0',\n 'rnn/stacked_rnn_cells/lstm_cell/kernel:0',\n 'rnn/stacked_rnn_cells/lstm_cell/recurrent_kernel:0',\n 'rnn/stacked_rnn_cells/lstm_cell/bias:0',\n 'rnn/stacked_rnn_cells/lstm_cell_1/kernel:0',\n 'rnn/stacked_rnn_cells/lstm_cell_1/recurrent_kernel:0',\n 'rnn/stacked_rnn_cells/lstm_cell_1/bias:0',\n 'dense/kernel:0',\n 'dense/bias:0']"
     },
     "execution_count": 41,
     "metadata": {},
     "output_type": "execute_result"
    }
   ],
   "source": [
    "[v.name for v in tvars] "
   ]
  },
  {
   "cell_type": "markdown",
   "metadata": {
    "button": false,
    "new_sheet": false,
    "run_control": {
     "read_only": false
    }
   },
   "source": [
    "<h4>3. Calculate the gradients based on the loss function</h4>\n"
   ]
  },
  {
   "cell_type": "markdown",
   "metadata": {
    "button": false,
    "deletable": true,
    "new_sheet": false,
    "run_control": {
     "read_only": false
    }
   },
   "source": [
    "**Gradient**: The gradient of a function is the slope of its derivative (line), or in other words, the rate of change of a function. It's a vector (a direction to move) that points in the direction of greatest increase of the function, and calculated by the <b>derivative</b> operation.\n"
   ]
  },
  {
   "cell_type": "markdown",
   "metadata": {},
   "source": [
    "First lets recall the gradient function using an toy example:\n",
    "$$ z = \\left(2x^2 + 3xy\\right)$$\n"
   ]
  },
  {
   "cell_type": "code",
   "execution_count": 42,
   "metadata": {},
   "outputs": [],
   "source": [
    "x = tf.constant(1.0)\n",
    "y =  tf.constant(2.0)\n",
    "with tf.GradientTape(persistent=True) as g:\n",
    "    g.watch(x)\n",
    "    g.watch(y)\n",
    "    func_test = 2 * x * x + 3 * x * y"
   ]
  },
  {
   "cell_type": "markdown",
   "metadata": {},
   "source": [
    "The <b>tf.gradients()</b> function allows you to compute the symbolic gradient of one tensor with respect to one or more other tensors—including variables. <b>tf.gradients(func, xs)</b> constructs symbolic partial derivatives of sum of <b>func</b> w\\.r.t. <i>x</i> in <b>xs</b>.\n",
    "\n",
    "Now, lets look at the derivitive w\\.r.t. <b>var_x</b>:\n",
    "$$ \\frac{\\partial :}{\\partial \\:x}\\left(2x^2 + 3xy\\right) = 4x + 3y $$\n"
   ]
  },
  {
   "cell_type": "code",
   "execution_count": 43,
   "metadata": {},
   "outputs": [
    {
     "name": "stdout",
     "output_type": "stream",
     "text": [
      "tf.Tensor(10.0, shape=(), dtype=float32)\n"
     ]
    }
   ],
   "source": [
    "var_grad = g.gradient(func_test, x) # Will compute to 10.0\n",
    "print(var_grad)"
   ]
  },
  {
   "cell_type": "markdown",
   "metadata": {},
   "source": [
    "the derivative w\\.r.t. <b>var_y</b>:\n",
    "$$ \\frac{\\partial :}{\\partial \\:y}\\left(2x^2 + 3xy\\right) = 3x $$\n"
   ]
  },
  {
   "cell_type": "code",
   "execution_count": 44,
   "metadata": {},
   "outputs": [
    {
     "name": "stdout",
     "output_type": "stream",
     "text": [
      "tf.Tensor(3.0, shape=(), dtype=float32)\n"
     ]
    }
   ],
   "source": [
    "var_grad = g.gradient(func_test, y) # Will compute to 3.0\n",
    "print(var_grad)"
   ]
  },
  {
   "cell_type": "markdown",
   "metadata": {},
   "source": [
    "Now, we can look at gradients w\\.r.t all variables:\n"
   ]
  },
  {
   "cell_type": "code",
   "execution_count": 45,
   "metadata": {},
   "outputs": [],
   "source": [
    "with tf.GradientTape() as tape:\n",
    "    # Forward pass.\n",
    "    output_words_prob = model(_input_data)\n",
    "    # Loss value for this batch.\n",
    "    loss  = crossentropy(_targets, output_words_prob)\n",
    "    cost = tf.reduce_sum(loss,axis=0) / batch_size"
   ]
  },
  {
   "cell_type": "code",
   "execution_count": 46,
   "metadata": {},
   "outputs": [],
   "source": [
    "# Get gradients of loss wrt the trainable variables.\n",
    "grad_t_list = tape.gradient(cost, tvars)"
   ]
  },
  {
   "cell_type": "code",
   "execution_count": 47,
   "metadata": {},
   "outputs": [
    {
     "name": "stdout",
     "output_type": "stream",
     "text": [
      "[<tensorflow.python.framework.indexed_slices.IndexedSlices object at 0x0000018CFDDF3190>, <tf.Tensor: shape=(200, 1024), dtype=float32, numpy=\n",
      "array([[ 3.9558591e-07,  4.4531612e-07, -5.0082497e-07, ...,\n",
      "        -1.0327258e-07,  2.5762304e-07,  2.9241073e-07],\n",
      "       [ 2.7611742e-07, -1.0699912e-06,  2.7377541e-07, ...,\n",
      "         2.8270819e-08,  4.3580474e-07,  3.1598185e-07],\n",
      "       [-6.0576627e-07,  5.1009778e-07, -5.6582098e-07, ...,\n",
      "         1.7992139e-07, -2.4026113e-07,  2.5794233e-07],\n",
      "       ...,\n",
      "       [-3.0170588e-07,  1.4768057e-07, -4.2729613e-07, ...,\n",
      "        -5.7841243e-07, -1.0205866e-08,  1.8575651e-07],\n",
      "       [ 6.4792559e-08,  5.7740897e-07,  3.5283463e-07, ...,\n",
      "        -6.0875146e-07,  1.6681500e-07,  3.7372257e-07],\n",
      "       [-7.8834617e-08, -1.1652803e-06,  1.6782312e-07, ...,\n",
      "        -3.7313939e-07,  5.9196225e-07,  3.1385596e-09]], dtype=float32)>, <tf.Tensor: shape=(256, 1024), dtype=float32, numpy=\n",
      "array([[-8.39361434e-08, -2.49608860e-07, -6.51491305e-08, ...,\n",
      "        -9.58544106e-08, -4.81099143e-08,  5.51929844e-08],\n",
      "       [ 2.66772595e-08, -2.10474511e-07,  8.27064426e-08, ...,\n",
      "        -8.74901787e-08, -1.14830812e-10,  2.16616911e-08],\n",
      "       [ 6.66106885e-08,  6.58855441e-08,  1.94327683e-07, ...,\n",
      "        -1.42756207e-07,  1.15923534e-07,  5.32523465e-08],\n",
      "       ...,\n",
      "       [ 3.45623789e-07,  1.93069440e-07,  6.31099795e-09, ...,\n",
      "        -1.63898015e-08, -6.93314206e-09,  8.63578435e-08],\n",
      "       [-1.65381280e-07,  3.25086035e-07,  4.22199058e-08, ...,\n",
      "        -7.35200416e-08,  3.63712502e-07, -7.00788405e-08],\n",
      "       [-3.75523967e-09,  1.98144591e-07, -8.42273451e-09, ...,\n",
      "         4.04917024e-08,  1.04512935e-07, -2.46112393e-07]], dtype=float32)>, <tf.Tensor: shape=(1024,), dtype=float32, numpy=\n",
      "array([ 2.9558880e-05, -1.0813658e-05,  1.2958828e-05, ...,\n",
      "        2.5321491e-05, -3.4826415e-05,  3.8374201e-06], dtype=float32)>, <tf.Tensor: shape=(256, 512), dtype=float32, numpy=\n",
      "array([[ 6.45835030e-08,  4.71040522e-08,  2.60498837e-07, ...,\n",
      "         6.88124544e-08,  7.76383757e-09,  6.74265976e-08],\n",
      "       [-3.67065596e-08,  1.98761654e-07,  1.04754321e-07, ...,\n",
      "         4.13062054e-07,  1.44208826e-07, -3.06833385e-07],\n",
      "       [ 1.23415145e-08,  9.63985869e-08,  9.85961321e-08, ...,\n",
      "         2.50911995e-07,  9.58077919e-08, -1.03583368e-07],\n",
      "       ...,\n",
      "       [ 4.86092553e-08,  9.37719449e-08,  2.73425744e-08, ...,\n",
      "        -1.85052457e-07, -7.00697882e-08, -1.94321046e-07],\n",
      "       [-1.67262613e-07, -2.16158469e-08,  1.52199533e-08, ...,\n",
      "         2.02008962e-07, -8.56250182e-08, -2.77827468e-08],\n",
      "       [-8.79059598e-08,  4.43876651e-08,  4.45063620e-07, ...,\n",
      "         1.32759510e-07,  2.07752009e-07,  2.83502999e-09]], dtype=float32)>, <tf.Tensor: shape=(128, 512), dtype=float32, numpy=\n",
      "array([[-1.8505158e-07, -2.3191404e-09,  4.9206449e-08, ...,\n",
      "        -5.3369448e-08,  1.1796425e-07, -3.9685162e-08],\n",
      "       [-2.7339096e-08,  6.0082641e-08, -2.1395266e-08, ...,\n",
      "         4.8081795e-08,  6.3546587e-08, -5.5959788e-08],\n",
      "       [-1.2389027e-07, -9.2686541e-08, -3.9870521e-08, ...,\n",
      "        -7.2399274e-08, -9.0130328e-08,  7.9449237e-08],\n",
      "       ...,\n",
      "       [-1.1717893e-07,  2.5644488e-07,  2.5857250e-07, ...,\n",
      "         4.0992785e-07, -1.2775786e-07, -1.8053426e-07],\n",
      "       [ 1.2802792e-07, -2.1548233e-07, -3.1678361e-08, ...,\n",
      "        -2.5607346e-07, -8.5005304e-08,  3.8359101e-08],\n",
      "       [-1.8133406e-09, -7.7089055e-08, -4.1984194e-09, ...,\n",
      "         8.4578478e-09, -1.3050773e-07, -1.2461599e-07]], dtype=float32)>, <tf.Tensor: shape=(512,), dtype=float32, numpy=\n",
      "array([ 4.18519339e-05, -1.13926908e-05,  3.99750206e-06, -1.49885627e-05,\n",
      "       -2.26136149e-06,  3.44703767e-05,  2.70534474e-05, -3.85822568e-05,\n",
      "        3.98491320e-05, -1.10821329e-05, -1.66838199e-05, -8.47737319e-05,\n",
      "       -6.85460418e-06, -1.98001435e-05, -1.27866024e-05,  6.10820716e-05,\n",
      "       -1.24668059e-05,  8.13886982e-06, -1.60033924e-05, -6.83315593e-05,\n",
      "        1.27965352e-04,  9.05018314e-05,  2.19709800e-05, -8.27762269e-05,\n",
      "       -7.81353083e-05, -3.61275488e-06, -3.33895173e-06, -2.00900213e-05,\n",
      "       -1.34020775e-05,  1.96440869e-05,  5.26299227e-05,  8.38181131e-06,\n",
      "        4.45582809e-05, -1.60488307e-05,  2.11347142e-05,  1.92031075e-06,\n",
      "       -2.96907892e-05, -6.33380978e-06,  5.40776819e-06,  1.02375689e-05,\n",
      "        4.30285127e-06,  1.22146215e-04, -4.41221118e-06,  3.25305155e-06,\n",
      "       -2.81523626e-07,  3.62343853e-05, -1.69178747e-06, -3.19637948e-05,\n",
      "        3.25765359e-05, -2.80236418e-05, -4.05891114e-05, -5.53265709e-05,\n",
      "       -3.32184100e-05,  1.68645038e-05,  6.91293753e-05,  6.65122116e-06,\n",
      "        4.88009391e-07, -1.16641304e-05, -7.92456103e-06, -3.17875601e-05,\n",
      "        3.25496985e-05, -5.20494541e-06,  2.75724269e-05, -2.62260401e-05,\n",
      "        1.13922761e-05, -1.18823382e-05, -1.40355187e-05, -7.08696607e-05,\n",
      "        1.60020172e-05, -1.16775685e-04,  2.24541236e-05,  1.50252854e-05,\n",
      "        4.82798278e-05,  5.23713061e-06,  1.20178684e-05, -6.76358377e-06,\n",
      "       -3.91925860e-05, -8.05608943e-05, -1.60473410e-05,  4.71181556e-05,\n",
      "        9.72260386e-06,  6.53977477e-05,  3.82529142e-05, -1.73860062e-05,\n",
      "        2.35758034e-05,  4.13370890e-06,  4.38818170e-05, -1.07344513e-05,\n",
      "        2.13074381e-05, -8.74749185e-06,  5.37628584e-05, -5.92873002e-05,\n",
      "       -1.68871029e-05,  2.98186133e-05, -2.02243609e-06, -1.38897394e-05,\n",
      "        2.26403736e-05, -3.90432433e-07,  4.40308359e-05,  5.49923016e-06,\n",
      "       -8.81748492e-05,  2.89305081e-05,  4.38286179e-07,  4.43097815e-05,\n",
      "       -1.33841240e-07,  1.17873042e-05,  2.31314625e-05, -6.49411959e-05,\n",
      "       -2.42484602e-05, -1.05339132e-05,  8.86853650e-06, -4.81441612e-06,\n",
      "        1.59697520e-05, -7.00954206e-06,  1.07460519e-05, -1.30398021e-05,\n",
      "        1.68392617e-05, -4.78152469e-05,  4.68930157e-05, -1.20482673e-05,\n",
      "       -6.03765329e-07, -3.03034958e-05,  2.34211257e-05,  3.92591428e-05,\n",
      "       -4.98790469e-05, -1.14412815e-05, -2.47025264e-06, -3.64095031e-05,\n",
      "        5.22753144e-05, -5.92645301e-06,  4.87183297e-06, -1.27240719e-05,\n",
      "        2.01421972e-05,  2.03728341e-05,  2.36688320e-05, -6.12752046e-05,\n",
      "        5.15724096e-05, -2.02892916e-05, -2.85983174e-06, -1.00486883e-04,\n",
      "       -1.51438971e-05, -3.70774433e-06, -6.08391019e-05,  8.36317340e-05,\n",
      "       -1.73746248e-05,  2.57108622e-05, -3.73763942e-05, -5.18279521e-05,\n",
      "        1.92126899e-04,  1.11816727e-04,  6.29916576e-06, -1.18767668e-04,\n",
      "       -8.11364953e-05,  8.57438863e-07, -2.62429694e-06, -2.55173254e-05,\n",
      "       -1.42686467e-05,  5.98718761e-05,  8.04863084e-05,  2.23751595e-05,\n",
      "        5.92522192e-05, -7.26834605e-06,  3.22447595e-05, -7.69944108e-07,\n",
      "       -5.77196697e-05,  1.63873046e-05, -5.61943671e-06,  3.90259811e-05,\n",
      "       -2.91199422e-06,  1.88141101e-04,  8.56457427e-06, -1.66440968e-05,\n",
      "        1.78100527e-05,  8.14484956e-05, -2.06559780e-05, -1.10858255e-05,\n",
      "        4.14287242e-05, -2.18137029e-05, -3.93372102e-05, -1.07370943e-04,\n",
      "       -5.59445034e-05,  1.56481437e-05,  9.83617138e-05,  2.98368650e-05,\n",
      "       -2.10530307e-05, -2.93368921e-05,  1.09579560e-07, -4.47494022e-05,\n",
      "        1.18725202e-05, -5.29247518e-06,  3.06882939e-05, -2.42085007e-05,\n",
      "        2.27429173e-05, -3.75049567e-05, -1.95584744e-06, -9.29736852e-05,\n",
      "       -6.27464124e-06, -1.64707599e-04,  3.35949589e-05,  1.50778906e-05,\n",
      "        5.45041585e-05,  1.33702624e-05, -7.36996981e-07, -2.22713315e-05,\n",
      "       -6.92251415e-05, -9.25350905e-05,  2.39521682e-06,  6.62549865e-05,\n",
      "        2.46617165e-05,  5.36697225e-05,  2.77206600e-05, -3.94755152e-05,\n",
      "        3.11358854e-05, -3.12553930e-05,  6.40302605e-05,  1.55752969e-06,\n",
      "        6.58430099e-06, -4.71149688e-05,  8.99722945e-05, -7.31965265e-05,\n",
      "       -2.96344424e-05,  4.32946908e-05,  2.57395664e-06, -5.36490588e-05,\n",
      "        3.94387025e-05, -4.00937788e-05,  5.49128090e-05,  1.25649940e-05,\n",
      "       -1.23438469e-04,  2.91231554e-05,  9.63251023e-06,  3.69411209e-05,\n",
      "       -3.26334225e-06,  1.98105117e-05,  2.33508381e-05, -7.53774511e-05,\n",
      "       -2.93796165e-05, -1.29704058e-05,  1.42184890e-05, -6.74502553e-06,\n",
      "        8.18718763e-06,  1.34620814e-06,  2.62273734e-05, -6.81057099e-06,\n",
      "        1.67988128e-05, -3.52416537e-05,  6.96051211e-05, -3.21472089e-06,\n",
      "        9.80813275e-06, -4.25510225e-05,  5.37295855e-05,  4.21077202e-05,\n",
      "       -5.02823386e-05, -1.09602388e-05, -1.72774853e-05, -5.21708826e-05,\n",
      "       -9.27627366e-03, -1.33354543e-03, -4.04238421e-03, -4.65958789e-02,\n",
      "        2.42649950e-02, -9.28492006e-03,  4.47975285e-02, -1.89222526e-02,\n",
      "       -1.40407206e-02,  7.54940463e-03,  7.23319873e-03, -1.83101408e-02,\n",
      "       -2.20850995e-03,  1.15206838e-03, -1.51394345e-02, -1.88016705e-03,\n",
      "        9.07264091e-03,  7.03088706e-03, -2.37138178e-02,  3.69174592e-02,\n",
      "       -6.89607039e-02, -3.97346765e-02,  5.68585731e-02,  5.92569038e-02,\n",
      "        5.65926954e-02,  2.02851035e-02, -2.59797014e-02, -4.15030029e-03,\n",
      "       -1.16216410e-02,  1.57949068e-02,  2.14862302e-02, -1.32038202e-02,\n",
      "       -1.55521566e-02,  6.89051673e-03, -1.28887417e-02, -3.02505773e-03,\n",
      "       -4.50916365e-02, -3.11307367e-02,  3.29685211e-02,  3.72450356e-03,\n",
      "        2.46364884e-02,  5.73444963e-02,  6.61614584e-03, -7.18163401e-02,\n",
      "        5.57746505e-03,  4.39042524e-02, -3.95906791e-02,  9.99486726e-03,\n",
      "       -3.65890078e-02,  1.47954095e-03, -9.80117172e-03,  6.43342286e-02,\n",
      "        9.20949504e-03,  3.03498143e-03, -4.90588099e-02,  2.86892839e-02,\n",
      "       -3.00621223e-02, -3.62213491e-03,  3.13358456e-02, -1.74621847e-02,\n",
      "       -2.52230968e-02,  5.54032922e-02,  7.09181465e-03, -7.23313354e-03,\n",
      "        2.55564451e-02,  1.95243619e-02, -1.28566027e-02, -2.31903270e-02,\n",
      "        3.27000627e-03, -6.54787272e-02, -4.83884895e-03, -1.09253488e-02,\n",
      "       -7.91693572e-03, -1.26076583e-02, -8.01696721e-03, -4.57158173e-03,\n",
      "        2.45813783e-02,  2.37523839e-02, -3.11167687e-02,  1.01888236e-02,\n",
      "        1.06273927e-02,  3.33831273e-02,  1.28745828e-02,  8.44914746e-03,\n",
      "       -1.62832830e-02, -2.44167782e-02, -4.14675549e-02,  4.20608791e-03,\n",
      "       -1.76887419e-02, -3.34856436e-02, -6.57007396e-02,  1.51002277e-02,\n",
      "        1.15239685e-02, -1.82055328e-02, -1.54860951e-02, -2.88513340e-02,\n",
      "       -7.71495746e-03,  3.66302161e-03, -1.05753960e-02, -1.57399364e-02,\n",
      "       -3.99740711e-02,  1.42684039e-02, -3.75247910e-03,  1.31216813e-02,\n",
      "        1.78158768e-02, -3.44738178e-02,  6.23023137e-03, -1.50895920e-02,\n",
      "        2.47531151e-03, -1.77739132e-02, -2.34722588e-02,  2.54001189e-02,\n",
      "       -2.49813637e-03,  2.29183175e-02, -1.95262507e-02, -2.78555043e-02,\n",
      "       -2.52031535e-03,  1.64986160e-02,  8.18971824e-03, -2.40393337e-02,\n",
      "        3.53621021e-02,  3.82663086e-02,  5.81410117e-02,  3.45231034e-03,\n",
      "       -1.11806588e-02,  3.73961814e-02, -2.37565897e-02, -1.43680652e-03,\n",
      "        4.06458712e-05, -1.02221929e-06,  2.09051268e-06, -2.27371784e-05,\n",
      "        1.05768686e-06,  3.07220398e-05,  3.44717992e-05, -3.89812885e-05,\n",
      "        5.30388825e-05, -1.43217712e-05, -1.27867997e-05, -9.14616248e-05,\n",
      "       -2.92445475e-06, -2.59825774e-05, -1.62967081e-05,  7.28526065e-05,\n",
      "       -1.59089959e-05,  5.04310674e-06, -2.64104765e-05, -7.70958723e-05,\n",
      "        1.37657946e-04,  1.06132866e-04,  2.47625285e-05, -8.58125568e-05,\n",
      "       -1.01406171e-04,  5.45787316e-06, -1.44830369e-06, -2.15438740e-05,\n",
      "       -2.09051832e-05,  2.69224984e-05,  5.22017108e-05,  6.96254301e-06,\n",
      "        4.92523905e-05, -1.36137824e-05,  2.03673844e-05, -4.78425136e-06,\n",
      "       -2.52014543e-05, -8.86669568e-07,  3.40998122e-06,  1.03107777e-05,\n",
      "       -1.76965386e-07,  1.42699326e-04, -3.18137791e-06, -9.95503797e-07,\n",
      "       -5.00706847e-07,  4.11540750e-05,  2.82870542e-06, -3.99790297e-05,\n",
      "        3.00268985e-05, -2.18812820e-05, -5.05424396e-05, -6.99480734e-05,\n",
      "       -4.25272665e-05,  2.47234711e-05,  8.04140145e-05,  6.89625540e-06,\n",
      "        8.39980021e-06, -1.60555101e-05, -1.23627779e-05, -2.43850645e-05,\n",
      "        3.53379583e-05, -1.15342737e-05,  2.93908142e-05, -2.49084478e-05,\n",
      "        7.25084510e-06, -1.31619136e-05, -1.24771932e-05, -7.28015657e-05,\n",
      "        2.31658360e-05, -1.34397211e-04,  3.07383598e-05,  1.19811211e-05,\n",
      "        4.98277732e-05,  9.35859407e-06,  1.34897764e-05, -9.22347135e-06,\n",
      "       -3.64231164e-05, -9.34961354e-05, -2.20933762e-05,  5.02354887e-05,\n",
      "        1.83990487e-05,  7.36247384e-05,  3.88487242e-05, -2.13954627e-05,\n",
      "        2.44084949e-05, -2.81218854e-06,  4.82717733e-05, -1.30859207e-05,\n",
      "        1.94694549e-05, -1.41645960e-05,  6.35578981e-05, -6.50058209e-05,\n",
      "       -1.89257262e-05,  2.83903573e-05, -8.29294004e-06, -2.20400725e-05,\n",
      "        2.70394194e-05, -5.97478174e-06,  5.63061330e-05,  1.69969144e-06,\n",
      "       -1.08472399e-04,  2.55488667e-05,  6.93378661e-06,  4.48704668e-05,\n",
      "       -1.66693462e-06,  1.93307533e-05,  2.61267833e-05, -7.42048942e-05,\n",
      "       -2.67526502e-05, -1.27060048e-06,  1.28303982e-05, -1.23559585e-05,\n",
      "        1.92893531e-05,  1.04530466e-06,  1.43737225e-05, -1.67760882e-05,\n",
      "        1.46118327e-05, -5.26851290e-05,  4.69662373e-05, -8.68139796e-06,\n",
      "        3.68348992e-06, -3.36865269e-05,  3.27498528e-05,  3.78486147e-05,\n",
      "       -4.79398223e-05, -1.25123461e-05, -7.33814568e-06, -3.99924174e-05],\n",
      "      dtype=float32)>, <tf.Tensor: shape=(128, 10000), dtype=float32, numpy=\n",
      "array([[ 3.6002477e-03,  4.3784901e-03,  3.5780459e-03, ...,\n",
      "        -6.3426828e-06, -6.3381303e-06, -6.3452071e-06],\n",
      "       [-9.6530118e-04, -8.9980767e-04, -4.4895726e-04, ...,\n",
      "         1.3173035e-06,  1.3163449e-06,  1.3169940e-06],\n",
      "       [ 1.2818476e-03,  1.4182003e-03,  2.8926926e-03, ...,\n",
      "        -3.4659738e-06, -3.4624618e-06, -3.4659379e-06],\n",
      "       ...,\n",
      "       [ 1.4409074e-05,  6.8846176e-04,  8.3230523e-04, ...,\n",
      "        -4.4986371e-07, -4.4875895e-07, -4.4991501e-07],\n",
      "       [-1.6144370e-03, -1.9876896e-03, -1.6623467e-03, ...,\n",
      "         3.8324433e-06,  3.8312801e-06,  3.8329490e-06],\n",
      "       [-2.5066154e-03, -3.4267758e-03, -2.7685375e-03, ...,\n",
      "         4.4266162e-06,  4.4209742e-06,  4.4270651e-06]], dtype=float32)>, <tf.Tensor: shape=(10000,), dtype=float32, numpy=\n",
      "array([-0.79799896, -1.0313314 , -1.0313313 , ...,  0.00200023,\n",
      "        0.00199919,  0.0020008 ], dtype=float32)>]\n"
     ]
    }
   ],
   "source": [
    "print(grad_t_list)"
   ]
  },
  {
   "cell_type": "markdown",
   "metadata": {
    "button": false,
    "new_sheet": false,
    "run_control": {
     "read_only": false
    }
   },
   "source": [
    "now, we have a list of tensors, t-list. We can use it to find clipped tensors. <b>clip_by_global_norm</b> clips values of multiple tensors by the ratio of the sum of their norms.\n",
    "\n",
    "<b>clip_by_global_norm</b> get <i>t-list</i> as input and returns 2 things:\n",
    "\n",
    "<ul>\n",
    "    <li>a list of clipped tensors, so called <i>list_clipped</i></li> \n",
    "    <li>the global norm (global_norm) of all tensors in t_list</li> \n",
    "</ul>\n"
   ]
  },
  {
   "cell_type": "code",
   "execution_count": 48,
   "metadata": {},
   "outputs": [
    {
     "data": {
      "text/plain": "[<tensorflow.python.framework.indexed_slices.IndexedSlices at 0x18cfddf3550>,\n <tf.Tensor: shape=(200, 1024), dtype=float32, numpy=\n array([[ 3.9558591e-07,  4.4531612e-07, -5.0082497e-07, ...,\n         -1.0327258e-07,  2.5762304e-07,  2.9241073e-07],\n        [ 2.7611742e-07, -1.0699912e-06,  2.7377541e-07, ...,\n          2.8270819e-08,  4.3580474e-07,  3.1598185e-07],\n        [-6.0576627e-07,  5.1009778e-07, -5.6582098e-07, ...,\n          1.7992139e-07, -2.4026113e-07,  2.5794233e-07],\n        ...,\n        [-3.0170588e-07,  1.4768057e-07, -4.2729613e-07, ...,\n         -5.7841243e-07, -1.0205866e-08,  1.8575651e-07],\n        [ 6.4792559e-08,  5.7740897e-07,  3.5283463e-07, ...,\n         -6.0875146e-07,  1.6681500e-07,  3.7372257e-07],\n        [-7.8834617e-08, -1.1652803e-06,  1.6782312e-07, ...,\n         -3.7313939e-07,  5.9196225e-07,  3.1385596e-09]], dtype=float32)>,\n <tf.Tensor: shape=(256, 1024), dtype=float32, numpy=\n array([[-8.39361434e-08, -2.49608860e-07, -6.51491305e-08, ...,\n         -9.58544106e-08, -4.81099143e-08,  5.51929844e-08],\n        [ 2.66772595e-08, -2.10474511e-07,  8.27064426e-08, ...,\n         -8.74901787e-08, -1.14830812e-10,  2.16616911e-08],\n        [ 6.66106885e-08,  6.58855441e-08,  1.94327683e-07, ...,\n         -1.42756207e-07,  1.15923534e-07,  5.32523465e-08],\n        ...,\n        [ 3.45623789e-07,  1.93069440e-07,  6.31099795e-09, ...,\n         -1.63898015e-08, -6.93314206e-09,  8.63578435e-08],\n        [-1.65381280e-07,  3.25086035e-07,  4.22199058e-08, ...,\n         -7.35200416e-08,  3.63712502e-07, -7.00788405e-08],\n        [-3.75523967e-09,  1.98144591e-07, -8.42273451e-09, ...,\n          4.04917024e-08,  1.04512935e-07, -2.46112393e-07]], dtype=float32)>,\n <tf.Tensor: shape=(1024,), dtype=float32, numpy=\n array([ 2.9558880e-05, -1.0813658e-05,  1.2958828e-05, ...,\n         2.5321491e-05, -3.4826415e-05,  3.8374201e-06], dtype=float32)>,\n <tf.Tensor: shape=(256, 512), dtype=float32, numpy=\n array([[ 6.45835030e-08,  4.71040522e-08,  2.60498837e-07, ...,\n          6.88124544e-08,  7.76383757e-09,  6.74265976e-08],\n        [-3.67065596e-08,  1.98761654e-07,  1.04754321e-07, ...,\n          4.13062054e-07,  1.44208826e-07, -3.06833385e-07],\n        [ 1.23415145e-08,  9.63985869e-08,  9.85961321e-08, ...,\n          2.50911995e-07,  9.58077919e-08, -1.03583368e-07],\n        ...,\n        [ 4.86092553e-08,  9.37719449e-08,  2.73425744e-08, ...,\n         -1.85052457e-07, -7.00697882e-08, -1.94321046e-07],\n        [-1.67262613e-07, -2.16158469e-08,  1.52199533e-08, ...,\n          2.02008962e-07, -8.56250182e-08, -2.77827468e-08],\n        [-8.79059598e-08,  4.43876651e-08,  4.45063620e-07, ...,\n          1.32759510e-07,  2.07752009e-07,  2.83502999e-09]], dtype=float32)>,\n <tf.Tensor: shape=(128, 512), dtype=float32, numpy=\n array([[-1.8505158e-07, -2.3191404e-09,  4.9206449e-08, ...,\n         -5.3369448e-08,  1.1796425e-07, -3.9685162e-08],\n        [-2.7339096e-08,  6.0082641e-08, -2.1395266e-08, ...,\n          4.8081795e-08,  6.3546587e-08, -5.5959788e-08],\n        [-1.2389027e-07, -9.2686541e-08, -3.9870521e-08, ...,\n         -7.2399274e-08, -9.0130328e-08,  7.9449237e-08],\n        ...,\n        [-1.1717893e-07,  2.5644488e-07,  2.5857250e-07, ...,\n          4.0992785e-07, -1.2775786e-07, -1.8053426e-07],\n        [ 1.2802792e-07, -2.1548233e-07, -3.1678361e-08, ...,\n         -2.5607346e-07, -8.5005304e-08,  3.8359101e-08],\n        [-1.8133406e-09, -7.7089055e-08, -4.1984194e-09, ...,\n          8.4578478e-09, -1.3050773e-07, -1.2461599e-07]], dtype=float32)>,\n <tf.Tensor: shape=(512,), dtype=float32, numpy=\n array([ 4.18519339e-05, -1.13926908e-05,  3.99750206e-06, -1.49885627e-05,\n        -2.26136149e-06,  3.44703767e-05,  2.70534474e-05, -3.85822568e-05,\n         3.98491320e-05, -1.10821329e-05, -1.66838199e-05, -8.47737319e-05,\n        -6.85460418e-06, -1.98001435e-05, -1.27866024e-05,  6.10820716e-05,\n        -1.24668059e-05,  8.13886982e-06, -1.60033924e-05, -6.83315593e-05,\n         1.27965352e-04,  9.05018314e-05,  2.19709800e-05, -8.27762269e-05,\n        -7.81353083e-05, -3.61275488e-06, -3.33895173e-06, -2.00900213e-05,\n        -1.34020775e-05,  1.96440869e-05,  5.26299227e-05,  8.38181131e-06,\n         4.45582809e-05, -1.60488307e-05,  2.11347142e-05,  1.92031075e-06,\n        -2.96907892e-05, -6.33380978e-06,  5.40776819e-06,  1.02375689e-05,\n         4.30285127e-06,  1.22146215e-04, -4.41221118e-06,  3.25305155e-06,\n        -2.81523626e-07,  3.62343853e-05, -1.69178747e-06, -3.19637948e-05,\n         3.25765359e-05, -2.80236418e-05, -4.05891114e-05, -5.53265709e-05,\n        -3.32184100e-05,  1.68645038e-05,  6.91293753e-05,  6.65122116e-06,\n         4.88009391e-07, -1.16641304e-05, -7.92456103e-06, -3.17875601e-05,\n         3.25496985e-05, -5.20494541e-06,  2.75724269e-05, -2.62260401e-05,\n         1.13922761e-05, -1.18823382e-05, -1.40355187e-05, -7.08696607e-05,\n         1.60020172e-05, -1.16775685e-04,  2.24541236e-05,  1.50252854e-05,\n         4.82798278e-05,  5.23713061e-06,  1.20178684e-05, -6.76358377e-06,\n        -3.91925860e-05, -8.05608943e-05, -1.60473410e-05,  4.71181556e-05,\n         9.72260386e-06,  6.53977477e-05,  3.82529142e-05, -1.73860062e-05,\n         2.35758034e-05,  4.13370890e-06,  4.38818170e-05, -1.07344513e-05,\n         2.13074381e-05, -8.74749185e-06,  5.37628584e-05, -5.92873002e-05,\n        -1.68871029e-05,  2.98186133e-05, -2.02243609e-06, -1.38897394e-05,\n         2.26403736e-05, -3.90432433e-07,  4.40308359e-05,  5.49923016e-06,\n        -8.81748492e-05,  2.89305081e-05,  4.38286179e-07,  4.43097815e-05,\n        -1.33841240e-07,  1.17873042e-05,  2.31314625e-05, -6.49411959e-05,\n        -2.42484602e-05, -1.05339132e-05,  8.86853650e-06, -4.81441612e-06,\n         1.59697520e-05, -7.00954206e-06,  1.07460519e-05, -1.30398021e-05,\n         1.68392617e-05, -4.78152469e-05,  4.68930157e-05, -1.20482673e-05,\n        -6.03765329e-07, -3.03034958e-05,  2.34211257e-05,  3.92591428e-05,\n        -4.98790469e-05, -1.14412815e-05, -2.47025264e-06, -3.64095031e-05,\n         5.22753144e-05, -5.92645301e-06,  4.87183297e-06, -1.27240719e-05,\n         2.01421972e-05,  2.03728341e-05,  2.36688320e-05, -6.12752046e-05,\n         5.15724096e-05, -2.02892916e-05, -2.85983174e-06, -1.00486883e-04,\n        -1.51438971e-05, -3.70774433e-06, -6.08391019e-05,  8.36317340e-05,\n        -1.73746248e-05,  2.57108622e-05, -3.73763942e-05, -5.18279521e-05,\n         1.92126899e-04,  1.11816727e-04,  6.29916576e-06, -1.18767668e-04,\n        -8.11364953e-05,  8.57438863e-07, -2.62429694e-06, -2.55173254e-05,\n        -1.42686467e-05,  5.98718761e-05,  8.04863084e-05,  2.23751595e-05,\n         5.92522192e-05, -7.26834605e-06,  3.22447595e-05, -7.69944108e-07,\n        -5.77196697e-05,  1.63873046e-05, -5.61943671e-06,  3.90259811e-05,\n        -2.91199422e-06,  1.88141101e-04,  8.56457427e-06, -1.66440968e-05,\n         1.78100527e-05,  8.14484956e-05, -2.06559780e-05, -1.10858255e-05,\n         4.14287242e-05, -2.18137029e-05, -3.93372102e-05, -1.07370943e-04,\n        -5.59445034e-05,  1.56481437e-05,  9.83617138e-05,  2.98368650e-05,\n        -2.10530307e-05, -2.93368921e-05,  1.09579560e-07, -4.47494022e-05,\n         1.18725202e-05, -5.29247518e-06,  3.06882939e-05, -2.42085007e-05,\n         2.27429173e-05, -3.75049567e-05, -1.95584744e-06, -9.29736852e-05,\n        -6.27464124e-06, -1.64707599e-04,  3.35949589e-05,  1.50778906e-05,\n         5.45041585e-05,  1.33702624e-05, -7.36996981e-07, -2.22713315e-05,\n        -6.92251415e-05, -9.25350905e-05,  2.39521682e-06,  6.62549865e-05,\n         2.46617165e-05,  5.36697225e-05,  2.77206600e-05, -3.94755152e-05,\n         3.11358854e-05, -3.12553930e-05,  6.40302605e-05,  1.55752969e-06,\n         6.58430099e-06, -4.71149688e-05,  8.99722945e-05, -7.31965265e-05,\n        -2.96344424e-05,  4.32946908e-05,  2.57395664e-06, -5.36490588e-05,\n         3.94387025e-05, -4.00937788e-05,  5.49128090e-05,  1.25649940e-05,\n        -1.23438469e-04,  2.91231554e-05,  9.63251023e-06,  3.69411209e-05,\n        -3.26334225e-06,  1.98105117e-05,  2.33508381e-05, -7.53774511e-05,\n        -2.93796165e-05, -1.29704058e-05,  1.42184890e-05, -6.74502553e-06,\n         8.18718763e-06,  1.34620814e-06,  2.62273734e-05, -6.81057099e-06,\n         1.67988128e-05, -3.52416537e-05,  6.96051211e-05, -3.21472089e-06,\n         9.80813275e-06, -4.25510225e-05,  5.37295855e-05,  4.21077202e-05,\n        -5.02823386e-05, -1.09602388e-05, -1.72774853e-05, -5.21708826e-05,\n        -9.27627366e-03, -1.33354543e-03, -4.04238421e-03, -4.65958789e-02,\n         2.42649950e-02, -9.28492006e-03,  4.47975285e-02, -1.89222526e-02,\n        -1.40407206e-02,  7.54940463e-03,  7.23319873e-03, -1.83101408e-02,\n        -2.20850995e-03,  1.15206838e-03, -1.51394345e-02, -1.88016705e-03,\n         9.07264091e-03,  7.03088706e-03, -2.37138178e-02,  3.69174592e-02,\n        -6.89607039e-02, -3.97346765e-02,  5.68585731e-02,  5.92569038e-02,\n         5.65926954e-02,  2.02851035e-02, -2.59797014e-02, -4.15030029e-03,\n        -1.16216410e-02,  1.57949068e-02,  2.14862302e-02, -1.32038202e-02,\n        -1.55521566e-02,  6.89051673e-03, -1.28887417e-02, -3.02505773e-03,\n        -4.50916365e-02, -3.11307367e-02,  3.29685211e-02,  3.72450356e-03,\n         2.46364884e-02,  5.73444963e-02,  6.61614584e-03, -7.18163401e-02,\n         5.57746505e-03,  4.39042524e-02, -3.95906791e-02,  9.99486726e-03,\n        -3.65890078e-02,  1.47954095e-03, -9.80117172e-03,  6.43342286e-02,\n         9.20949504e-03,  3.03498143e-03, -4.90588099e-02,  2.86892839e-02,\n        -3.00621223e-02, -3.62213491e-03,  3.13358456e-02, -1.74621847e-02,\n        -2.52230968e-02,  5.54032922e-02,  7.09181465e-03, -7.23313354e-03,\n         2.55564451e-02,  1.95243619e-02, -1.28566027e-02, -2.31903270e-02,\n         3.27000627e-03, -6.54787272e-02, -4.83884895e-03, -1.09253488e-02,\n        -7.91693572e-03, -1.26076583e-02, -8.01696721e-03, -4.57158173e-03,\n         2.45813783e-02,  2.37523839e-02, -3.11167687e-02,  1.01888236e-02,\n         1.06273927e-02,  3.33831273e-02,  1.28745828e-02,  8.44914746e-03,\n        -1.62832830e-02, -2.44167782e-02, -4.14675549e-02,  4.20608791e-03,\n        -1.76887419e-02, -3.34856436e-02, -6.57007396e-02,  1.51002277e-02,\n         1.15239685e-02, -1.82055328e-02, -1.54860951e-02, -2.88513340e-02,\n        -7.71495746e-03,  3.66302161e-03, -1.05753960e-02, -1.57399364e-02,\n        -3.99740711e-02,  1.42684039e-02, -3.75247910e-03,  1.31216813e-02,\n         1.78158768e-02, -3.44738178e-02,  6.23023137e-03, -1.50895920e-02,\n         2.47531151e-03, -1.77739132e-02, -2.34722588e-02,  2.54001189e-02,\n        -2.49813637e-03,  2.29183175e-02, -1.95262507e-02, -2.78555043e-02,\n        -2.52031535e-03,  1.64986160e-02,  8.18971824e-03, -2.40393337e-02,\n         3.53621021e-02,  3.82663086e-02,  5.81410117e-02,  3.45231034e-03,\n        -1.11806588e-02,  3.73961814e-02, -2.37565897e-02, -1.43680652e-03,\n         4.06458712e-05, -1.02221929e-06,  2.09051268e-06, -2.27371784e-05,\n         1.05768686e-06,  3.07220398e-05,  3.44717992e-05, -3.89812885e-05,\n         5.30388825e-05, -1.43217712e-05, -1.27867997e-05, -9.14616248e-05,\n        -2.92445475e-06, -2.59825774e-05, -1.62967081e-05,  7.28526065e-05,\n        -1.59089959e-05,  5.04310674e-06, -2.64104765e-05, -7.70958723e-05,\n         1.37657946e-04,  1.06132866e-04,  2.47625285e-05, -8.58125568e-05,\n        -1.01406171e-04,  5.45787316e-06, -1.44830369e-06, -2.15438740e-05,\n        -2.09051832e-05,  2.69224984e-05,  5.22017108e-05,  6.96254301e-06,\n         4.92523905e-05, -1.36137824e-05,  2.03673844e-05, -4.78425136e-06,\n        -2.52014543e-05, -8.86669568e-07,  3.40998122e-06,  1.03107777e-05,\n        -1.76965386e-07,  1.42699326e-04, -3.18137791e-06, -9.95503797e-07,\n        -5.00706847e-07,  4.11540750e-05,  2.82870542e-06, -3.99790297e-05,\n         3.00268985e-05, -2.18812820e-05, -5.05424396e-05, -6.99480734e-05,\n        -4.25272665e-05,  2.47234711e-05,  8.04140145e-05,  6.89625540e-06,\n         8.39980021e-06, -1.60555101e-05, -1.23627779e-05, -2.43850645e-05,\n         3.53379583e-05, -1.15342737e-05,  2.93908142e-05, -2.49084478e-05,\n         7.25084510e-06, -1.31619136e-05, -1.24771932e-05, -7.28015657e-05,\n         2.31658360e-05, -1.34397211e-04,  3.07383598e-05,  1.19811211e-05,\n         4.98277732e-05,  9.35859407e-06,  1.34897764e-05, -9.22347135e-06,\n        -3.64231164e-05, -9.34961354e-05, -2.20933762e-05,  5.02354887e-05,\n         1.83990487e-05,  7.36247384e-05,  3.88487242e-05, -2.13954627e-05,\n         2.44084949e-05, -2.81218854e-06,  4.82717733e-05, -1.30859207e-05,\n         1.94694549e-05, -1.41645960e-05,  6.35578981e-05, -6.50058209e-05,\n        -1.89257262e-05,  2.83903573e-05, -8.29294004e-06, -2.20400725e-05,\n         2.70394194e-05, -5.97478174e-06,  5.63061330e-05,  1.69969144e-06,\n        -1.08472399e-04,  2.55488667e-05,  6.93378661e-06,  4.48704668e-05,\n        -1.66693462e-06,  1.93307533e-05,  2.61267833e-05, -7.42048942e-05,\n        -2.67526502e-05, -1.27060048e-06,  1.28303982e-05, -1.23559585e-05,\n         1.92893531e-05,  1.04530466e-06,  1.43737225e-05, -1.67760882e-05,\n         1.46118327e-05, -5.26851290e-05,  4.69662373e-05, -8.68139796e-06,\n         3.68348992e-06, -3.36865269e-05,  3.27498528e-05,  3.78486147e-05,\n        -4.79398223e-05, -1.25123461e-05, -7.33814568e-06, -3.99924174e-05],\n       dtype=float32)>,\n <tf.Tensor: shape=(128, 10000), dtype=float32, numpy=\n array([[ 3.6002477e-03,  4.3784901e-03,  3.5780459e-03, ...,\n         -6.3426828e-06, -6.3381303e-06, -6.3452071e-06],\n        [-9.6530118e-04, -8.9980767e-04, -4.4895726e-04, ...,\n          1.3173035e-06,  1.3163449e-06,  1.3169940e-06],\n        [ 1.2818476e-03,  1.4182003e-03,  2.8926926e-03, ...,\n         -3.4659738e-06, -3.4624618e-06, -3.4659379e-06],\n        ...,\n        [ 1.4409074e-05,  6.8846176e-04,  8.3230523e-04, ...,\n         -4.4986371e-07, -4.4875895e-07, -4.4991501e-07],\n        [-1.6144370e-03, -1.9876896e-03, -1.6623467e-03, ...,\n          3.8324433e-06,  3.8312801e-06,  3.8329490e-06],\n        [-2.5066154e-03, -3.4267758e-03, -2.7685375e-03, ...,\n          4.4266162e-06,  4.4209742e-06,  4.4270651e-06]], dtype=float32)>,\n <tf.Tensor: shape=(10000,), dtype=float32, numpy=\n array([-0.79799896, -1.0313314 , -1.0313313 , ...,  0.00200023,\n         0.00199919,  0.0020008 ], dtype=float32)>]"
     },
     "execution_count": 48,
     "metadata": {},
     "output_type": "execute_result"
    }
   ],
   "source": [
    "# Define the gradient clipping threshold\n",
    "grads, _ = tf.clip_by_global_norm(grad_t_list, max_grad_norm)\n",
    "grads"
   ]
  },
  {
   "cell_type": "markdown",
   "metadata": {},
   "source": [
    "<h4> 4.Apply the optimizer to the variables/gradients tuple. </h4>\n"
   ]
  },
  {
   "cell_type": "code",
   "execution_count": 49,
   "metadata": {},
   "outputs": [],
   "source": [
    "# Create the training TensorFlow Operation through our optimizer\n",
    "train_op = optimizer.apply_gradients(zip(grads, tvars))"
   ]
  },
  {
   "cell_type": "markdown",
   "metadata": {},
   "source": [
    "<a id=\"ltsm\"></a>\n",
    "\n",
    "<h2>LSTM</h2>\n"
   ]
  },
  {
   "cell_type": "markdown",
   "metadata": {
    "button": false,
    "deletable": true,
    "new_sheet": false,
    "run_control": {
     "read_only": false
    }
   },
   "source": [
    "We learned how the model is build step by step. Noe, let's then create a Class that represents our model. This class needs a few things:\n",
    "\n",
    "<ul>\n",
    "    <li>We have to create the model in accordance with our defined hyperparameters</li>\n",
    "    <li>We have to create the LSTM cell structure and connect them with our RNN structure</li>\n",
    "    <li>We have to create the word embeddings and point them to the input data</li>\n",
    "    <li>We have to create the input structure for our RNN</li>\n",
    "    <li>We need to create a logistic structure to return the probability of our words</li>\n",
    "    <li>We need to create the loss and cost functions for our optimizer to work, and then create the optimizer</li>\n",
    "    <li>And finally, we need to create a training operation that can be run to actually train our model</li>\n",
    "</ul>\n"
   ]
  },
  {
   "cell_type": "code",
   "execution_count": 50,
   "metadata": {
    "button": false,
    "deletable": true,
    "new_sheet": false,
    "run_control": {
     "read_only": false
    },
    "tags": []
   },
   "outputs": [],
   "source": [
    "class PTBModel(object):\n",
    "\n",
    "\n",
    "    def __init__(self):\n",
    "        ######################################\n",
    "        # Setting parameters for ease of use #\n",
    "        ######################################\n",
    "        self.batch_size = batch_size\n",
    "        self.num_steps = num_steps\n",
    "        self.hidden_size_l1 = hidden_size_l1\n",
    "        self.hidden_size_l2 = hidden_size_l2\n",
    "        self.vocab_size = vocab_size\n",
    "        self.embeding_vector_size = embeding_vector_size\n",
    "        # Create a variable for the learning rate\n",
    "        self._lr = 1.0\n",
    "        \n",
    "        ###############################################################################\n",
    "        # Initializing the model using keras Sequential API  #\n",
    "        ###############################################################################\n",
    "        \n",
    "        self._model = tf.keras.models.Sequential()\n",
    "        \n",
    "        ####################################################################\n",
    "        # Creating the word embeddings layer and adding it to the sequence #\n",
    "        ####################################################################\n",
    "        with tf.device(\"/cpu:0\"):\n",
    "            # Create the embeddings for our input data. Size is hidden size.\n",
    "            self._embedding_layer = tf.keras.layers.Embedding(self.vocab_size, self.embeding_vector_size,batch_input_shape=(self.batch_size, self.num_steps),trainable=True,name=\"embedding_vocab\")  #[10000x200]\n",
    "            self._model.add(self._embedding_layer)\n",
    "            \n",
    "\n",
    "        ##########################################################################\n",
    "        # Creating the LSTM cell structure and connect it with the RNN structure #\n",
    "        ##########################################################################\n",
    "        # Create the LSTM Cells. \n",
    "        # This creates only the structure for the LSTM and has to be associated with a RNN unit still.\n",
    "        # The argument  of LSTMCell is size of hidden layer, that is, the number of hidden units of the LSTM (inside A). \n",
    "        # LSTM cell processes one word at a time and computes probabilities of the possible continuations of the sentence.\n",
    "        lstm_cell_l1 = tf.keras.layers.LSTMCell(hidden_size_l1)\n",
    "        lstm_cell_l2 = tf.keras.layers.LSTMCell(hidden_size_l2)\n",
    "        \n",
    "\n",
    "        \n",
    "        # By taking in the LSTM cells as parameters, the StackedRNNCells function junctions the LSTM units to the RNN units.\n",
    "        # RNN cell composed sequentially of stacked simple cells.\n",
    "        stacked_lstm = tf.keras.layers.StackedRNNCells([lstm_cell_l1, lstm_cell_l2])\n",
    "\n",
    "\n",
    "        \n",
    "\n",
    "        ############################################\n",
    "        # Creating the input structure for our RNN #\n",
    "        ############################################\n",
    "        # Input structure is 20x[30x200]\n",
    "        # Considering each word is represended by a 200 dimentional vector, and we have 30 batchs, we create 30 word-vectors of size [30xx2000]\n",
    "        # The input structure is fed from the embeddings, which are filled in by the input data\n",
    "        # Feeding a batch of b sentences to a RNN:\n",
    "        # In step 1,  first word of each of the b sentences (in a batch) is input in parallel.  \n",
    "        # In step 2,  second word of each of the b sentences is input in parallel. \n",
    "        # The parallelism is only for efficiency.  \n",
    "        # Each sentence in a batch is handled in parallel, but the network sees one word of a sentence at a time and does the computations accordingly. \n",
    "        # All the computations involving the words of all sentences in a batch at a given time step are done in parallel. \n",
    "\n",
    "        ########################################################################################################\n",
    "        # Instantiating our RNN model and setting stateful to True to feed forward the state to the next layer #\n",
    "        ########################################################################################################\n",
    "        \n",
    "        self._RNNlayer  =  tf.keras.layers.RNN(stacked_lstm,[batch_size, num_steps],return_state=False,stateful=True,trainable=True)\n",
    "        \n",
    "        # Define the initial state, i.e., the model state for the very first data point\n",
    "        # It initialize the state of the LSTM memory. The memory state of the network is initialized with a vector of zeros and gets updated after reading each word.\n",
    "        self._initial_state = tf.Variable(tf.zeros([batch_size,embeding_vector_size]),trainable=False)\n",
    "        self._RNNlayer.inital_state = self._initial_state\n",
    "    \n",
    "        ############################################\n",
    "        # Adding RNN layer to keras sequential API #\n",
    "        ############################################        \n",
    "        self._model.add(self._RNNlayer)\n",
    "        \n",
    "        #self._model.add(tf.keras.layers.LSTM(hidden_size_l1,return_sequences=True,stateful=True))\n",
    "        #self._model.add(tf.keras.layers.LSTM(hidden_size_l2,return_sequences=True))\n",
    "        \n",
    "        \n",
    "        ####################################################################################################\n",
    "        # Instantiating a Dense layer that connects the output to the vocab_size  and adding layer to model#\n",
    "        ####################################################################################################\n",
    "        self._dense = tf.keras.layers.Dense(self.vocab_size)\n",
    "        self._model.add(self._dense)\n",
    " \n",
    "        \n",
    "        ####################################################################################################\n",
    "        # Adding softmax activation layer and deriving probability to each class and adding layer to model #\n",
    "        ####################################################################################################\n",
    "        self._activation = tf.keras.layers.Activation('softmax')\n",
    "        self._model.add(self._activation)\n",
    "\n",
    "        ##########################################################\n",
    "        # Instantiating the stochastic gradient decent optimizer #\n",
    "        ########################################################## \n",
    "        self._optimizer = tf.keras.optimizers.SGD(lr=self._lr, clipnorm=max_grad_norm)\n",
    "        \n",
    "        \n",
    "        ##############################################################################\n",
    "        # Compiling and summarizing the model stacked using the keras sequential API #\n",
    "        ##############################################################################\n",
    "        self._model.compile(loss=self.crossentropy, optimizer=self._optimizer)\n",
    "        self._model.summary()\n",
    "\n",
    "\n",
    "    def crossentropy(self,y_true, y_pred):\n",
    "        return tf.keras.losses.sparse_categorical_crossentropy(y_true, y_pred)\n",
    "\n",
    "    def train_batch(self,_input_data,_targets):\n",
    "        #################################################\n",
    "        # Creating the Training Operation for our Model #\n",
    "        #################################################\n",
    "        # Create a variable for the learning rate\n",
    "        self._lr = tf.Variable(0.0, trainable=False)\n",
    "        # Get all TensorFlow variables marked as \"trainable\" (i.e. all of them except _lr, which we just created)\n",
    "        tvars = self._model.trainable_variables\n",
    "        # Define the gradient clipping threshold\n",
    "        with tf.GradientTape() as tape:\n",
    "            # Forward pass.\n",
    "            output_words_prob = self._model(_input_data)\n",
    "            # Loss value for this batch.\n",
    "            loss  = self.crossentropy(_targets, output_words_prob)\n",
    "            # average across batch and reduce sum\n",
    "            cost = tf.reduce_sum(loss/ self.batch_size)\n",
    "        # Get gradients of loss wrt the trainable variables.\n",
    "        grad_t_list = tape.gradient(cost, tvars)\n",
    "        # Define the gradient clipping threshold\n",
    "        grads, _ = tf.clip_by_global_norm(grad_t_list, max_grad_norm)\n",
    "        # Create the training TensorFlow Operation through our optimizer\n",
    "        train_op = self._optimizer.apply_gradients(zip(grads, tvars))\n",
    "        return cost\n",
    "        \n",
    "    def test_batch(self,_input_data,_targets):\n",
    "        #################################################\n",
    "        # Creating the Testing Operation for our Model #\n",
    "        #################################################\n",
    "        output_words_prob = self._model(_input_data)\n",
    "        loss  = self.crossentropy(_targets, output_words_prob)\n",
    "        # average across batch and reduce sum\n",
    "        cost = tf.reduce_sum(loss/ self.batch_size)\n",
    "\n",
    "        return cost\n",
    "    @classmethod\n",
    "    def instance(cls) : \n",
    "        return PTBModel()"
   ]
  },
  {
   "cell_type": "markdown",
   "metadata": {
    "button": false,
    "deletable": true,
    "new_sheet": false,
    "run_control": {
     "read_only": false
    }
   },
   "source": [
    "With that, the actual structure of our Recurrent Neural Network with Long Short-Term Memory is finished. What remains for us to do is to actually create the methods to run through time -- that is, the <code>run_epoch</code> method to be run at each epoch and a <code>main</code> script which ties all of this together.\n",
    "\n",
    "What our <code>run_epoch</code> method should do is take our input data and feed it to the relevant operations. This will return at the very least the current result for the cost function.\n"
   ]
  },
  {
   "cell_type": "code",
   "execution_count": 51,
   "metadata": {
    "button": false,
    "deletable": true,
    "new_sheet": false,
    "run_control": {
     "read_only": false
    }
   },
   "outputs": [],
   "source": [
    "\n",
    "########################################################################################################################\n",
    "# run_one_epoch takes as parameters  the model instance, the data to be fed, training or testing mode and verbose info #\n",
    "########################################################################################################################\n",
    "def run_one_epoch(m, data,is_training=True,verbose=False):\n",
    "\n",
    "    #Define the epoch size based on the length of the data, batch size and the number of steps\n",
    "    epoch_size = ((len(data) // m.batch_size) - 1) // m.num_steps\n",
    "    start_time = time.time()\n",
    "    costs = 0.\n",
    "    iters = 0\n",
    "    \n",
    "    m._model.reset_states()\n",
    "    \n",
    "    #For each step and data point\n",
    "    for step, (x, y) in enumerate(reader.ptb_iterator(data, m.batch_size, m.num_steps)):\n",
    "        \n",
    "        #Evaluate and return cost, state by running cost, final_state and the function passed as parameter\n",
    "        #y = tf.keras.utils.to_categorical(y, num_classes=vocab_size)\n",
    "        if is_training : \n",
    "            loss=  m.train_batch(x, y)\n",
    "        else :\n",
    "            loss = m.test_batch(x, y)\n",
    "                                   \n",
    "\n",
    "        #Add returned cost to costs (which keeps track of the total costs for this epoch)\n",
    "        costs += loss\n",
    "        \n",
    "        #Add number of steps to iteration counter\n",
    "        iters += m.num_steps\n",
    "\n",
    "        if verbose and step % (epoch_size // 10) == 10:\n",
    "            print(\"Itr %d of %d, perplexity: %.3f speed: %.0f wps\" % (step , epoch_size, np.exp(costs / iters), iters * m.batch_size / (time.time() - start_time)))\n",
    "        \n",
    "\n",
    "\n",
    "    # Returns the Perplexity rating for us to keep track of how the model is evolving\n",
    "    return np.exp(costs / iters)\n"
   ]
  },
  {
   "cell_type": "markdown",
   "metadata": {
    "button": false,
    "deletable": true,
    "new_sheet": false,
    "run_control": {
     "read_only": false
    }
   },
   "source": [
    "Now, we create the <code>main</code> method to tie everything together. The code here reads the data from the directory, using the <code>reader</code> helper module, and then trains and evaluates the model on both a testing and a validating subset of data.\n"
   ]
  },
  {
   "cell_type": "code",
   "execution_count": 52,
   "metadata": {
    "button": false,
    "deletable": true,
    "new_sheet": false,
    "run_control": {
     "read_only": false
    },
    "tags": []
   },
   "outputs": [],
   "source": [
    "# Reads the data and separates it into training data, validation data and testing data\n",
    "raw_data = reader.ptb_raw_data(data_dir)\n",
    "train_data, valid_data, test_data, _, _ = raw_data"
   ]
  },
  {
   "cell_type": "code",
   "execution_count": 53,
   "metadata": {
    "tags": []
   },
   "outputs": [
    {
     "name": "stdout",
     "output_type": "stream",
     "text": [
      "Model: \"sequential_1\"\n",
      "_________________________________________________________________\n",
      " Layer (type)                Output Shape              Param #   \n",
      "=================================================================\n",
      " embedding_vocab (Embedding)  (30, 20, 200)            2000000   \n",
      "                                                                 \n",
      " rnn_1 (RNN)                 (30, 20, 128)             671088    \n",
      "                                                                 \n",
      " dense_1 (Dense)             (30, 20, 10000)           1290000   \n",
      "                                                                 \n",
      " activation_1 (Activation)   (30, 20, 10000)           0         \n",
      "                                                                 \n",
      "=================================================================\n",
      "Total params: 3,961,088\n",
      "Trainable params: 3,955,088\n",
      "Non-trainable params: 6,000\n",
      "_________________________________________________________________\n",
      "Epoch 1 : Learning rate: 1.000\n",
      "Itr 10 of 1549, perplexity: 4457.315 speed: 2210 wps\n",
      "Itr 164 of 1549, perplexity: 1098.062 speed: 2362 wps\n",
      "Itr 318 of 1549, perplexity: 853.783 speed: 2316 wps\n",
      "Itr 472 of 1549, perplexity: 706.353 speed: 2341 wps\n",
      "Itr 626 of 1549, perplexity: 602.450 speed: 2352 wps\n",
      "Itr 780 of 1549, perplexity: 533.897 speed: 2358 wps\n",
      "Itr 934 of 1549, perplexity: 480.650 speed: 2363 wps\n",
      "Itr 1088 of 1549, perplexity: 440.511 speed: 2368 wps\n",
      "Itr 1242 of 1549, perplexity: 409.486 speed: 2373 wps\n",
      "Itr 1396 of 1549, perplexity: 381.185 speed: 2375 wps\n",
      "Epoch 1 : Train Perplexity: 358.863\n",
      "Epoch 1 : Valid Perplexity: 211.306\n",
      "Epoch 2 : Learning rate: 1.000\n",
      "Itr 10 of 1549, perplexity: 235.337 speed: 2344 wps\n",
      "Itr 164 of 1549, perplexity: 210.167 speed: 2362 wps\n",
      "Itr 318 of 1549, perplexity: 201.795 speed: 2376 wps\n",
      "Itr 472 of 1549, perplexity: 193.916 speed: 2383 wps\n",
      "Itr 626 of 1549, perplexity: 185.264 speed: 2386 wps\n",
      "Itr 780 of 1549, perplexity: 181.362 speed: 2389 wps\n",
      "Itr 934 of 1549, perplexity: 177.333 speed: 2390 wps\n",
      "Itr 1088 of 1549, perplexity: 174.026 speed: 2389 wps\n",
      "Itr 1242 of 1549, perplexity: 171.531 speed: 2389 wps\n",
      "Itr 1396 of 1549, perplexity: 167.429 speed: 2390 wps\n",
      "Epoch 2 : Train Perplexity: 164.611\n",
      "Epoch 2 : Valid Perplexity: 162.435\n",
      "Epoch 3 : Learning rate: 1.000\n",
      "Itr 10 of 1549, perplexity: 160.357 speed: 2341 wps\n",
      "Itr 164 of 1549, perplexity: 147.382 speed: 2379 wps\n",
      "Itr 318 of 1549, perplexity: 143.733 speed: 2381 wps\n",
      "Itr 472 of 1549, perplexity: 139.406 speed: 2380 wps\n",
      "Itr 626 of 1549, perplexity: 134.356 speed: 2380 wps\n",
      "Itr 780 of 1549, perplexity: 133.076 speed: 2380 wps\n",
      "Itr 934 of 1549, perplexity: 131.386 speed: 2378 wps\n"
     ]
    },
    {
     "ename": "KeyboardInterrupt",
     "evalue": "",
     "output_type": "error",
     "traceback": [
      "\u001B[1;31m---------------------------------------------------------------------------\u001B[0m",
      "\u001B[1;31mKeyboardInterrupt\u001B[0m                         Traceback (most recent call last)",
      "\u001B[1;32m~\\AppData\\Local\\Temp/ipykernel_10100/3275591901.py\u001B[0m in \u001B[0;36m<module>\u001B[1;34m\u001B[0m\n\u001B[0;32m     10\u001B[0m     \u001B[0mprint\u001B[0m\u001B[1;33m(\u001B[0m\u001B[1;34m\"Epoch %d : Learning rate: %.3f\"\u001B[0m \u001B[1;33m%\u001B[0m \u001B[1;33m(\u001B[0m\u001B[0mi\u001B[0m \u001B[1;33m+\u001B[0m \u001B[1;36m1\u001B[0m\u001B[1;33m,\u001B[0m \u001B[0mm\u001B[0m\u001B[1;33m.\u001B[0m\u001B[0m_model\u001B[0m\u001B[1;33m.\u001B[0m\u001B[0moptimizer\u001B[0m\u001B[1;33m.\u001B[0m\u001B[0mlearning_rate\u001B[0m\u001B[1;33m)\u001B[0m\u001B[1;33m)\u001B[0m\u001B[1;33m\u001B[0m\u001B[1;33m\u001B[0m\u001B[0m\n\u001B[0;32m     11\u001B[0m     \u001B[1;31m# Run the loop for this epoch in the training mode\u001B[0m\u001B[1;33m\u001B[0m\u001B[1;33m\u001B[0m\u001B[0m\n\u001B[1;32m---> 12\u001B[1;33m     \u001B[0mtrain_perplexity\u001B[0m \u001B[1;33m=\u001B[0m \u001B[0mrun_one_epoch\u001B[0m\u001B[1;33m(\u001B[0m\u001B[0mm\u001B[0m\u001B[1;33m,\u001B[0m \u001B[0mtrain_data\u001B[0m\u001B[1;33m,\u001B[0m\u001B[0mis_training\u001B[0m\u001B[1;33m=\u001B[0m\u001B[1;32mTrue\u001B[0m\u001B[1;33m,\u001B[0m\u001B[0mverbose\u001B[0m\u001B[1;33m=\u001B[0m\u001B[1;32mTrue\u001B[0m\u001B[1;33m)\u001B[0m\u001B[1;33m\u001B[0m\u001B[1;33m\u001B[0m\u001B[0m\n\u001B[0m\u001B[0;32m     13\u001B[0m     \u001B[0mprint\u001B[0m\u001B[1;33m(\u001B[0m\u001B[1;34m\"Epoch %d : Train Perplexity: %.3f\"\u001B[0m \u001B[1;33m%\u001B[0m \u001B[1;33m(\u001B[0m\u001B[0mi\u001B[0m \u001B[1;33m+\u001B[0m \u001B[1;36m1\u001B[0m\u001B[1;33m,\u001B[0m \u001B[0mtrain_perplexity\u001B[0m\u001B[1;33m)\u001B[0m\u001B[1;33m)\u001B[0m\u001B[1;33m\u001B[0m\u001B[1;33m\u001B[0m\u001B[0m\n\u001B[0;32m     14\u001B[0m \u001B[1;33m\u001B[0m\u001B[0m\n",
      "\u001B[1;32m~\\AppData\\Local\\Temp/ipykernel_10100/3144126250.py\u001B[0m in \u001B[0;36mrun_one_epoch\u001B[1;34m(m, data, is_training, verbose)\u001B[0m\n\u001B[0;32m     18\u001B[0m         \u001B[1;31m#y = tf.keras.utils.to_categorical(y, num_classes=vocab_size)\u001B[0m\u001B[1;33m\u001B[0m\u001B[1;33m\u001B[0m\u001B[0m\n\u001B[0;32m     19\u001B[0m         \u001B[1;32mif\u001B[0m \u001B[0mis_training\u001B[0m \u001B[1;33m:\u001B[0m\u001B[1;33m\u001B[0m\u001B[1;33m\u001B[0m\u001B[0m\n\u001B[1;32m---> 20\u001B[1;33m             \u001B[0mloss\u001B[0m\u001B[1;33m=\u001B[0m  \u001B[0mm\u001B[0m\u001B[1;33m.\u001B[0m\u001B[0mtrain_batch\u001B[0m\u001B[1;33m(\u001B[0m\u001B[0mx\u001B[0m\u001B[1;33m,\u001B[0m \u001B[0my\u001B[0m\u001B[1;33m)\u001B[0m\u001B[1;33m\u001B[0m\u001B[1;33m\u001B[0m\u001B[0m\n\u001B[0m\u001B[0;32m     21\u001B[0m         \u001B[1;32melse\u001B[0m \u001B[1;33m:\u001B[0m\u001B[1;33m\u001B[0m\u001B[1;33m\u001B[0m\u001B[0m\n\u001B[0;32m     22\u001B[0m             \u001B[0mloss\u001B[0m \u001B[1;33m=\u001B[0m \u001B[0mm\u001B[0m\u001B[1;33m.\u001B[0m\u001B[0mtest_batch\u001B[0m\u001B[1;33m(\u001B[0m\u001B[0mx\u001B[0m\u001B[1;33m,\u001B[0m \u001B[0my\u001B[0m\u001B[1;33m)\u001B[0m\u001B[1;33m\u001B[0m\u001B[1;33m\u001B[0m\u001B[0m\n",
      "\u001B[1;32m~\\AppData\\Local\\Temp/ipykernel_10100/1280990693.py\u001B[0m in \u001B[0;36mtrain_batch\u001B[1;34m(self, _input_data, _targets)\u001B[0m\n\u001B[0;32m    132\u001B[0m         \u001B[0mgrads\u001B[0m\u001B[1;33m,\u001B[0m \u001B[0m_\u001B[0m \u001B[1;33m=\u001B[0m \u001B[0mtf\u001B[0m\u001B[1;33m.\u001B[0m\u001B[0mclip_by_global_norm\u001B[0m\u001B[1;33m(\u001B[0m\u001B[0mgrad_t_list\u001B[0m\u001B[1;33m,\u001B[0m \u001B[0mmax_grad_norm\u001B[0m\u001B[1;33m)\u001B[0m\u001B[1;33m\u001B[0m\u001B[1;33m\u001B[0m\u001B[0m\n\u001B[0;32m    133\u001B[0m         \u001B[1;31m# Create the training TensorFlow Operation through our optimizer\u001B[0m\u001B[1;33m\u001B[0m\u001B[1;33m\u001B[0m\u001B[0m\n\u001B[1;32m--> 134\u001B[1;33m         \u001B[0mtrain_op\u001B[0m \u001B[1;33m=\u001B[0m \u001B[0mself\u001B[0m\u001B[1;33m.\u001B[0m\u001B[0m_optimizer\u001B[0m\u001B[1;33m.\u001B[0m\u001B[0mapply_gradients\u001B[0m\u001B[1;33m(\u001B[0m\u001B[0mzip\u001B[0m\u001B[1;33m(\u001B[0m\u001B[0mgrads\u001B[0m\u001B[1;33m,\u001B[0m \u001B[0mtvars\u001B[0m\u001B[1;33m)\u001B[0m\u001B[1;33m)\u001B[0m\u001B[1;33m\u001B[0m\u001B[1;33m\u001B[0m\u001B[0m\n\u001B[0m\u001B[0;32m    135\u001B[0m         \u001B[1;32mreturn\u001B[0m \u001B[0mcost\u001B[0m\u001B[1;33m\u001B[0m\u001B[1;33m\u001B[0m\u001B[0m\n\u001B[0;32m    136\u001B[0m \u001B[1;33m\u001B[0m\u001B[0m\n",
      "\u001B[1;32mC:\\Development\\Anaconda3\\lib\\site-packages\\keras\\optimizer_v2\\optimizer_v2.py\u001B[0m in \u001B[0;36mapply_gradients\u001B[1;34m(self, grads_and_vars, name, experimental_aggregate_gradients)\u001B[0m\n\u001B[0;32m    667\u001B[0m         \u001B[0mgrads_and_vars\u001B[0m \u001B[1;33m=\u001B[0m \u001B[0mself\u001B[0m\u001B[1;33m.\u001B[0m\u001B[0m_transform_unaggregated_gradients\u001B[0m\u001B[1;33m(\u001B[0m\u001B[0mgrads_and_vars\u001B[0m\u001B[1;33m)\u001B[0m\u001B[1;33m\u001B[0m\u001B[1;33m\u001B[0m\u001B[0m\n\u001B[0;32m    668\u001B[0m         \u001B[0mgrads_and_vars\u001B[0m \u001B[1;33m=\u001B[0m \u001B[0mself\u001B[0m\u001B[1;33m.\u001B[0m\u001B[0m_aggregate_gradients\u001B[0m\u001B[1;33m(\u001B[0m\u001B[0mgrads_and_vars\u001B[0m\u001B[1;33m)\u001B[0m\u001B[1;33m\u001B[0m\u001B[1;33m\u001B[0m\u001B[0m\n\u001B[1;32m--> 669\u001B[1;33m       \u001B[0mgrads_and_vars\u001B[0m \u001B[1;33m=\u001B[0m \u001B[0mself\u001B[0m\u001B[1;33m.\u001B[0m\u001B[0m_transform_gradients\u001B[0m\u001B[1;33m(\u001B[0m\u001B[0mgrads_and_vars\u001B[0m\u001B[1;33m)\u001B[0m\u001B[1;33m\u001B[0m\u001B[1;33m\u001B[0m\u001B[0m\n\u001B[0m\u001B[0;32m    670\u001B[0m \u001B[1;33m\u001B[0m\u001B[0m\n\u001B[0;32m    671\u001B[0m       \u001B[1;32mif\u001B[0m \u001B[0moptimizer_utils\u001B[0m\u001B[1;33m.\u001B[0m\u001B[0mstrategy_supports_no_merge_call\u001B[0m\u001B[1;33m(\u001B[0m\u001B[1;33m)\u001B[0m\u001B[1;33m:\u001B[0m\u001B[1;33m\u001B[0m\u001B[1;33m\u001B[0m\u001B[0m\n",
      "\u001B[1;32mC:\\Development\\Anaconda3\\lib\\site-packages\\keras\\optimizer_v2\\optimizer_v2.py\u001B[0m in \u001B[0;36m_transform_gradients\u001B[1;34m(self, grads_and_vars)\u001B[0m\n\u001B[0;32m    489\u001B[0m       \u001B[0mgrads_and_vars\u001B[0m \u001B[1;33m=\u001B[0m \u001B[0mself\u001B[0m\u001B[1;33m.\u001B[0m\u001B[0m_clipvalue_fn\u001B[0m\u001B[1;33m(\u001B[0m\u001B[0mgrads_and_vars\u001B[0m\u001B[1;33m)\u001B[0m\u001B[1;33m\u001B[0m\u001B[1;33m\u001B[0m\u001B[0m\n\u001B[0;32m    490\u001B[0m     \u001B[1;32mif\u001B[0m \u001B[0mself\u001B[0m\u001B[1;33m.\u001B[0m\u001B[0m_clipnorm\u001B[0m \u001B[1;32mis\u001B[0m \u001B[1;32mnot\u001B[0m \u001B[1;32mNone\u001B[0m\u001B[1;33m:\u001B[0m\u001B[1;33m\u001B[0m\u001B[1;33m\u001B[0m\u001B[0m\n\u001B[1;32m--> 491\u001B[1;33m       \u001B[0mgrads_and_vars\u001B[0m \u001B[1;33m=\u001B[0m \u001B[0mself\u001B[0m\u001B[1;33m.\u001B[0m\u001B[0m_clipnorm_fn\u001B[0m\u001B[1;33m(\u001B[0m\u001B[0mgrads_and_vars\u001B[0m\u001B[1;33m)\u001B[0m\u001B[1;33m\u001B[0m\u001B[1;33m\u001B[0m\u001B[0m\n\u001B[0m\u001B[0;32m    492\u001B[0m     \u001B[1;32mif\u001B[0m \u001B[0mself\u001B[0m\u001B[1;33m.\u001B[0m\u001B[0m_global_clipnorm\u001B[0m \u001B[1;32mis\u001B[0m \u001B[1;32mnot\u001B[0m \u001B[1;32mNone\u001B[0m\u001B[1;33m:\u001B[0m\u001B[1;33m\u001B[0m\u001B[1;33m\u001B[0m\u001B[0m\n\u001B[0;32m    493\u001B[0m       \u001B[0mgrads_and_vars\u001B[0m \u001B[1;33m=\u001B[0m \u001B[0mself\u001B[0m\u001B[1;33m.\u001B[0m\u001B[0m_global_clipnorm_fn\u001B[0m\u001B[1;33m(\u001B[0m\u001B[0mgrads_and_vars\u001B[0m\u001B[1;33m)\u001B[0m\u001B[1;33m\u001B[0m\u001B[1;33m\u001B[0m\u001B[0m\n",
      "\u001B[1;32mC:\\Development\\Anaconda3\\lib\\site-packages\\keras\\optimizer_v2\\utils.py\u001B[0m in \u001B[0;36mgradient_clipnorm_fn\u001B[1;34m(grads_and_vars)\u001B[0m\n\u001B[0;32m     96\u001B[0m           f\"The strategy used is {tf.distribute.get_strategy()}.\")\n\u001B[0;32m     97\u001B[0m \u001B[1;33m\u001B[0m\u001B[0m\n\u001B[1;32m---> 98\u001B[1;33m     clipped_grads_and_vars = [\n\u001B[0m\u001B[0;32m     99\u001B[0m         \u001B[1;33m(\u001B[0m\u001B[0mtf\u001B[0m\u001B[1;33m.\u001B[0m\u001B[0mclip_by_norm\u001B[0m\u001B[1;33m(\u001B[0m\u001B[0mg\u001B[0m\u001B[1;33m,\u001B[0m \u001B[0mclipnorm\u001B[0m\u001B[1;33m)\u001B[0m\u001B[1;33m,\u001B[0m \u001B[0mv\u001B[0m\u001B[1;33m)\u001B[0m \u001B[1;32mfor\u001B[0m \u001B[0mg\u001B[0m\u001B[1;33m,\u001B[0m \u001B[0mv\u001B[0m \u001B[1;32min\u001B[0m \u001B[0mgrads_and_vars\u001B[0m\u001B[1;33m\u001B[0m\u001B[1;33m\u001B[0m\u001B[0m\n\u001B[0;32m    100\u001B[0m     ]\n",
      "\u001B[1;32mC:\\Development\\Anaconda3\\lib\\site-packages\\keras\\optimizer_v2\\utils.py\u001B[0m in \u001B[0;36m<listcomp>\u001B[1;34m(.0)\u001B[0m\n\u001B[0;32m     97\u001B[0m \u001B[1;33m\u001B[0m\u001B[0m\n\u001B[0;32m     98\u001B[0m     clipped_grads_and_vars = [\n\u001B[1;32m---> 99\u001B[1;33m         \u001B[1;33m(\u001B[0m\u001B[0mtf\u001B[0m\u001B[1;33m.\u001B[0m\u001B[0mclip_by_norm\u001B[0m\u001B[1;33m(\u001B[0m\u001B[0mg\u001B[0m\u001B[1;33m,\u001B[0m \u001B[0mclipnorm\u001B[0m\u001B[1;33m)\u001B[0m\u001B[1;33m,\u001B[0m \u001B[0mv\u001B[0m\u001B[1;33m)\u001B[0m \u001B[1;32mfor\u001B[0m \u001B[0mg\u001B[0m\u001B[1;33m,\u001B[0m \u001B[0mv\u001B[0m \u001B[1;32min\u001B[0m \u001B[0mgrads_and_vars\u001B[0m\u001B[1;33m\u001B[0m\u001B[1;33m\u001B[0m\u001B[0m\n\u001B[0m\u001B[0;32m    100\u001B[0m     ]\n\u001B[0;32m    101\u001B[0m     \u001B[1;32mreturn\u001B[0m \u001B[0mclipped_grads_and_vars\u001B[0m\u001B[1;33m\u001B[0m\u001B[1;33m\u001B[0m\u001B[0m\n",
      "\u001B[1;32mC:\\Development\\Anaconda3\\lib\\site-packages\\tensorflow\\python\\util\\traceback_utils.py\u001B[0m in \u001B[0;36merror_handler\u001B[1;34m(*args, **kwargs)\u001B[0m\n\u001B[0;32m    148\u001B[0m     \u001B[0mfiltered_tb\u001B[0m \u001B[1;33m=\u001B[0m \u001B[1;32mNone\u001B[0m\u001B[1;33m\u001B[0m\u001B[1;33m\u001B[0m\u001B[0m\n\u001B[0;32m    149\u001B[0m     \u001B[1;32mtry\u001B[0m\u001B[1;33m:\u001B[0m\u001B[1;33m\u001B[0m\u001B[1;33m\u001B[0m\u001B[0m\n\u001B[1;32m--> 150\u001B[1;33m       \u001B[1;32mreturn\u001B[0m \u001B[0mfn\u001B[0m\u001B[1;33m(\u001B[0m\u001B[1;33m*\u001B[0m\u001B[0margs\u001B[0m\u001B[1;33m,\u001B[0m \u001B[1;33m**\u001B[0m\u001B[0mkwargs\u001B[0m\u001B[1;33m)\u001B[0m\u001B[1;33m\u001B[0m\u001B[1;33m\u001B[0m\u001B[0m\n\u001B[0m\u001B[0;32m    151\u001B[0m     \u001B[1;32mexcept\u001B[0m \u001B[0mException\u001B[0m \u001B[1;32mas\u001B[0m \u001B[0me\u001B[0m\u001B[1;33m:\u001B[0m\u001B[1;33m\u001B[0m\u001B[1;33m\u001B[0m\u001B[0m\n\u001B[0;32m    152\u001B[0m       \u001B[0mfiltered_tb\u001B[0m \u001B[1;33m=\u001B[0m \u001B[0m_process_traceback_frames\u001B[0m\u001B[1;33m(\u001B[0m\u001B[0me\u001B[0m\u001B[1;33m.\u001B[0m\u001B[0m__traceback__\u001B[0m\u001B[1;33m)\u001B[0m\u001B[1;33m\u001B[0m\u001B[1;33m\u001B[0m\u001B[0m\n",
      "\u001B[1;32mC:\\Development\\Anaconda3\\lib\\site-packages\\tensorflow\\python\\util\\dispatch.py\u001B[0m in \u001B[0;36mop_dispatch_handler\u001B[1;34m(*args, **kwargs)\u001B[0m\n\u001B[0;32m   1094\u001B[0m       \u001B[1;31m# Fallback dispatch system (dispatch v1):\u001B[0m\u001B[1;33m\u001B[0m\u001B[1;33m\u001B[0m\u001B[0m\n\u001B[0;32m   1095\u001B[0m       \u001B[1;32mtry\u001B[0m\u001B[1;33m:\u001B[0m\u001B[1;33m\u001B[0m\u001B[1;33m\u001B[0m\u001B[0m\n\u001B[1;32m-> 1096\u001B[1;33m         \u001B[1;32mreturn\u001B[0m \u001B[0mdispatch_target\u001B[0m\u001B[1;33m(\u001B[0m\u001B[1;33m*\u001B[0m\u001B[0margs\u001B[0m\u001B[1;33m,\u001B[0m \u001B[1;33m**\u001B[0m\u001B[0mkwargs\u001B[0m\u001B[1;33m)\u001B[0m\u001B[1;33m\u001B[0m\u001B[1;33m\u001B[0m\u001B[0m\n\u001B[0m\u001B[0;32m   1097\u001B[0m       \u001B[1;32mexcept\u001B[0m \u001B[1;33m(\u001B[0m\u001B[0mTypeError\u001B[0m\u001B[1;33m,\u001B[0m \u001B[0mValueError\u001B[0m\u001B[1;33m)\u001B[0m\u001B[1;33m:\u001B[0m\u001B[1;33m\u001B[0m\u001B[1;33m\u001B[0m\u001B[0m\n\u001B[0;32m   1098\u001B[0m         \u001B[1;31m# Note: convert_to_eager_tensor currently raises a ValueError, not a\u001B[0m\u001B[1;33m\u001B[0m\u001B[1;33m\u001B[0m\u001B[0m\n",
      "\u001B[1;32mC:\\Development\\Anaconda3\\lib\\site-packages\\tensorflow\\python\\ops\\clip_ops.py\u001B[0m in \u001B[0;36mclip_by_norm\u001B[1;34m(t, clip_norm, axes, name)\u001B[0m\n\u001B[0;32m    224\u001B[0m     \u001B[0ml2sum_safe\u001B[0m \u001B[1;33m=\u001B[0m \u001B[0marray_ops\u001B[0m\u001B[1;33m.\u001B[0m\u001B[0mwhere\u001B[0m\u001B[1;33m(\u001B[0m\u001B[0mpred\u001B[0m\u001B[1;33m,\u001B[0m \u001B[0ml2sum\u001B[0m\u001B[1;33m,\u001B[0m \u001B[0marray_ops\u001B[0m\u001B[1;33m.\u001B[0m\u001B[0mones_like\u001B[0m\u001B[1;33m(\u001B[0m\u001B[0ml2sum\u001B[0m\u001B[1;33m)\u001B[0m\u001B[1;33m)\u001B[0m\u001B[1;33m\u001B[0m\u001B[1;33m\u001B[0m\u001B[0m\n\u001B[0;32m    225\u001B[0m     \u001B[0ml2norm\u001B[0m \u001B[1;33m=\u001B[0m \u001B[0marray_ops\u001B[0m\u001B[1;33m.\u001B[0m\u001B[0mwhere\u001B[0m\u001B[1;33m(\u001B[0m\u001B[0mpred\u001B[0m\u001B[1;33m,\u001B[0m \u001B[0mmath_ops\u001B[0m\u001B[1;33m.\u001B[0m\u001B[0msqrt\u001B[0m\u001B[1;33m(\u001B[0m\u001B[0ml2sum_safe\u001B[0m\u001B[1;33m)\u001B[0m\u001B[1;33m,\u001B[0m \u001B[0ml2sum\u001B[0m\u001B[1;33m)\u001B[0m\u001B[1;33m\u001B[0m\u001B[1;33m\u001B[0m\u001B[0m\n\u001B[1;32m--> 226\u001B[1;33m     \u001B[0mintermediate\u001B[0m \u001B[1;33m=\u001B[0m \u001B[0mvalues\u001B[0m \u001B[1;33m*\u001B[0m \u001B[0mclip_norm\u001B[0m\u001B[1;33m\u001B[0m\u001B[1;33m\u001B[0m\u001B[0m\n\u001B[0m\u001B[0;32m    227\u001B[0m     \u001B[1;31m# Assert that the shape is compatible with the initial shape,\u001B[0m\u001B[1;33m\u001B[0m\u001B[1;33m\u001B[0m\u001B[0m\n\u001B[0;32m    228\u001B[0m     \u001B[1;31m# to prevent unintentional broadcasting.\u001B[0m\u001B[1;33m\u001B[0m\u001B[1;33m\u001B[0m\u001B[0m\n",
      "\u001B[1;32mC:\\Development\\Anaconda3\\lib\\site-packages\\tensorflow\\python\\util\\traceback_utils.py\u001B[0m in \u001B[0;36merror_handler\u001B[1;34m(*args, **kwargs)\u001B[0m\n\u001B[0;32m    148\u001B[0m     \u001B[0mfiltered_tb\u001B[0m \u001B[1;33m=\u001B[0m \u001B[1;32mNone\u001B[0m\u001B[1;33m\u001B[0m\u001B[1;33m\u001B[0m\u001B[0m\n\u001B[0;32m    149\u001B[0m     \u001B[1;32mtry\u001B[0m\u001B[1;33m:\u001B[0m\u001B[1;33m\u001B[0m\u001B[1;33m\u001B[0m\u001B[0m\n\u001B[1;32m--> 150\u001B[1;33m       \u001B[1;32mreturn\u001B[0m \u001B[0mfn\u001B[0m\u001B[1;33m(\u001B[0m\u001B[1;33m*\u001B[0m\u001B[0margs\u001B[0m\u001B[1;33m,\u001B[0m \u001B[1;33m**\u001B[0m\u001B[0mkwargs\u001B[0m\u001B[1;33m)\u001B[0m\u001B[1;33m\u001B[0m\u001B[1;33m\u001B[0m\u001B[0m\n\u001B[0m\u001B[0;32m    151\u001B[0m     \u001B[1;32mexcept\u001B[0m \u001B[0mException\u001B[0m \u001B[1;32mas\u001B[0m \u001B[0me\u001B[0m\u001B[1;33m:\u001B[0m\u001B[1;33m\u001B[0m\u001B[1;33m\u001B[0m\u001B[0m\n\u001B[0;32m    152\u001B[0m       \u001B[0mfiltered_tb\u001B[0m \u001B[1;33m=\u001B[0m \u001B[0m_process_traceback_frames\u001B[0m\u001B[1;33m(\u001B[0m\u001B[0me\u001B[0m\u001B[1;33m.\u001B[0m\u001B[0m__traceback__\u001B[0m\u001B[1;33m)\u001B[0m\u001B[1;33m\u001B[0m\u001B[1;33m\u001B[0m\u001B[0m\n",
      "\u001B[1;32mC:\\Development\\Anaconda3\\lib\\site-packages\\tensorflow\\python\\ops\\math_ops.py\u001B[0m in \u001B[0;36mbinary_op_wrapper\u001B[1;34m(x, y)\u001B[0m\n\u001B[0;32m   1381\u001B[0m         \u001B[1;31m#   r_binary_op_wrapper use different force_same_dtype values.\u001B[0m\u001B[1;33m\u001B[0m\u001B[1;33m\u001B[0m\u001B[0m\n\u001B[0;32m   1382\u001B[0m         \u001B[0mx\u001B[0m\u001B[1;33m,\u001B[0m \u001B[0my\u001B[0m \u001B[1;33m=\u001B[0m \u001B[0mmaybe_promote_tensors\u001B[0m\u001B[1;33m(\u001B[0m\u001B[0mx\u001B[0m\u001B[1;33m,\u001B[0m \u001B[0my\u001B[0m\u001B[1;33m,\u001B[0m \u001B[0mforce_same_dtype\u001B[0m\u001B[1;33m=\u001B[0m\u001B[1;32mFalse\u001B[0m\u001B[1;33m)\u001B[0m\u001B[1;33m\u001B[0m\u001B[1;33m\u001B[0m\u001B[0m\n\u001B[1;32m-> 1383\u001B[1;33m         \u001B[1;32mreturn\u001B[0m \u001B[0mfunc\u001B[0m\u001B[1;33m(\u001B[0m\u001B[0mx\u001B[0m\u001B[1;33m,\u001B[0m \u001B[0my\u001B[0m\u001B[1;33m,\u001B[0m \u001B[0mname\u001B[0m\u001B[1;33m=\u001B[0m\u001B[0mname\u001B[0m\u001B[1;33m)\u001B[0m\u001B[1;33m\u001B[0m\u001B[1;33m\u001B[0m\u001B[0m\n\u001B[0m\u001B[0;32m   1384\u001B[0m       \u001B[1;32mexcept\u001B[0m \u001B[1;33m(\u001B[0m\u001B[0mTypeError\u001B[0m\u001B[1;33m,\u001B[0m \u001B[0mValueError\u001B[0m\u001B[1;33m)\u001B[0m \u001B[1;32mas\u001B[0m \u001B[0me\u001B[0m\u001B[1;33m:\u001B[0m\u001B[1;33m\u001B[0m\u001B[1;33m\u001B[0m\u001B[0m\n\u001B[0;32m   1385\u001B[0m         \u001B[1;31m# Even if dispatching the op failed, the RHS may be a tensor aware\u001B[0m\u001B[1;33m\u001B[0m\u001B[1;33m\u001B[0m\u001B[0m\n",
      "\u001B[1;32mC:\\Development\\Anaconda3\\lib\\site-packages\\tensorflow\\python\\ops\\math_ops.py\u001B[0m in \u001B[0;36m_mul_dispatch\u001B[1;34m(x, y, name)\u001B[0m\n\u001B[0;32m   1745\u001B[0m     \u001B[1;32mreturn\u001B[0m \u001B[0msparse_tensor\u001B[0m\u001B[1;33m.\u001B[0m\u001B[0mSparseTensor\u001B[0m\u001B[1;33m(\u001B[0m\u001B[0my\u001B[0m\u001B[1;33m.\u001B[0m\u001B[0mindices\u001B[0m\u001B[1;33m,\u001B[0m \u001B[0mnew_vals\u001B[0m\u001B[1;33m,\u001B[0m \u001B[0my\u001B[0m\u001B[1;33m.\u001B[0m\u001B[0mdense_shape\u001B[0m\u001B[1;33m)\u001B[0m\u001B[1;33m\u001B[0m\u001B[1;33m\u001B[0m\u001B[0m\n\u001B[0;32m   1746\u001B[0m   \u001B[1;32melse\u001B[0m\u001B[1;33m:\u001B[0m\u001B[1;33m\u001B[0m\u001B[1;33m\u001B[0m\u001B[0m\n\u001B[1;32m-> 1747\u001B[1;33m     \u001B[1;32mreturn\u001B[0m \u001B[0mmultiply\u001B[0m\u001B[1;33m(\u001B[0m\u001B[0mx\u001B[0m\u001B[1;33m,\u001B[0m \u001B[0my\u001B[0m\u001B[1;33m,\u001B[0m \u001B[0mname\u001B[0m\u001B[1;33m=\u001B[0m\u001B[0mname\u001B[0m\u001B[1;33m)\u001B[0m\u001B[1;33m\u001B[0m\u001B[1;33m\u001B[0m\u001B[0m\n\u001B[0m\u001B[0;32m   1748\u001B[0m \u001B[1;33m\u001B[0m\u001B[0m\n\u001B[0;32m   1749\u001B[0m \u001B[1;33m\u001B[0m\u001B[0m\n",
      "\u001B[1;32mC:\\Development\\Anaconda3\\lib\\site-packages\\tensorflow\\python\\util\\traceback_utils.py\u001B[0m in \u001B[0;36merror_handler\u001B[1;34m(*args, **kwargs)\u001B[0m\n\u001B[0;32m    148\u001B[0m     \u001B[0mfiltered_tb\u001B[0m \u001B[1;33m=\u001B[0m \u001B[1;32mNone\u001B[0m\u001B[1;33m\u001B[0m\u001B[1;33m\u001B[0m\u001B[0m\n\u001B[0;32m    149\u001B[0m     \u001B[1;32mtry\u001B[0m\u001B[1;33m:\u001B[0m\u001B[1;33m\u001B[0m\u001B[1;33m\u001B[0m\u001B[0m\n\u001B[1;32m--> 150\u001B[1;33m       \u001B[1;32mreturn\u001B[0m \u001B[0mfn\u001B[0m\u001B[1;33m(\u001B[0m\u001B[1;33m*\u001B[0m\u001B[0margs\u001B[0m\u001B[1;33m,\u001B[0m \u001B[1;33m**\u001B[0m\u001B[0mkwargs\u001B[0m\u001B[1;33m)\u001B[0m\u001B[1;33m\u001B[0m\u001B[1;33m\u001B[0m\u001B[0m\n\u001B[0m\u001B[0;32m    151\u001B[0m     \u001B[1;32mexcept\u001B[0m \u001B[0mException\u001B[0m \u001B[1;32mas\u001B[0m \u001B[0me\u001B[0m\u001B[1;33m:\u001B[0m\u001B[1;33m\u001B[0m\u001B[1;33m\u001B[0m\u001B[0m\n\u001B[0;32m    152\u001B[0m       \u001B[0mfiltered_tb\u001B[0m \u001B[1;33m=\u001B[0m \u001B[0m_process_traceback_frames\u001B[0m\u001B[1;33m(\u001B[0m\u001B[0me\u001B[0m\u001B[1;33m.\u001B[0m\u001B[0m__traceback__\u001B[0m\u001B[1;33m)\u001B[0m\u001B[1;33m\u001B[0m\u001B[1;33m\u001B[0m\u001B[0m\n",
      "\u001B[1;32mC:\\Development\\Anaconda3\\lib\\site-packages\\tensorflow\\python\\util\\dispatch.py\u001B[0m in \u001B[0;36mop_dispatch_handler\u001B[1;34m(*args, **kwargs)\u001B[0m\n\u001B[0;32m   1094\u001B[0m       \u001B[1;31m# Fallback dispatch system (dispatch v1):\u001B[0m\u001B[1;33m\u001B[0m\u001B[1;33m\u001B[0m\u001B[0m\n\u001B[0;32m   1095\u001B[0m       \u001B[1;32mtry\u001B[0m\u001B[1;33m:\u001B[0m\u001B[1;33m\u001B[0m\u001B[1;33m\u001B[0m\u001B[0m\n\u001B[1;32m-> 1096\u001B[1;33m         \u001B[1;32mreturn\u001B[0m \u001B[0mdispatch_target\u001B[0m\u001B[1;33m(\u001B[0m\u001B[1;33m*\u001B[0m\u001B[0margs\u001B[0m\u001B[1;33m,\u001B[0m \u001B[1;33m**\u001B[0m\u001B[0mkwargs\u001B[0m\u001B[1;33m)\u001B[0m\u001B[1;33m\u001B[0m\u001B[1;33m\u001B[0m\u001B[0m\n\u001B[0m\u001B[0;32m   1097\u001B[0m       \u001B[1;32mexcept\u001B[0m \u001B[1;33m(\u001B[0m\u001B[0mTypeError\u001B[0m\u001B[1;33m,\u001B[0m \u001B[0mValueError\u001B[0m\u001B[1;33m)\u001B[0m\u001B[1;33m:\u001B[0m\u001B[1;33m\u001B[0m\u001B[1;33m\u001B[0m\u001B[0m\n\u001B[0;32m   1098\u001B[0m         \u001B[1;31m# Note: convert_to_eager_tensor currently raises a ValueError, not a\u001B[0m\u001B[1;33m\u001B[0m\u001B[1;33m\u001B[0m\u001B[0m\n",
      "\u001B[1;32mC:\\Development\\Anaconda3\\lib\\site-packages\\tensorflow\\python\\ops\\math_ops.py\u001B[0m in \u001B[0;36mmultiply\u001B[1;34m(x, y, name)\u001B[0m\n\u001B[0;32m    532\u001B[0m   \"\"\"\n\u001B[0;32m    533\u001B[0m \u001B[1;33m\u001B[0m\u001B[0m\n\u001B[1;32m--> 534\u001B[1;33m   \u001B[1;32mreturn\u001B[0m \u001B[0mgen_math_ops\u001B[0m\u001B[1;33m.\u001B[0m\u001B[0mmul\u001B[0m\u001B[1;33m(\u001B[0m\u001B[0mx\u001B[0m\u001B[1;33m,\u001B[0m \u001B[0my\u001B[0m\u001B[1;33m,\u001B[0m \u001B[0mname\u001B[0m\u001B[1;33m)\u001B[0m\u001B[1;33m\u001B[0m\u001B[1;33m\u001B[0m\u001B[0m\n\u001B[0m\u001B[0;32m    535\u001B[0m \u001B[1;33m\u001B[0m\u001B[0m\n\u001B[0;32m    536\u001B[0m \u001B[1;33m\u001B[0m\u001B[0m\n",
      "\u001B[1;32mC:\\Development\\Anaconda3\\lib\\site-packages\\tensorflow\\python\\ops\\gen_math_ops.py\u001B[0m in \u001B[0;36mmul\u001B[1;34m(x, y, name)\u001B[0m\n\u001B[0;32m   6573\u001B[0m   \u001B[1;32mif\u001B[0m \u001B[0mtld\u001B[0m\u001B[1;33m.\u001B[0m\u001B[0mis_eager\u001B[0m\u001B[1;33m:\u001B[0m\u001B[1;33m\u001B[0m\u001B[1;33m\u001B[0m\u001B[0m\n\u001B[0;32m   6574\u001B[0m     \u001B[1;32mtry\u001B[0m\u001B[1;33m:\u001B[0m\u001B[1;33m\u001B[0m\u001B[1;33m\u001B[0m\u001B[0m\n\u001B[1;32m-> 6575\u001B[1;33m       _result = pywrap_tfe.TFE_Py_FastPathExecute(\n\u001B[0m\u001B[0;32m   6576\u001B[0m         _ctx, \"Mul\", name, x, y)\n\u001B[0;32m   6577\u001B[0m       \u001B[1;32mreturn\u001B[0m \u001B[0m_result\u001B[0m\u001B[1;33m\u001B[0m\u001B[1;33m\u001B[0m\u001B[0m\n",
      "\u001B[1;31mKeyboardInterrupt\u001B[0m: "
     ]
    }
   ],
   "source": [
    "# Instantiates the PTBModel class\n",
    "m=PTBModel.instance()   \n",
    "K = tf.keras.backend \n",
    "for i in range(max_epoch):\n",
    "    # Define the decay for this epoch\n",
    "    lr_decay = decay ** max(i - max_epoch_decay_lr, 0.0)\n",
    "    dcr = learning_rate * lr_decay\n",
    "    m._lr = dcr\n",
    "    K.set_value(m._model.optimizer.learning_rate,m._lr)\n",
    "    print(\"Epoch %d : Learning rate: %.3f\" % (i + 1, m._model.optimizer.learning_rate))\n",
    "    # Run the loop for this epoch in the training mode\n",
    "    train_perplexity = run_one_epoch(m, train_data,is_training=True,verbose=True)\n",
    "    print(\"Epoch %d : Train Perplexity: %.3f\" % (i + 1, train_perplexity))\n",
    "        \n",
    "    # Run the loop for this epoch in the validation mode\n",
    "    valid_perplexity = run_one_epoch(m, valid_data,is_training=False,verbose=False)\n",
    "    print(\"Epoch %d : Valid Perplexity: %.3f\" % (i + 1, valid_perplexity))\n",
    "    \n",
    "# Run the loop in the testing mode to see how effective was our training\n",
    "test_perplexity = run_one_epoch(m, test_data,is_training=False,verbose=False)\n",
    "print(\"Test Perplexity: %.3f\" % test_perplexity)\n",
    "\n"
   ]
  },
  {
   "cell_type": "markdown",
   "metadata": {
    "button": false,
    "deletable": true,
    "new_sheet": false,
    "run_control": {
     "read_only": false
    }
   },
   "source": [
    "As you can see, the model's perplexity rating drops very quickly after a few iterations. As was elaborated before, <b>lower Perplexity means that the model is more certain about its prediction</b>. As such, we can be sure that this model is performing well!\n"
   ]
  },
  {
   "cell_type": "markdown",
   "metadata": {
    "button": false,
    "deletable": true,
    "new_sheet": false,
    "run_control": {
     "read_only": false
    }
   },
   "source": [
    "***\n"
   ]
  },
  {
   "cell_type": "markdown",
   "metadata": {
    "button": false,
    "deletable": true,
    "new_sheet": false,
    "run_control": {
     "read_only": false
    }
   },
   "source": [
    "This is the end of the <b>Applying Recurrent Neural Networks to Text Processing</b> notebook. Hopefully you now have a better understanding of Recurrent Neural Networks and how to implement one utilizing TensorFlow. Thank you for reading this notebook, and good luck on your studies.\n"
   ]
  },
  {
   "cell_type": "markdown",
   "metadata": {
    "button": false,
    "deletable": true,
    "new_sheet": false,
    "run_control": {
     "read_only": false
    }
   },
   "source": [
    "## Want to learn more?\n",
    "\n",
    "Also, you can use **Watson Studio** to run these notebooks faster with bigger datasets.**Watson Studio** is IBM’s leading cloud solution for data scientists, built by data scientists. With Jupyter notebooks, RStudio, Apache Spark and popular libraries pre-packaged in the cloud, **Watson Studio** enables data scientists to collaborate on their projects without having to install anything. Join the fast-growing community of **Watson Studio** users today with a free account at [Watson Studio](https://cocl.us/ML0120EN_DSX).This is the end of this lesson. Thank you for reading this notebook, and good luck on your studies.\n"
   ]
  },
  {
   "cell_type": "markdown",
   "metadata": {
    "button": false,
    "deletable": true,
    "new_sheet": false,
    "run_control": {
     "read_only": false
    }
   },
   "source": [
    "### Thanks for completing this lesson!\n",
    "\n",
    "Notebook created by <a href=\"https://br.linkedin.com/in/walter-gomes-de-amorim-junior-624726121?utm_medium=Exinfluencer&utm_source=Exinfluencer&utm_content=000026UJ&utm_term=10006555&utm_id=NA-SkillsNetwork-Channel-SkillsNetworkCoursesIBMDeveloperSkillsNetworkDL0120ENSkillsNetwork20629446-2021-01-01\">Walter Gomes de Amorim Junior</a>, <a href = \"https://linkedin.com/in/saeedaghabozorgi?utm_medium=Exinfluencer&utm_source=Exinfluencer&utm_content=000026UJ&utm_term=10006555&utm_id=NA-SkillsNetwork-Channel-SkillsNetworkCoursesIBMDeveloperSkillsNetworkDL0120ENSkillsNetwork20629446-2021-01-01\"> Saeed Aghabozorgi </a></h4>\n",
    "\n",
    "Updated to TF 2.X by  <a href=\"https://www.linkedin.com/in/samaya-madhavan?utm_medium=Exinfluencer&utm_source=Exinfluencer&utm_content=000026UJ&utm_term=10006555&utm_id=NA-SkillsNetwork-Channel-SkillsNetworkCoursesIBMDeveloperSkillsNetworkDL0120ENSkillsNetwork20629446-2021-01-01\"> Samaya Madhavan </a>\n"
   ]
  },
  {
   "cell_type": "markdown",
   "metadata": {
    "button": false,
    "deletable": true,
    "new_sheet": false,
    "run_control": {
     "read_only": false
    }
   },
   "source": [
    "<hr>\n",
    "\n",
    "Copyright © 2018 [Cognitive Class](https://cocl.us/DX0108EN_CC). This notebook and its source code are released under the terms of the [MIT License](https://bigdatauniversity.com/mit-license/?utm_medium=Exinfluencer&utm_source=Exinfluencer&utm_content=000026UJ&utm_term=10006555&utm_id=NA-SkillsNetwork-Channel-SkillsNetworkCoursesIBMDeveloperSkillsNetworkDL0120ENSkillsNetwork20629446-2021-01-01).\n"
   ]
  }
 ],
 "metadata": {
  "anaconda-cloud": {},
  "kernelspec": {
   "display_name": "Python 3 (ipykernel)",
   "language": "python",
   "name": "python3"
  },
  "language_info": {
   "codemirror_mode": {
    "name": "ipython",
    "version": 3
   },
   "file_extension": ".py",
   "mimetype": "text/x-python",
   "name": "python",
   "nbconvert_exporter": "python",
   "pygments_lexer": "ipython3",
   "version": "3.7.6"
  },
  "widgets": {
   "state": {},
   "version": "1.1.2"
  }
 },
 "nbformat": 4,
 "nbformat_minor": 4
}